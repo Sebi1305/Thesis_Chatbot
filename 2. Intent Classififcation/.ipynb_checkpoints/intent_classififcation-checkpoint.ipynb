{
 "cells": [
  {
   "cell_type": "markdown",
   "id": "3085bd38",
   "metadata": {},
   "source": [
    "# Intent Classification"
   ]
  },
  {
   "cell_type": "markdown",
   "id": "e24c3981",
   "metadata": {},
   "source": [
    "Für die Intent Clasification wird ein Feedforward Neuronales Netz impementiert und trainert mit einem Bag of Words Ansatz"
   ]
  },
  {
   "cell_type": "code",
   "execution_count": null,
   "id": "0bd76a24",
   "metadata": {},
   "outputs": [],
   "source": []
  },
  {
   "cell_type": "markdown",
   "id": "f0d24b66",
   "metadata": {},
   "source": [
    "## Import benötigter Bibliotheken"
   ]
  },
  {
   "cell_type": "code",
   "execution_count": null,
   "id": "a44f6e1b",
   "metadata": {
    "ExecuteTime": {
     "end_time": "2022-02-10T16:15:56.286328Z",
     "start_time": "2022-02-10T16:15:56.269373Z"
    }
   },
   "outputs": [],
   "source": [
    "# import of necessary libraries\n",
    "import nltk \n",
    "from nltk.stem.lancaster import LancasterStemmer\n",
    "stemmer = LancasterStemmer()\n",
    "\n",
    "import datefinder\n",
    "import numpy\n",
    "import tflearn \n",
    "import tensorflow\n",
    "import random \n",
    "import json\n",
    "import pickle\n",
    "import spacy\n",
    "import sqlite3\n",
    "import re"
   ]
  },
  {
   "cell_type": "markdown",
   "id": "714111be",
   "metadata": {},
   "source": [
    "## Trainingsdaten vorbereiten, Implementation und Training des Neuronalen Netzes"
   ]
  },
  {
   "cell_type": "code",
   "execution_count": null,
   "id": "bf45ab0f",
   "metadata": {
    "ExecuteTime": {
     "end_time": "2022-02-10T16:15:57.317672Z",
     "start_time": "2022-02-10T16:15:57.299460Z"
    }
   },
   "outputs": [],
   "source": [
    "# open and load json file with patterns --> questions and tags\n",
    "with open(\"intents.json\") as file:\n",
    "    data = json.load(file)"
   ]
  },
  {
   "cell_type": "code",
   "execution_count": null,
   "id": "cde3cb7f",
   "metadata": {
    "ExecuteTime": {
     "end_time": "2022-02-10T16:15:58.207466Z",
     "start_time": "2022-02-10T16:15:57.891787Z"
    }
   },
   "outputs": [],
   "source": [
    "# prepare training data + implement and train Neural Net\n",
    "try: \n",
    "    with open(\"data.pickle\", \"rb\") as f:\n",
    "        words, labels, training, output = pickle.load(f)\n",
    "except:\n",
    "    words = [] #all word in the json file\n",
    "    labels = [] #all intents in the json file\n",
    "    docs_x = [] #input of user\n",
    "    docs_y = [] #intent for each input\n",
    "\n",
    "    for intent in data[\"intents\"]:\n",
    "        for pattern in intent[\"patterns\"]:\n",
    "            #Stemming - Getting the root words with tokenize\n",
    "            wrds = nltk.word_tokenize(pattern)\n",
    "            words.extend(wrds)\n",
    "            docs_x.append(wrds)\n",
    "            docs_y.append(intent[\"tag\"])\n",
    "\n",
    "        if intent[\"tag\"] not in labels:\n",
    "            labels.append(intent[\"tag\"])\n",
    "\n",
    "    words = [stemmer.stem(w.lower()) for w in words if w != \"?\"]\n",
    "    words = sorted(list(set(words)))\n",
    "\n",
    "    labels = sorted(labels)\n",
    "\n",
    "    # Neural Network versteht nur Nummern --> Bag of words\n",
    "    training = []\n",
    "    output = []\n",
    "\n",
    "    out_empty = [0 for _ in range(len(labels))]\n",
    "\n",
    "    for x, doc in enumerate(docs_x):\n",
    "        bag =  []\n",
    "        wrds = [stemmer.stem(w) for w in doc]\n",
    "\n",
    "        for w in words: \n",
    "            if w in wrds:\n",
    "                bag.append(1)\n",
    "            else: \n",
    "                bag.append(0)\n",
    "\n",
    "\n",
    "        output_row = out_empty[:]\n",
    "        output_row[labels.index(docs_y[x])] = 1\n",
    "\n",
    "        training.append(bag)\n",
    "        output.append(output_row)\n",
    "\n",
    "    # in array für model\n",
    "    training = numpy.array(training)\n",
    "    output = numpy.array(output)\n",
    "    \n",
    "    with open(\"data.pickle\", \"wb\") as f:\n",
    "        pickle.dump((words, labels, training, output), f)\n",
    "        \n",
    "#create, train and save neural net\n",
    "tensorflow.compat.v1.reset_default_graph()\n",
    "    \n",
    "# Creating the Neural Network\n",
    "net = tflearn.input_data(shape= [None, len(training[0])]) #input layer Neurons = numer of words in training\n",
    "net = tflearn.fully_connected(net, 8) #hidden layer fully connected with 8 neuron\n",
    "net = tflearn.fully_connected(net, len(output[0]), activation=\"softmax\" ) #output layer 6 Neurons = labels\n",
    "net = tflearn.regression(net)\n",
    "\n",
    "model = tflearn.DNN(net)\n",
    "\n",
    "try:\n",
    "    model.load(\"model.tflearn\")\n",
    "except:\n",
    "    model.fit(training, output, n_epoch=1000, batch_size=8, show_metric=True)\n",
    "    model.save(\"model.tflearn\")\n"
   ]
  }
 ],
 "metadata": {
  "kernelspec": {
   "display_name": "prototype",
   "language": "python",
   "name": "prototype"
  },
  "language_info": {
   "codemirror_mode": {
    "name": "ipython",
    "version": 3
   },
   "file_extension": ".py",
   "mimetype": "text/x-python",
   "name": "python",
   "nbconvert_exporter": "python",
   "pygments_lexer": "ipython3",
   "version": "3.6.13"
  },
  "toc": {
   "base_numbering": 1,
   "nav_menu": {},
   "number_sections": true,
   "sideBar": true,
   "skip_h1_title": false,
   "title_cell": "Table of Contents",
   "title_sidebar": "Contents",
   "toc_cell": false,
   "toc_position": {},
   "toc_section_display": true,
   "toc_window_display": true
  }
 },
 "nbformat": 4,
 "nbformat_minor": 5
}
