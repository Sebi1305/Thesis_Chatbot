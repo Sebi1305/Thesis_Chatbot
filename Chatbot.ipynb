{
 "cells": [
  {
   "cell_type": "markdown",
   "id": "16151811",
   "metadata": {},
   "source": [
    "# Chatbot Prototyp"
   ]
  },
  {
   "cell_type": "markdown",
   "id": "bc3be9fe",
   "metadata": {},
   "source": [
    "In diesem Notebook werden alle Komponenten, die in den anderen Notebooks entwickelt, trainert und gespeichert wurden, zusammengefügt, um einen voll funktionsfähigen Chatbot zu bilden. \n",
    "\n",
    "Im folgenden sind einige kleinere Vorbereitungen zu erledigen, wie das laden der Modells und die Extraktion einiger Informationen aus der Datenbank um die Funktionsfähigkeit des Chatbots zu gewährleisten. "
   ]
  },
  {
   "cell_type": "markdown",
   "id": "e26fd30c",
   "metadata": {},
   "source": [
    "## Import benötigter Bibliotheken"
   ]
  },
  {
   "cell_type": "code",
   "execution_count": 1,
   "id": "a41749ce",
   "metadata": {
    "ExecuteTime": {
     "end_time": "2022-02-25T14:07:08.865053Z",
     "start_time": "2022-02-25T14:07:05.702665Z"
    }
   },
   "outputs": [
    {
     "name": "stdout",
     "output_type": "stream",
     "text": [
      "WARNING:tensorflow:From C:\\Users\\Sebi\\anaconda3\\envs\\prototype\\lib\\site-packages\\tensorflow\\python\\compat\\v2_compat.py:101: disable_resource_variables (from tensorflow.python.ops.variable_scope) is deprecated and will be removed in a future version.\n",
      "Instructions for updating:\n",
      "non-resource variables are not supported in the long term\n",
      "curses is not supported on this machine (please install/reinstall curses for an optimal experience)\n",
      "Scipy not supported!\n"
     ]
    }
   ],
   "source": [
    "# import of necessary libraries\n",
    "import nltk \n",
    "from nltk.stem.lancaster import LancasterStemmer\n",
    "stemmer = LancasterStemmer()\n",
    "\n",
    "import datefinder\n",
    "import numpy\n",
    "import tflearn \n",
    "import tensorflow\n",
    "import random \n",
    "import json\n",
    "import pickle\n",
    "import spacy\n",
    "import sqlite3\n",
    "import re\n",
    "import os\n",
    "import sqlite3\n",
    "from difflib import SequenceMatcher"
   ]
  },
  {
   "cell_type": "markdown",
   "id": "10bac6de",
   "metadata": {},
   "source": [
    "## Intent Classififcation "
   ]
  },
  {
   "cell_type": "markdown",
   "id": "18556fd2",
   "metadata": {},
   "source": [
    "Das Neuronale Netzwerk wurde zuvor in einem separaten Notebook erstellt, trainert und gespeichert. Der folgende Code versucht das gespeciherte Neuronale Netzwerk zu laden. Falls dies nicht möglich sein sollte wird ein neues Neuronales Netzwerk erstellt und trainiert. Hierzu werden die Trainingsdaten \"data.pickle\" geladen und die Layer des Netztes definiert."
   ]
  },
  {
   "cell_type": "code",
   "execution_count": 2,
   "id": "cba1d458",
   "metadata": {
    "ExecuteTime": {
     "end_time": "2022-02-25T14:07:08.895735Z",
     "start_time": "2022-02-25T14:07:08.865053Z"
    }
   },
   "outputs": [],
   "source": [
    "path = r\"C:\\Users\\Sebi\\OneDrive\\Studium\\Thesis_Chatbot\\2. Intent Classififcation\"\n",
    "with open(path + \"\\data.pickle\", \"rb\") as f:\n",
    "    words, labels, training, output = pickle.load(f)"
   ]
  },
  {
   "cell_type": "code",
   "execution_count": 3,
   "id": "bcf2b8bb",
   "metadata": {
    "ExecuteTime": {
     "end_time": "2022-02-25T14:07:09.267238Z",
     "start_time": "2022-02-25T14:07:08.901725Z"
    }
   },
   "outputs": [
    {
     "name": "stdout",
     "output_type": "stream",
     "text": [
      "WARNING:tensorflow:From C:\\Users\\Sebi\\anaconda3\\envs\\prototype\\lib\\site-packages\\tflearn\\initializations.py:165: calling TruncatedNormal.__init__ (from tensorflow.python.ops.init_ops) with dtype is deprecated and will be removed in a future version.\n",
      "Instructions for updating:\n",
      "Call initializer instance with the dtype argument instead of passing it to the constructor\n",
      "INFO:tensorflow:Restoring parameters from C:\\Users\\Sebi\\OneDrive\\Studium\\Thesis_Chatbot\\2. Intent Classififcation\\model.tflearn\n"
     ]
    }
   ],
   "source": [
    "tensorflow.compat.v1.reset_default_graph()\n",
    "    \n",
    "# Creating the Neural Network\n",
    "net = tflearn.input_data(shape= [None, len(training[0])]) #input layer Neurons = numer of words in training\n",
    "net = tflearn.fully_connected(net, 8) #hidden layer fully connected with 8 neuron\n",
    "net = tflearn.fully_connected(net, len(output[0]), activation=\"softmax\" ) #output layer 6 Neurons = labels\n",
    "net = tflearn.regression(net)\n",
    "\n",
    "model = tflearn.DNN(net)\n",
    "\n",
    "try:\n",
    "    model.load(r\"C:\\Users\\Sebi\\OneDrive\\Studium\\Thesis_Chatbot\\2. Intent Classififcation\\model.tflearn\")\n",
    "except:\n",
    "    model.fit(training, output, n_epoch=1000, batch_size=8, show_metric=True)\n",
    "    model.save(r\"C:\\Users\\Sebi\\OneDrive\\Studium\\Thesis_Chatbot\\2. Intent Classififcation\\model.tflearn\")"
   ]
  },
  {
   "cell_type": "code",
   "execution_count": 4,
   "id": "611c102e",
   "metadata": {
    "ExecuteTime": {
     "end_time": "2022-02-25T14:07:09.297855Z",
     "start_time": "2022-02-25T14:07:09.269237Z"
    }
   },
   "outputs": [
    {
     "data": {
      "text/plain": [
       "<tflearn.models.dnn.DNN at 0x1cafaf2c748>"
      ]
     },
     "execution_count": 4,
     "metadata": {},
     "output_type": "execute_result"
    }
   ],
   "source": [
    "model"
   ]
  },
  {
   "cell_type": "code",
   "execution_count": 5,
   "id": "2ec67aa3",
   "metadata": {
    "ExecuteTime": {
     "end_time": "2022-02-25T14:07:09.313773Z",
     "start_time": "2022-02-25T14:07:09.300804Z"
    }
   },
   "outputs": [],
   "source": [
    "# Transformation des Inputs in Zahlen, um es lesbar für das Neuronale Netz zu machen\n",
    "def bag_of_words(s, words):\n",
    "    bag = [0 for _ in range(len(words))]\n",
    "    \n",
    "    s_words = nltk.word_tokenize(s)\n",
    "    s_words = [stemmer.stem(word.lower()) for word in s_words]\n",
    "    \n",
    "    for se in s_words:\n",
    "        for i, w in enumerate(words):\n",
    "            if w == se:\n",
    "                bag[i] = 1\n",
    "    \n",
    "    return numpy.array(bag)"
   ]
  },
  {
   "cell_type": "markdown",
   "id": "438f3588",
   "metadata": {},
   "source": [
    "## Slot filling"
   ]
  },
  {
   "cell_type": "markdown",
   "id": "8bd5cb81",
   "metadata": {
    "ExecuteTime": {
     "end_time": "2022-02-20T14:48:04.044028Z",
     "start_time": "2022-02-20T14:48:04.027074Z"
    }
   },
   "source": [
    "Für die Extraktion der verschiedenen Zusatzinformationen müssen unteranderem bereits bekannte Namen aus der Datenbank extrahiert werden und in Listen gespeichert werden. Eine Funktion gleicht den Input des Benutzers mit den Namen ab, um zu prüfen ob der vom Benutzer genannte Professor bekannt ist oder nicht. Zusätzlich werden zuvor trainerte Custom NER Modelle geladen und die Slot Filling definiert."
   ]
  },
  {
   "cell_type": "code",
   "execution_count": 6,
   "id": "099c0392",
   "metadata": {
    "ExecuteTime": {
     "end_time": "2022-02-25T14:07:19.511316Z",
     "start_time": "2022-02-25T14:07:19.500308Z"
    }
   },
   "outputs": [],
   "source": [
    "conn = sqlite3.connect(\"PROF_INFO_DB.db\")\n",
    "cur = conn.cursor()\n",
    "cur.execute(\"select first_name FROM PROF_INFO_TABLE\")\n",
    "conn.commit()\n",
    "first_names = cur.fetchall()\n",
    "conn.close()\n",
    "\n",
    "#first_names"
   ]
  },
  {
   "cell_type": "code",
   "execution_count": 7,
   "id": "3d774eb1",
   "metadata": {
    "ExecuteTime": {
     "end_time": "2022-02-25T14:07:19.857789Z",
     "start_time": "2022-02-25T14:07:19.838802Z"
    }
   },
   "outputs": [],
   "source": [
    "#liste mit allen first_names\n",
    "first_names_list = []\n",
    "for i in range(len(first_names)):\n",
    "    answer = \" \".join(first_names[i])\n",
    "    answer.strip()\n",
    "    first_names_list.append(answer)\n",
    "\n",
    "#first_names_list"
   ]
  },
  {
   "cell_type": "code",
   "execution_count": 8,
   "id": "d50161ce",
   "metadata": {
    "ExecuteTime": {
     "end_time": "2022-02-25T14:07:20.631707Z",
     "start_time": "2022-02-25T14:07:20.623728Z"
    }
   },
   "outputs": [],
   "source": [
    "conn = sqlite3.connect(\"PROF_INFO_DB.db\")\n",
    "cur = conn.cursor()\n",
    "cur.execute(\"select last_name FROM PROF_INFO_TABLE\")\n",
    "conn.commit()\n",
    "last_names = cur.fetchall()\n",
    "conn.close()\n",
    "\n",
    "#last_names"
   ]
  },
  {
   "cell_type": "code",
   "execution_count": 10,
   "id": "20b5ec84",
   "metadata": {
    "ExecuteTime": {
     "end_time": "2022-02-25T14:07:32.277524Z",
     "start_time": "2022-02-25T14:07:32.262281Z"
    }
   },
   "outputs": [],
   "source": [
    "#liste mit allen last_names\n",
    "last_names_list = []\n",
    "for i in range(len(last_names)):\n",
    "    answer = \" \".join(last_names[i])\n",
    "    answer.strip()\n",
    "    last_names_list.append(answer)\n",
    "\n",
    "#last_names_list"
   ]
  },
  {
   "cell_type": "code",
   "execution_count": 11,
   "id": "6f548b49",
   "metadata": {
    "ExecuteTime": {
     "end_time": "2022-02-25T14:07:53.633247Z",
     "start_time": "2022-02-25T14:07:33.237141Z"
    }
   },
   "outputs": [],
   "source": [
    "#lod the custom NER models\n",
    "nlp_research_area = spacy.load(r\"C:\\Users\\Sebi\\OneDrive\\Studium\\Thesis_Chatbot\\3. Slot Filling/custom_ner_model_research_area\")\n",
    "nlp_study = spacy.load(r\"C:\\Users\\Sebi\\OneDrive\\Studium\\Thesis_Chatbot\\3. Slot Filling/custom_ner_model_study\")"
   ]
  },
  {
   "cell_type": "code",
   "execution_count": 12,
   "id": "58329dfd",
   "metadata": {
    "ExecuteTime": {
     "end_time": "2022-02-25T14:07:53.663740Z",
     "start_time": "2022-02-25T14:07:53.636197Z"
    }
   },
   "outputs": [],
   "source": [
    "def slot_filling(inp, intent):\n",
    "    # liste with intents that need information\n",
    "    intent_prof_contact=[\"prof_telephone_query_name\", \"prof_email_query_name\", \"prof_office_query_name\", \"prof_research_area_query_name\", \"prof_study_query_name\"]\n",
    "    intent_generic_conversation=[\"greeting\",\"greeting_response\",\"courtesy_greeting\",\"courtesy_greeting_response\",\"real_name_query\", \"goodbye\",\"task_response\"]\n",
    "        \n",
    "    if intent == \"prof_name_query_telephone\":\n",
    "        re_number_1 = r\"\\D[\\d]{2}? [\\d]{4} [\\d]{3} [\\d]{4}\"\n",
    "        re_number_2 = r\"\\D[\\d]{2}? [\\d]{4} [\\d]{3} [\\d]{3}\"\n",
    "        re_number_3 = r\"\\D[\\d]{2} [\\(][\\d]{1}[\\)] [\\d]{4} [\\d]{3} [\\d]{4}\"\n",
    "        extracted_info = re.compile(\"(%s|%s|%s)\" % (re_number_1, re_number_2, re_number_3)).findall(inp) \n",
    "\n",
    "    elif intent == \"prof_name_query_email\":\n",
    "        extracted_info = re.findall('\\S+@\\S+', inp)\n",
    "\n",
    "    elif intent == \"prof_name_query_office\":\n",
    "        re_office_1 = r\"[A-Z, a-z].\\d{1}.\\d{2}\"\n",
    "        re_office_2 = r\"[A-Z, a-z].\\d{3}\"\n",
    "        extracted_info = re.compile(\"(%s|%s)\" % (re_office_1, re_office_2)).findall(inp)\n",
    "\n",
    "    elif intent == \"prof_name_query_research_area\":\n",
    "        doc = nlp_research_area(inp)\n",
    "        for ent in doc.ents:\n",
    "            if ent.label_ == \"RESEARCH_AREA\":\n",
    "                extracted_info = ent.text    \n",
    "\n",
    "    elif intent == \"prof_name_query_study\":\n",
    "        doc = nlp_study(inp)\n",
    "        for ent in doc.ents:\n",
    "            if ent.label_ == \"STUDY\":\n",
    "                extracted_info = ent.text  \n",
    "\n",
    "    elif intent == \"prof_name_query_lastname\":\n",
    "        for first_name in first_names_list:\n",
    "            for word in inp.split():\n",
    "                if SequenceMatcher(None, first_name, word).ratio() >= 0.7:\n",
    "                    extracted_info = first_name\n",
    "\n",
    "    elif intent == \"prof_name_query_firstname\":\n",
    "        for last_name in last_names_list:\n",
    "            for word in inp.split():\n",
    "                if SequenceMatcher(None, last_name, word).ratio() >= 0.7:\n",
    "                    extracted_info = last_name\n",
    "\n",
    "    elif intent in intent_prof_contact:\n",
    "        for last_name in last_names_list:\n",
    "            for word in inp.split():\n",
    "                if SequenceMatcher(None, last_name, word).ratio() >= 0.7:\n",
    "                    extracted_info = last_name\n",
    "\n",
    "    elif intent in intent_generic_conversation:\n",
    "        extracted_info = \"generic intent no need for info extraction\"\n",
    "\n",
    "    else:\n",
    "        extracted_info = \"nobody/ nothing\"\n",
    "    \n",
    "    return extracted_info"
   ]
  },
  {
   "cell_type": "markdown",
   "id": "3279aeb8",
   "metadata": {
    "ExecuteTime": {
     "end_time": "2022-02-25T14:08:07.164253Z",
     "start_time": "2022-02-25T14:08:07.146037Z"
    }
   },
   "source": [
    "## Action Execution"
   ]
  },
  {
   "cell_type": "markdown",
   "id": "58de9556",
   "metadata": {
    "ExecuteTime": {
     "end_time": "2022-02-25T14:08:20.504401Z",
     "start_time": "2022-02-25T14:08:20.497389Z"
    }
   },
   "source": [
    "### Information Retrieval"
   ]
  },
  {
   "cell_type": "code",
   "execution_count": 15,
   "id": "f8b26124",
   "metadata": {
    "ExecuteTime": {
     "end_time": "2022-02-25T14:08:30.714250Z",
     "start_time": "2022-02-25T14:08:30.690316Z"
    }
   },
   "outputs": [],
   "source": [
    "def action_execution_retrieval(intent, condition = str):\n",
    "    # liste with intents that need information\n",
    "    intent_generic_conversation=[\"greeting\",\"greeting_response\",\"courtesy_greeting\",\"courtesy_greeting_response\",\"real_name_query\", \"goodbye\",\"task_response\"]\n",
    "\n",
    "    \n",
    "    #connect to database\n",
    "    conn = sqlite3.connect(\"PROF_INFO_DB.db\")\n",
    "    cur = conn.cursor()\n",
    "    \n",
    "    #TELEPHONE\n",
    "    if intent == \"prof_name_query_telephone\":\n",
    "        cur.execute(\"select title, first_name, last_name FROM PROF_INFO_TABLE where telephone = ? COLLATE NOCASE\", (condition[0],))\n",
    "        conn.commit()\n",
    "        answer = cur.fetchall()\n",
    "\n",
    "    elif intent == \"prof_name_query_email\": \n",
    "        cur.execute(\"select title, first_name, last_name FROM PROF_INFO_TABLE where email = ? COLLATE NOCASE\", (condition[0],))\n",
    "        conn.commit()\n",
    "        answer = cur.fetchall()\n",
    "        \n",
    "    elif intent == \"prof_name_query_office\":\n",
    "        cur.execute(\"select title, first_name, last_name FROM PROF_INFO_TABLE where office = ? COLLATE NOCASE\", (condition[0],))\n",
    "        conn.commit()\n",
    "        answer = cur.fetchall()\n",
    "        \n",
    "    elif intent == \"prof_name_query_research_area\":\n",
    "        cur.execute(\"SELECT title, first_name, last_name FROM PROF_INFO_TABLE INNER JOIN PROF_RESEARCH_AREA_TABLE on PROF_RESEARCH_AREA_TABLE.prof_id = PROF_INFO_TABLE.prof_id WHERE research_area = ? COLLATE NOCASE\", (condition,))\n",
    "        conn.commit()\n",
    "        answer = cur.fetchone()\n",
    "    \n",
    "    elif intent == \"prof_name_query_study\":\n",
    "        cur.execute(\"SELECT title, first_name, last_name FROM PROF_INFO_TABLE INNER JOIN PROF_STUDY_TABLE on PROF_STUDY_TABLE.prof_id = PROF_INFO_TABLE.prof_id WHERE study = ? COLLATE NOCASE\", (condition,))\n",
    "        conn.commit()\n",
    "        answer = cur.fetchone()\n",
    "        \n",
    "    elif intent == \"prof_name_query_lastname\":\n",
    "        cur.execute(\"select last_name FROM PROF_INFO_TABLE where first_name = ? COLLATE NOCASE\", (condition,))\n",
    "        conn.commit()\n",
    "        answer = cur.fetchall()\n",
    "        \n",
    "    elif intent == \"prof_name_query_firstname\":\n",
    "        cur.execute(\"select first_name FROM PROF_INFO_TABLE where last_name = ? COLLATE NOCASE\", (condition,))\n",
    "        conn.commit()\n",
    "        answer = cur.fetchall()\n",
    "        \n",
    "    elif intent == \"prof_telephone_query_name\":\n",
    "        cur.execute(\"select telephone FROM PROF_INFO_TABLE where last_name =? COLLATE NOCASE\", (condition,))\n",
    "        conn.commit()\n",
    "        answer = cur.fetchall()\n",
    "    \n",
    "    elif intent == \"prof_email_query_name\":\n",
    "        cur.execute(\"select email FROM PROF_INFO_TABLE where last_name =? COLLATE NOCASE\", (condition,))\n",
    "        conn.commit()\n",
    "        answer = cur.fetchall()\n",
    "        \n",
    "    elif intent == \"prof_office_query_name\":\n",
    "        cur.execute(\"select office FROM PROF_INFO_TABLE where last_name =? COLLATE NOCASE\", (condition,))\n",
    "        conn.commit()\n",
    "        answer = cur.fetchall()\n",
    "        \n",
    "    elif intent == \"prof_research_area_query_name\":\n",
    "        cur.execute(\"SELECT research_area FROM PROF_RESEARCH_AREA_TABLE INNER JOIN PROF_INFO_TABLE on PROF_INFO_TABLE.prof_id = PROF_RESEARCH_AREA_TABLE.prof_id WHERE last_name = ? COLLATE NOCASE\", (condition,))\n",
    "        conn.commit()\n",
    "        answer = cur.fetchall()\n",
    "        \n",
    "    elif intent == \"prof_study_query_name\":\n",
    "        cur.execute(\"SELECT study FROM PROF_STUDY_TABLE INNER JOIN PROF_INFO_TABLE on PROF_INFO_TABLE.prof_id = PROF_STUDY_TABLE.prof_id WHERE last_name = ? COLLATE NOCASE\", (condition,))\n",
    "        conn.commit()\n",
    "        answer = cur.fetchall()\n",
    "        \n",
    "    \n",
    "    if intent in intent_generic_conversation:\n",
    "        answer = \"generic conversation no data retrieval necessary\"\n",
    "    \n",
    "    return answer"
   ]
  },
  {
   "cell_type": "markdown",
   "id": "1362eea3",
   "metadata": {},
   "source": [
    "## Response Generation"
   ]
  },
  {
   "cell_type": "code",
   "execution_count": 16,
   "id": "ba36eeee",
   "metadata": {
    "ExecuteTime": {
     "end_time": "2022-02-25T14:08:49.883588Z",
     "start_time": "2022-02-25T14:08:49.860597Z"
    }
   },
   "outputs": [],
   "source": [
    "def reponse_generation(intent, answer, condition):\n",
    "    \n",
    "    if intent == \"greeting\":\n",
    "        response = \"Hello :)\"\n",
    "    \n",
    "    elif intent == \"greeting_response\":\n",
    "        response = \"Nice to meet you\"\n",
    "        \n",
    "    elif intent == \"courtesy_greeting\":\n",
    "        response = \"I'm great. Thanks for asking. How are you?\"\n",
    "        \n",
    "    elif intent == \"courtesy_greeting_response\":\n",
    "        response = \"Nice to meet you\"\n",
    "        \n",
    "    elif intent == \"real_name_query\":\n",
    "        response = \"My name is Chatbot. Whats your name?\"\n",
    "        \n",
    "    elif intent == \"goodbye\":\n",
    "        response = \"Goodbye :)\"\n",
    "        \n",
    "    elif intent == \"task_response\":\n",
    "        response = \"I know almost everything about the professors of HHN. Just ask me :)\"      \n",
    "    \n",
    "    elif intent == \"prof_name_query_telephone\":\n",
    "        response = \"The phone number \" + condition[0] + \" belongs to \" + answer[0][0] + \" \" + answer[0][1] + \" \" + answer[0][2]\n",
    "\n",
    "    elif intent == \"prof_name_query_email\": \n",
    "        response = \"The email \" + condition[0] + \" belongs to \" + answer[0][0] + \" \" + answer[0][1] + \" \" + answer[0][2]\n",
    "        \n",
    "    elif intent == \"prof_name_query_office\":\n",
    "        response = \"The office \" + condition[0] + \" belongs to \" + answer[0][0] + \" \" + answer[0][1] + \" \" + answer[0][2]\n",
    "        \n",
    "    elif intent == \"prof_name_query_research_area\":\n",
    "        response = answer[0] + \" \" + answer[1] + \" \" + answer[2] +  \" is an expert in \"+ condition\n",
    "    \n",
    "    elif intent == \"prof_name_query_study\":\n",
    "        response = answer[0] + \" \" + answer[1] + \" \" + answer[2] + \" is a professor in \"+ condition\n",
    "        \n",
    "    elif intent == \"prof_name_query_lastname\":\n",
    "        response = \"The last name of \" + condition + \" is \" + answer[0][0]\n",
    "        \n",
    "    elif intent == \"prof_name_query_firstname\":\n",
    "        response = \"The first name of \" + condition + \" is \" + answer[0][0]\n",
    "        \n",
    "    elif intent == \"prof_telephone_query_name\":\n",
    "        response = \"The phone number of \" + condition + \" is \" + answer[0][0]\n",
    "    \n",
    "    elif intent == \"prof_email_query_name\":\n",
    "        response = \"The email of \" + condition + \" is \" + answer[0][0]\n",
    "        \n",
    "    elif intent == \"prof_office_query_name\":\n",
    "        response = \"The office of \" + condition + \" is \" + answer[0][0]\n",
    "        \n",
    "    elif intent == \"prof_research_area_query_name\":\n",
    "        new_answer = \"\"\n",
    "        for i in range(len(answer)):\n",
    "            new_answer += answer[i][0] + \", \"\n",
    "        response = \"The research areas of \" + condition + \" are \" + new_answer\n",
    "        \n",
    "    elif intent == \"prof_study_query_name\":\n",
    "        new_answer = \"\"\n",
    "        for i in range(len(answer)):\n",
    "            new_answer += answer[i][0] + \", \"\n",
    "        response = \"The studies of \" + condition + \" are \" + new_answer\n",
    "        \n",
    "    return response"
   ]
  },
  {
   "cell_type": "markdown",
   "id": "92e6ec70",
   "metadata": {},
   "source": [
    "## Chat"
   ]
  },
  {
   "cell_type": "code",
   "execution_count": 19,
   "id": "2d47ca86",
   "metadata": {
    "ExecuteTime": {
     "end_time": "2022-02-25T14:09:16.780844Z",
     "start_time": "2022-02-25T14:09:16.755793Z"
    }
   },
   "outputs": [],
   "source": [
    "def chat():\n",
    "    log = []\n",
    "    print(\"Start talking with me!(type quit to stop):\")\n",
    "    while True:\n",
    "        inp = input(\"You: \")\n",
    "        log.append(inp) #saves all input of user in list\n",
    "        if inp.lower() == \"quit\":\n",
    "            print(\"Goodbye :)\")\n",
    "            break\n",
    "        \n",
    "        # predict the intent\n",
    "        \n",
    "        try:\n",
    "            results = model.predict([bag_of_words(inp, words)])[0] #output is just a probability for each label\n",
    "            results_index = numpy.argmax(results) #index of greatest value\n",
    "            intent = labels[results_index] #output is the most probable label\n",
    "            #print(intent)\n",
    "        \n",
    "            extracted_info = slot_filling(inp, intent)\n",
    "            \n",
    "            answer = action_execution_retrieval(intent, extracted_info)\n",
    "        \n",
    "            response = reponse_generation(intent, answer, extracted_info)\n",
    "            \n",
    "            print(response)\n",
    "            \n",
    "        except:\n",
    "            print(\"intent not found\")\n",
    "        \n",
    "        \n",
    "                \n",
    "\n",
    "        \n",
    "       # print(\"condition-->\", extracted_info)\n",
    "        #print(\"answer from db-->\", answer)\n",
    "        \n",
    "\n",
    "\n",
    "    return log # returns list of the inputs"
   ]
  },
  {
   "cell_type": "code",
   "execution_count": 20,
   "id": "5e50fc9e",
   "metadata": {
    "ExecuteTime": {
     "end_time": "2022-02-25T14:12:56.802265Z",
     "start_time": "2022-02-25T14:09:17.242565Z"
    },
    "scrolled": true
   },
   "outputs": [
    {
     "name": "stdout",
     "output_type": "stream",
     "text": [
      "Start talking with me!(type quit to stop):\n",
      "You: hi\n",
      "Hello :)\n",
      "You: who are you\n",
      "intent not found\n",
      "You: whats your name\n",
      "My name is Chatbot. Whats your name?\n",
      "You: my name is sebi\n",
      "Nice to meet you\n",
      "You: what are you doing?\n",
      "I know almost everything about the professors of HHN. Just ask me :)\n",
      "You: ok\n",
      "Hello :)\n",
      "You: ok\n",
      "Hello :)\n",
      "You: jdjfs\n",
      "Hello :)\n",
      "You: sföksdfödsjas\n",
      "Hello :)\n",
      "You: who is an expert in data science\n",
      "Prof. Dr.-Ing. Carsten Lanquillon is an expert in data science\n",
      "You: wher is the office of herr lanquillon\n",
      "intent not found\n",
      "You: where sits herr lanquillon\n",
      "The office of Lanquillon is S.3.45\n",
      "You: what is the phone number of herr lanquillon\n",
      "The phone number of Lanquillon is +49 7131 504 6942\n",
      "You: what is the email of herr beckmann\n",
      "The email of Beckmann is helmut.beckmann@hs-heilbronn.de\n",
      "You: who has this email helmut.beckmann@hs-heilbronn.de\n",
      "The email helmut.beckmann@hs-heilbronn.de belongs to Prof. Dr. Helmut Beckmann\n",
      "You: who has the following phone number? +49 7131 504 6942\n",
      "The phone number +49 7131 504 6942 belongs to Prof. Dr.-Ing. Carsten Lanquillon\n",
      "You: what is the last name of tomas\n",
      "The last name of Thomas is Schäffer\n",
      "You: what is the first name of herr beckmann\n",
      "The first name of Beckmann is Helmut\n",
      "You: who sits in S.3.45?\n",
      "The office S.3.45 belongs to Prof. Dr.-Ing. Carsten Lanquillon\n",
      "You: what are the research areas of herr backmann?\n",
      "The research areas of Beckmann are \n",
      "You: what are the research areas of herr günter\n",
      "The research areas of Günther are Computer Supported Cooperative Work (CSCW), Digitale Transformation , \n",
      "You: what are the studies of herr stern\n",
      "The studies of Stern are Wirtschaft und Verkehr, Wirtschaftsinformatik, Wirtschaftsinformatik - Digitale Transformation, berufsbegleitend, Wirtschaftsinformatik - Informationsmanagement und Data Science, \n",
      "You: Goodbye\n",
      "Goodbye :)\n",
      "You: thank you\n",
      "Hello :)\n",
      "You: quit\n",
      "Goodbye :)\n"
     ]
    },
    {
     "data": {
      "text/plain": [
       "['hi',\n",
       " 'who are you',\n",
       " 'whats your name',\n",
       " 'my name is sebi',\n",
       " 'what are you doing?',\n",
       " 'ok',\n",
       " 'ok',\n",
       " 'jdjfs',\n",
       " 'sföksdfödsjas',\n",
       " 'who is an expert in data science',\n",
       " 'wher is the office of herr lanquillon',\n",
       " 'where sits herr lanquillon',\n",
       " 'what is the phone number of herr lanquillon',\n",
       " 'what is the email of herr beckmann',\n",
       " 'who has this email helmut.beckmann@hs-heilbronn.de',\n",
       " 'who has the following phone number? +49 7131 504 6942',\n",
       " 'what is the last name of tomas',\n",
       " 'what is the first name of herr beckmann',\n",
       " 'who sits in S.3.45?',\n",
       " 'what are the research areas of herr backmann?',\n",
       " 'what are the research areas of herr günter',\n",
       " 'what are the studies of herr stern',\n",
       " 'Goodbye',\n",
       " 'thank you',\n",
       " 'quit']"
      ]
     },
     "execution_count": 20,
     "metadata": {},
     "output_type": "execute_result"
    }
   ],
   "source": [
    "chat()"
   ]
  },
  {
   "cell_type": "code",
   "execution_count": null,
   "id": "49d02a80",
   "metadata": {},
   "outputs": [],
   "source": []
  },
  {
   "cell_type": "code",
   "execution_count": null,
   "id": "1677d2f4",
   "metadata": {},
   "outputs": [],
   "source": []
  },
  {
   "cell_type": "code",
   "execution_count": null,
   "id": "b3ba27a7",
   "metadata": {},
   "outputs": [],
   "source": []
  },
  {
   "cell_type": "code",
   "execution_count": null,
   "id": "7fcbf9dd",
   "metadata": {},
   "outputs": [],
   "source": []
  },
  {
   "cell_type": "code",
   "execution_count": null,
   "id": "f5de5d31",
   "metadata": {},
   "outputs": [],
   "source": []
  }
 ],
 "metadata": {
  "kernelspec": {
   "display_name": "prototype",
   "language": "python",
   "name": "prototype"
  },
  "language_info": {
   "codemirror_mode": {
    "name": "ipython",
    "version": 3
   },
   "file_extension": ".py",
   "mimetype": "text/x-python",
   "name": "python",
   "nbconvert_exporter": "python",
   "pygments_lexer": "ipython3",
   "version": "3.6.13"
  },
  "toc": {
   "base_numbering": 1,
   "nav_menu": {},
   "number_sections": true,
   "sideBar": true,
   "skip_h1_title": false,
   "title_cell": "Table of Contents",
   "title_sidebar": "Contents",
   "toc_cell": false,
   "toc_position": {},
   "toc_section_display": true,
   "toc_window_display": false
  }
 },
 "nbformat": 4,
 "nbformat_minor": 5
}
