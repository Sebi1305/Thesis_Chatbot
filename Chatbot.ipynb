{
 "cells": [
  {
   "cell_type": "markdown",
   "id": "9d1013a4",
   "metadata": {
    "ExecuteTime": {
     "end_time": "2022-02-27T16:01:53.488067Z",
     "start_time": "2022-02-27T16:01:53.457220Z"
    }
   },
   "source": [
    "<img src='images/bildungscampus_logo.png' width=\"40%\" align=\"left\" />\n",
    "<img src='images/hhn.png' width=\"25%\" align=\"right\" />"
   ]
  },
  {
   "cell_type": "markdown",
   "id": "16151811",
   "metadata": {},
   "source": [
    "# Schritt 6: Chatbot Prototyp\n",
    "Masterarbeit - Sebastian Kahlert | Fakultät Wirtschaft und Verkehr | Wirtschaftsinformatik - Informationsmanagement und Data Science | WS 2021/22\n",
    "\n",
    "<img src='images/bar.png'/>\n",
    "\n",
    "## Zusammenfügen aller Chatbot-Komponenten"
   ]
  },
  {
   "cell_type": "markdown",
   "id": "bc3be9fe",
   "metadata": {},
   "source": [
    "Das hier das finale Notebook. Hier werden nun alle Komponenten, die zuvor in den anderen Notebooks entwickelt, trainert und gespeichert wurden, zusammengefügt, um einen voll funktionsfähigen Chatbot zu bilden. "
   ]
  },
  {
   "cell_type": "markdown",
   "id": "e26fd30c",
   "metadata": {},
   "source": [
    "### 6.1. Import benötigter Bibliotheken"
   ]
  },
  {
   "cell_type": "code",
   "execution_count": 1,
   "id": "a41749ce",
   "metadata": {
    "ExecuteTime": {
     "end_time": "2022-04-10T18:39:05.155151Z",
     "start_time": "2022-04-10T18:39:02.050903Z"
    }
   },
   "outputs": [
    {
     "name": "stdout",
     "output_type": "stream",
     "text": [
      "WARNING:tensorflow:From C:\\Users\\Sebi\\anaconda3\\envs\\prototype\\lib\\site-packages\\tensorflow\\python\\compat\\v2_compat.py:101: disable_resource_variables (from tensorflow.python.ops.variable_scope) is deprecated and will be removed in a future version.\n",
      "Instructions for updating:\n",
      "non-resource variables are not supported in the long term\n",
      "curses is not supported on this machine (please install/reinstall curses for an optimal experience)\n",
      "Scipy not supported!\n"
     ]
    }
   ],
   "source": [
    "# import of necessary libraries\n",
    "import nltk \n",
    "from nltk.stem.lancaster import LancasterStemmer\n",
    "stemmer = LancasterStemmer()\n",
    "\n",
    "import numpy\n",
    "import tflearn \n",
    "import tensorflow\n",
    "import random \n",
    "import json\n",
    "import pickle\n",
    "import spacy\n",
    "import sqlite3\n",
    "import re\n",
    "from difflib import SequenceMatcher"
   ]
  },
  {
   "cell_type": "markdown",
   "id": "10bac6de",
   "metadata": {},
   "source": [
    "### 6.2. Intent Classification"
   ]
  },
  {
   "cell_type": "markdown",
   "id": "18556fd2",
   "metadata": {},
   "source": [
    "Das Neuronale Netzwerk wurde zuvor in einem separaten Notebook erstellt, trainert und gespeichert. Der folgende Code versucht das gespeicherte Model zu laden. Falls dies nicht möglich sein sollte, weil des Model zum Beispiel nicht mehr existiert, wird ein neues Neuronales Netzwerk erstellt und trainiert. Für diesen Fall werden die Trainingsdaten \"data.pickle\" geladen und die Layer des Netztes definiert."
   ]
  },
  {
   "cell_type": "code",
   "execution_count": 2,
   "id": "cba1d458",
   "metadata": {
    "ExecuteTime": {
     "end_time": "2022-04-10T18:39:05.170114Z",
     "start_time": "2022-04-10T18:39:05.157148Z"
    }
   },
   "outputs": [],
   "source": [
    "# load training data \n",
    "with open(\"2. Intent Classififcation/data.pickle\", \"rb\") as f:\n",
    "    words, labels, training, output = pickle.load(f)"
   ]
  },
  {
   "cell_type": "code",
   "execution_count": 3,
   "id": "bcf2b8bb",
   "metadata": {
    "ExecuteTime": {
     "end_time": "2022-04-10T18:39:05.634006Z",
     "start_time": "2022-04-10T18:39:05.174101Z"
    }
   },
   "outputs": [
    {
     "name": "stdout",
     "output_type": "stream",
     "text": [
      "WARNING:tensorflow:From C:\\Users\\Sebi\\anaconda3\\envs\\prototype\\lib\\site-packages\\tflearn\\initializations.py:165: calling TruncatedNormal.__init__ (from tensorflow.python.ops.init_ops) with dtype is deprecated and will be removed in a future version.\n",
      "Instructions for updating:\n",
      "Call initializer instance with the dtype argument instead of passing it to the constructor\n",
      "INFO:tensorflow:Restoring parameters from C:\\Users\\Sebi\\OneDrive\\Studium\\Thesis_Chatbot\\2. Intent Classififcation\\model.tflearn\n"
     ]
    }
   ],
   "source": [
    "# open saved model or implement new one if model does not exist yet\n",
    "tensorflow.compat.v1.reset_default_graph()\n",
    "    \n",
    "# creating the Neural Network\n",
    "net = tflearn.input_data(shape= [None, len(training[0])]) #input layer Neurons = numer of words in training\n",
    "net = tflearn.fully_connected(net, 8) #hidden layer fully connected with 8 neuron\n",
    "net = tflearn.fully_connected(net, len(output[0]), activation=\"softmax\" ) #output layer 6 Neurons = labels\n",
    "net = tflearn.regression(net)\n",
    "\n",
    "model = tflearn.DNN(net)\n",
    "\n",
    "try:\n",
    "    model.load(r\"2. Intent Classififcation/model.tflearn\")\n",
    "except:\n",
    "    model.fit(training, output, n_epoch=1000, batch_size=8, show_metric=True)\n",
    "    model.save(r\"2. Intent Classififcation/model.tflearn\")"
   ]
  },
  {
   "cell_type": "code",
   "execution_count": 4,
   "id": "611c102e",
   "metadata": {
    "ExecuteTime": {
     "end_time": "2022-04-10T18:39:05.664890Z",
     "start_time": "2022-04-10T18:39:05.637959Z"
    }
   },
   "outputs": [
    {
     "data": {
      "text/plain": [
       "<tflearn.models.dnn.DNN at 0x29e8349e828>"
      ]
     },
     "execution_count": 4,
     "metadata": {},
     "output_type": "execute_result"
    }
   ],
   "source": [
    "model"
   ]
  },
  {
   "cell_type": "code",
   "execution_count": 5,
   "id": "2ec67aa3",
   "metadata": {
    "ExecuteTime": {
     "end_time": "2022-04-10T18:39:05.680842Z",
     "start_time": "2022-04-10T18:39:05.669873Z"
    }
   },
   "outputs": [],
   "source": [
    "# transform input in numbers to make it readable for neural net\n",
    "def bag_of_words(s, words):\n",
    "    bag = [0 for _ in range(len(words))]\n",
    "    \n",
    "    s_words = nltk.word_tokenize(s)\n",
    "    s_words = [stemmer.stem(word.lower()) for word in s_words]\n",
    "    \n",
    "    for se in s_words:\n",
    "        for i, w in enumerate(words):\n",
    "            if w == se:\n",
    "                bag[i] = 1\n",
    "    \n",
    "    return numpy.array(bag)"
   ]
  },
  {
   "cell_type": "markdown",
   "id": "438f3588",
   "metadata": {},
   "source": [
    "### 6.3. Slot Filling"
   ]
  },
  {
   "cell_type": "markdown",
   "id": "8bd5cb81",
   "metadata": {
    "ExecuteTime": {
     "end_time": "2022-02-20T14:48:04.044028Z",
     "start_time": "2022-02-20T14:48:04.027074Z"
    }
   },
   "source": [
    "Für die Extraktion der verschiedenen Zusatzinformationen müssen unteranderem bereits bekannte Namen aus der Datenbank extrahiert werden und in Listen gespeichert werden. Eine Funktion gleicht den Input des Benutzers mit den Namen ab, um zu prüfen ob der vom Benutzer genannte Professor bekannt ist oder nicht. Zusätzlich werden zuvor trainerte Custom NER Modelle geladen und die Slot Filling definiert."
   ]
  },
  {
   "cell_type": "markdown",
   "id": "b83c8ae5",
   "metadata": {},
   "source": [
    "#### 6.3.1. Vor- und Nachnamen"
   ]
  },
  {
   "cell_type": "code",
   "execution_count": 6,
   "id": "2d71cec2",
   "metadata": {
    "ExecuteTime": {
     "end_time": "2022-04-10T18:39:05.695803Z",
     "start_time": "2022-04-10T18:39:05.684832Z"
    }
   },
   "outputs": [],
   "source": [
    "# get first names from database\n",
    "conn = sqlite3.connect(\"PROF_INFO_DB.db\")\n",
    "cur = conn.cursor()\n",
    "cur.execute(\"select first_name FROM PROF_INFO_TABLE\")\n",
    "conn.commit()\n",
    "first_names = cur.fetchall()\n",
    "conn.close()\n",
    "\n",
    "first_names_list = []\n",
    "for i in range(len(first_names)):\n",
    "    answer = \" \".join(first_names[i])\n",
    "    answer.strip()\n",
    "    first_names_list.append(answer)\n",
    "\n",
    "#first_names_list"
   ]
  },
  {
   "cell_type": "code",
   "execution_count": 7,
   "id": "8a57529d",
   "metadata": {
    "ExecuteTime": {
     "end_time": "2022-04-10T18:39:05.710771Z",
     "start_time": "2022-04-10T18:39:05.699792Z"
    }
   },
   "outputs": [],
   "source": [
    "# get last names from database\n",
    "conn = sqlite3.connect(\"PROF_INFO_DB.db\")\n",
    "cur = conn.cursor()\n",
    "cur.execute(\"select last_name FROM PROF_INFO_TABLE\")\n",
    "conn.commit()\n",
    "last_names = cur.fetchall()\n",
    "conn.close()\n",
    "\n",
    "# store last names in list\n",
    "last_names_list = []\n",
    "for i in range(len(last_names)):\n",
    "    answer = \" \".join(last_names[i])\n",
    "    answer.strip()\n",
    "    last_names_list.append(answer)\n",
    "\n",
    "#last_names_list"
   ]
  },
  {
   "cell_type": "markdown",
   "id": "137da707",
   "metadata": {
    "ExecuteTime": {
     "end_time": "2022-02-27T16:05:56.190924Z",
     "start_time": "2022-02-27T16:05:56.183904Z"
    }
   },
   "source": [
    "#### 6.3.3. Forschungsschwerpunkte und Studiengänge"
   ]
  },
  {
   "cell_type": "code",
   "execution_count": 8,
   "id": "6f548b49",
   "metadata": {
    "ExecuteTime": {
     "end_time": "2022-04-10T18:39:27.711041Z",
     "start_time": "2022-04-10T18:39:05.714751Z"
    }
   },
   "outputs": [],
   "source": [
    "#load the custom NER models\n",
    "nlp_research_area = spacy.load(r\"3. Slot Filling/custom_ner_model_research_area\")\n",
    "nlp_study = spacy.load(r\"3. Slot Filling/custom_ner_model_study\")"
   ]
  },
  {
   "cell_type": "markdown",
   "id": "ed7288b0",
   "metadata": {},
   "source": [
    "#### 6.3.4. Slot Filling Retrieval Funktion"
   ]
  },
  {
   "cell_type": "markdown",
   "id": "6a3836f1",
   "metadata": {},
   "source": [
    "Wenn der Chatbot, anhand des Intents der Eingabe, erkannt hat, dass Information Retrieval die auszuführende Aktion ist, wird folgende Funktion augeführt. Sie extrahiert die benötigten Informationen aus der Eingabe des Benutzers, um die erfolgreiche Ausführung der Aktion zu gewährleisten. Je nach Intent sind verschiedene Informationen aus der Eingaben zu extrahieren. Für eine bessere Übersichtlichkeit, wurde das Slot Filling nach den auszuführenden Aktionen geteilt. "
   ]
  },
  {
   "cell_type": "code",
   "execution_count": 9,
   "id": "58329dfd",
   "metadata": {
    "ExecuteTime": {
     "end_time": "2022-04-10T18:39:27.756982Z",
     "start_time": "2022-04-10T18:39:27.718088Z"
    }
   },
   "outputs": [],
   "source": [
    "def slot_filling_retrieval(inp, intent):   \n",
    "    # list of intents\n",
    "    intent_prof_contact=[\"prof_telephone_query_name\", \"prof_email_query_name\", \"prof_office_query_name\", \"prof_research_area_query_name\", \"prof_study_query_name\"]\n",
    "    intent_generic_conversation=[\"greeting\",\"greeting_response\",\"courtesy_greeting\",\"courtesy_greeting_response\",\"real_name_query\", \"goodbye\",\"task_response\"]\n",
    "        \n",
    "    # get phone number\n",
    "    if intent == \"prof_name_query_telephone\":\n",
    "        re_number_1 = r\"\\D[\\d]{2}? [\\d]{4} [\\d]{3} [\\d]{4}\"\n",
    "        re_number_2 = r\"\\D[\\d]{2}? [\\d]{4} [\\d]{3} [\\d]{3}\"\n",
    "        re_number_3 = r\"\\D[\\d]{2} [\\(][\\d]{1}[\\)] [\\d]{4} [\\d]{3} [\\d]{4}\"\n",
    "        condition = re.compile(\"(%s|%s|%s)\" % (re_number_1, re_number_2, re_number_3)).findall(inp) \n",
    "\n",
    "    # get email \n",
    "    elif intent == \"prof_name_query_email\":\n",
    "        condition = re.findall('\\S+@\\S+', inp)\n",
    "\n",
    "    # get office\n",
    "    elif intent == \"prof_name_query_office\":\n",
    "        re_office_1 = r\"[A-Z, a-z].\\d{1}.\\d{2}\"\n",
    "        re_office_2 = r\"[A-Z, a-z].\\d{3}\"\n",
    "        condition = re.compile(\"(%s|%s)\" % (re_office_1, re_office_2)).findall(inp)\n",
    "\n",
    "    # get research area\n",
    "    elif intent == \"prof_name_query_research_area\":\n",
    "        doc = nlp_research_area(inp)\n",
    "        for ent in doc.ents:\n",
    "            if ent.label_ == \"RESEARCH_AREA\":\n",
    "                condition = ent.text    \n",
    "\n",
    "    # get study\n",
    "    elif intent == \"prof_name_query_study\":\n",
    "        doc = nlp_study(inp)\n",
    "        for ent in doc.ents:\n",
    "            if ent.label_ == \"STUDY\":\n",
    "                condition = ent.text  \n",
    "\n",
    "    # get first name\n",
    "    elif intent == \"prof_name_query_lastname\":\n",
    "        for first_name in first_names_list:\n",
    "            for word in inp.split():\n",
    "                if SequenceMatcher(None, first_name, word).ratio() >= 0.7:\n",
    "                    condition = first_name\n",
    "                    \n",
    "    # get last name\n",
    "    elif intent == \"prof_name_query_firstname\":\n",
    "        for last_name in last_names_list:\n",
    "            for word in inp.split():\n",
    "                if SequenceMatcher(None, last_name, word).ratio() >= 0.7:\n",
    "                    condition = last_name\n",
    "\n",
    "    # get last name\n",
    "    elif intent in intent_prof_contact:\n",
    "        for last_name in last_names_list:\n",
    "            for word in inp.split():\n",
    "                if SequenceMatcher(None, last_name, word).ratio() >= 0.7:\n",
    "                    condition = last_name\n",
    "    \n",
    "    # no extra info needed\n",
    "    elif intent in intent_generic_conversation:\n",
    "        condition = \"generic intent\"\n",
    "\n",
    "    else:\n",
    "        condition = \"nobody/ nothing\"\n",
    "    \n",
    "    return condition"
   ]
  },
  {
   "cell_type": "markdown",
   "id": "f20cb38c",
   "metadata": {},
   "source": [
    "#### 6.3.5. Slot Filling Update Funktion"
   ]
  },
  {
   "cell_type": "markdown",
   "id": "648c0d07",
   "metadata": {},
   "source": [
    "Wenn der Chatbot, anhand des Intents der Eingabe, erkannt hat, dass Information Extraction and Storing die auszuführende Aktion ist, wird folgende Funktion augeführt."
   ]
  },
  {
   "cell_type": "code",
   "execution_count": 10,
   "id": "fd8fcd1f",
   "metadata": {
    "ExecuteTime": {
     "end_time": "2022-04-10T18:39:27.771942Z",
     "start_time": "2022-04-10T18:39:27.760972Z"
    }
   },
   "outputs": [],
   "source": [
    "def slot_filling_update(inp, intent):\n",
    "    #get name of professor\n",
    "    for last_name in last_names_list:\n",
    "        for word in inp.split():\n",
    "            if SequenceMatcher(None, last_name, word).ratio() >= 0.7:\n",
    "                prof_name = last_name\n",
    "\n",
    "    \n",
    "    # get phone number\n",
    "    if intent == \"extract_new_telephone\":\n",
    "        #get the new number\n",
    "        re_number_1 = r\"\\D[\\d]{2}? [\\d]{4} [\\d]{3} [\\d]{4}\"\n",
    "        re_number_2 = r\"\\D[\\d]{2}? [\\d]{4} [\\d]{3} [\\d]{3}\"\n",
    "        re_number_3 = r\"\\D[\\d]{2} [\\(][\\d]{1}[\\)] [\\d]{4} [\\d]{3} [\\d]{4}\"\n",
    "        condition = re.compile(\"(%s|%s|%s)\" % (re_number_1, re_number_2, re_number_3)).findall(inp)      \n",
    "        \n",
    "    # get email\n",
    "    elif intent == \"extract_new_email\":\n",
    "        condition = re.findall('\\S+@\\S+', inp)\n",
    "    \n",
    "    # get office\n",
    "    elif intent == \"extract_new_office\":\n",
    "        re_office_1 = r\"[A-Z, a-z].\\d{1}.\\d{2}\"\n",
    "        re_office_2 = r\"[A-Z, a-z].\\d{3}\"\n",
    "        condition = re.compile(\"(%s|%s)\" % (re_office_1, re_office_2)).findall(inp)\n",
    "        \n",
    "    # get research area\n",
    "    elif intent == \"extract_new_research_area\":\n",
    "        doc = nlp_research_area(inp)\n",
    "        for ent in doc.ents:\n",
    "            if ent.label_ == \"RESEARCH_AREA\":\n",
    "                condition = ent.text  \n",
    "            else:\n",
    "                condition = \"Not found\"\n",
    "    \n",
    "    # get study\n",
    "    elif intent == \"extract_new_study\":\n",
    "        doc = nlp_study(inp)\n",
    "        for ent in doc.ents:\n",
    "            if ent.label_ == \"STUDY\":\n",
    "                condition = ent.text  \n",
    "            else:\n",
    "                condition = \"Not found\"\n",
    "    \n",
    "    return prof_name, condition"
   ]
  },
  {
   "cell_type": "markdown",
   "id": "3279aeb8",
   "metadata": {
    "ExecuteTime": {
     "end_time": "2022-02-25T14:08:07.164253Z",
     "start_time": "2022-02-25T14:08:07.146037Z"
    }
   },
   "source": [
    "###  6.4. Action Execution "
   ]
  },
  {
   "cell_type": "markdown",
   "id": "0b271057",
   "metadata": {},
   "source": [
    "Nun werden die Funktionen zur Ausführung der jeweiligen Aktionen definiert. Die Aktion Information Extraction and Storing wird in zwei Funktionen aufgeteilt. Eine Funktion kümmert sich um die Spicherung neuer Professoren in die Datenbank und die andere um die Aktualisierung bekannter Informationen."
   ]
  },
  {
   "cell_type": "markdown",
   "id": "8373dd1a",
   "metadata": {},
   "source": [
    "#### 6.4.1 Action Execution - Information Retrieval"
   ]
  },
  {
   "cell_type": "code",
   "execution_count": 11,
   "id": "f8b26124",
   "metadata": {
    "ExecuteTime": {
     "end_time": "2022-04-10T18:39:27.802859Z",
     "start_time": "2022-04-10T18:39:27.776930Z"
    }
   },
   "outputs": [],
   "source": [
    "def action_execution_retrieval(intent, condition):\n",
    "    # list with intents \n",
    "    intent_generic_conversation=[\"greeting\",\"greeting_response\",\"courtesy_greeting\",\"courtesy_greeting_response\",\"real_name_query\", \"goodbye\",\"task_response\"]\n",
    "    \n",
    "    #connect to database\n",
    "    conn = sqlite3.connect(\"PROF_INFO_DB.db\")\n",
    "    cur = conn.cursor()\n",
    "    \n",
    "    # get name of professor with specific phone number\n",
    "    if intent == \"prof_name_query_telephone\":\n",
    "        cur.execute(\"select title, first_name, last_name FROM PROF_INFO_TABLE where telephone = ? COLLATE NOCASE\", (condition[0],))\n",
    "        conn.commit()\n",
    "        answer = cur.fetchall()\n",
    "        \n",
    "    # get name of professor with specific email\n",
    "    elif intent == \"prof_name_query_email\": \n",
    "        cur.execute(\"select title, first_name, last_name FROM PROF_INFO_TABLE where email = ? COLLATE NOCASE\", (condition[0],))\n",
    "        conn.commit()\n",
    "        answer = cur.fetchall()\n",
    "        \n",
    "    # get name of professor with specific office\n",
    "    elif intent == \"prof_name_query_office\":\n",
    "        cur.execute(\"select title, first_name, last_name FROM PROF_INFO_TABLE where office = ? COLLATE NOCASE\", (condition[0],))\n",
    "        conn.commit()\n",
    "        answer = cur.fetchall()\n",
    "        \n",
    "    # get name of professor with specific research area\n",
    "    elif intent == \"prof_name_query_research_area\":\n",
    "        cur.execute(\"SELECT title, first_name, last_name FROM PROF_INFO_TABLE INNER JOIN PROF_RESEARCH_AREA_TABLE on PROF_RESEARCH_AREA_TABLE.prof_id = PROF_INFO_TABLE.prof_id WHERE research_area = ? COLLATE NOCASE\", (condition,))\n",
    "        conn.commit()\n",
    "        answer = cur.fetchone()\n",
    "    \n",
    "    # get name of professor with specific study\n",
    "    elif intent == \"prof_name_query_study\":\n",
    "        cur.execute(\"SELECT title, first_name, last_name FROM PROF_INFO_TABLE INNER JOIN PROF_STUDY_TABLE on PROF_STUDY_TABLE.prof_id = PROF_INFO_TABLE.prof_id WHERE study = ? COLLATE NOCASE\", (condition,))\n",
    "        conn.commit()\n",
    "        answer = cur.fetchone()\n",
    "        \n",
    "    # get last name of professor\n",
    "    elif intent == \"prof_name_query_lastname\":\n",
    "        cur.execute(\"select last_name FROM PROF_INFO_TABLE where first_name = ? COLLATE NOCASE\", (condition,))\n",
    "        conn.commit()\n",
    "        answer = cur.fetchall()\n",
    "        \n",
    "    # get first name of professor\n",
    "    elif intent == \"prof_name_query_firstname\":\n",
    "        cur.execute(\"select first_name FROM PROF_INFO_TABLE where last_name = ? COLLATE NOCASE\", (condition,))\n",
    "        conn.commit()\n",
    "        answer = cur.fetchall()\n",
    "        \n",
    "    # get phone number of professor\n",
    "    elif intent == \"prof_telephone_query_name\":\n",
    "        cur.execute(\"select telephone FROM PROF_INFO_TABLE where last_name =? COLLATE NOCASE\", (condition,))\n",
    "        conn.commit()\n",
    "        answer = cur.fetchall()\n",
    "        \n",
    "    # get email of professor\n",
    "    elif intent == \"prof_email_query_name\":\n",
    "        cur.execute(\"select email FROM PROF_INFO_TABLE where last_name =? COLLATE NOCASE\", (condition,))\n",
    "        conn.commit()\n",
    "        answer = cur.fetchall()\n",
    "        \n",
    "    # get office of professor\n",
    "    elif intent == \"prof_office_query_name\":\n",
    "        cur.execute(\"select office FROM PROF_INFO_TABLE where last_name =? COLLATE NOCASE\", (condition,))\n",
    "        conn.commit()\n",
    "        answer = cur.fetchall()\n",
    "        \n",
    "    # get research area of professor\n",
    "    elif intent == \"prof_research_area_query_name\":\n",
    "        cur.execute(\"SELECT research_area FROM PROF_RESEARCH_AREA_TABLE INNER JOIN PROF_INFO_TABLE on PROF_INFO_TABLE.prof_id = PROF_RESEARCH_AREA_TABLE.prof_id WHERE last_name = ? COLLATE NOCASE\", (condition,))\n",
    "        conn.commit()\n",
    "        answer = cur.fetchall()\n",
    "        \n",
    "    # get study of professor\n",
    "    elif intent == \"prof_study_query_name\":\n",
    "        cur.execute(\"SELECT study FROM PROF_STUDY_TABLE INNER JOIN PROF_INFO_TABLE on PROF_INFO_TABLE.prof_id = PROF_STUDY_TABLE.prof_id WHERE last_name = ? COLLATE NOCASE\", (condition,))\n",
    "        conn.commit()\n",
    "        answer = cur.fetchall()\n",
    "        \n",
    "    # generic conversation no retrieval necessary\n",
    "    if intent in intent_generic_conversation:\n",
    "        answer = \"generic conversation\"\n",
    "    \n",
    "    return answer"
   ]
  },
  {
   "cell_type": "markdown",
   "id": "d027ad37",
   "metadata": {},
   "source": [
    "#### 6.4.2 Action Execution - Information Extraction and Storing - Update"
   ]
  },
  {
   "cell_type": "code",
   "execution_count": 12,
   "id": "90a261d5",
   "metadata": {
    "ExecuteTime": {
     "end_time": "2022-04-10T18:39:27.818818Z",
     "start_time": "2022-04-10T18:39:27.805853Z"
    }
   },
   "outputs": [],
   "source": [
    "def action_execution_update(intent, prof_name, new_info):\n",
    "    \n",
    "    #connect to database\n",
    "    conn = sqlite3.connect(\"PROF_INFO_DB.db\")\n",
    "    cur = conn.cursor()\n",
    "    \n",
    "    # get phone number from input\n",
    "    if intent == \"extract_new_telephone\":\n",
    "        cur.execute(\"UPDATE PROF_INFO_TABLE SET telephone = ? WHERE last_name = ? COLLATE NOCASE\", (new_info[0], prof_name,))\n",
    "        conn.commit()\n",
    "\n",
    "    # get email from input\n",
    "    elif intent == \"extract_new_email\": \n",
    "        cur.execute(\"UPDATE PROF_INFO_TABLE SET email = ? WHERE last_name = ? COLLATE NOCASE\", (new_info[0], prof_name,))\n",
    "        conn.commit()\n",
    "    \n",
    "    # get office from input\n",
    "    elif intent == \"extract_new_office\":\n",
    "        cur.execute(\"UPDATE PROF_INFO_TABLE SET office = ? WHERE last_name = ? COLLATE NOCASE\", (new_info[0], prof_name,))\n",
    "        conn.commit()\n",
    "    \n",
    "    # get research area from input\n",
    "    elif intent == \"extract_new_research_area\":\n",
    "        cur.execute(\"INSERT INTO PROF_RESEARCH_AREA_TABLE (prof_id,Name,research_area) VALUES((SELECT prof_id FROM PROF_INFO_TABLE WHERE last_name = ? ),?,?)\", (prof_name, prof_name, new_info,))\n",
    "        conn.commit()\n",
    "        \n",
    "    # get study from input\n",
    "    elif intent == \"extract_new_study\":\n",
    "        #print(\"pog\", condition[0])\n",
    "        cur.execute(\"INSERT INTO PROF_STUDY_TABLE (prof_id,Name,study) VALUES((SELECT prof_id FROM PROF_INFO_TABLE WHERE last_name = ? ),?,?)\", (prof_name, prof_name, new_info,))\n",
    "        conn.commit()\n",
    "    \n",
    "    return "
   ]
  },
  {
   "cell_type": "markdown",
   "id": "df7e6d84",
   "metadata": {
    "ExecuteTime": {
     "end_time": "2022-03-10T14:08:20.558756Z",
     "start_time": "2022-03-10T14:08:15.308Z"
    }
   },
   "source": [
    "#### 6.4.3 Action Execution Information Extraction and Storing - New Professor"
   ]
  },
  {
   "cell_type": "code",
   "execution_count": 13,
   "id": "728e8c3e",
   "metadata": {
    "ExecuteTime": {
     "end_time": "2022-04-10T18:39:46.096385Z",
     "start_time": "2022-04-10T18:39:27.820812Z"
    }
   },
   "outputs": [],
   "source": [
    "# load NER model to identify names of new professor\n",
    "nlp_name = spacy.load(\"en_core_web_md\")"
   ]
  },
  {
   "cell_type": "code",
   "execution_count": 14,
   "id": "38279ed2",
   "metadata": {
    "ExecuteTime": {
     "end_time": "2022-04-10T18:39:46.127274Z",
     "start_time": "2022-04-10T18:39:46.103340Z"
    }
   },
   "outputs": [],
   "source": [
    "def action_execution_new_prof():\n",
    "    \n",
    "    # get name of new professor\n",
    "    print(\"Great! What is the name of the new Professor?\")\n",
    "    inp = input(\"You: \")\n",
    "    doc = nlp_name(inp)\n",
    "    for ent in doc.ents:\n",
    "        if ent.label_ == \"PERSON\":\n",
    "            first_name = ent.text.split()[0]\n",
    "            last_name = ent.text.split()[1]\n",
    "        else:\n",
    "            first_name = \"Couldn't extract the name\"\n",
    "            last_name =\"Couldn't extract the name\"\n",
    "    \n",
    "    # get phone number\n",
    "    print(\"What is the phone number\")\n",
    "    inp = input(\"You: \")\n",
    "    \n",
    "    re_number_1 = r\"\\D[\\d]{2}? [\\d]{4} [\\d]{3} [\\d]{4}\"\n",
    "    re_number_2 = r\"\\D[\\d]{2}? [\\d]{4} [\\d]{3} [\\d]{3}\"\n",
    "    re_number_3 = r\"\\D[\\d]{2} [\\(][\\d]{1}[\\)] [\\d]{4} [\\d]{3} [\\d]{4}\"\n",
    "    \n",
    "    try:\n",
    "        telephone = re.compile(\"(%s|%s|%s)\" % (re_number_1, re_number_2, re_number_3)).findall(inp)      \n",
    "    \n",
    "    except: \n",
    "        telephone = \"no number\"\n",
    "    \n",
    "    # get email\n",
    "    print(\"What is the email address?\")\n",
    "    inp = input(\"You: \")\n",
    "    \n",
    "    try:\n",
    "        email = re.findall('\\S+@\\S+', inp)\n",
    "    \n",
    "    except:\n",
    "        email = \"no email\"\n",
    "    \n",
    "    # get office\n",
    "    print(\"In which office is the new professor sitting?\")\n",
    "    inp = input(\"You: \")\n",
    "    \n",
    "    re_office_1 = r\"[A-Z, a-z].\\d{1}.\\d{2}\"\n",
    "    re_office_2 = r\"[A-Z, a-z].\\d{3}\"\n",
    "    \n",
    "    try:\n",
    "        office = re.compile(\"(%s|%s)\" % (re_office_1, re_office_2)).findall(inp)\n",
    "    \n",
    "    except:\n",
    "        ofiice = \"no office\"\n",
    "    \n",
    "    # get research areas\n",
    "    print(\"What are the research areas of the new professor?\")\n",
    "    inp = input(\"You: \")\n",
    "    \n",
    "    doc = nlp_research_area(inp)\n",
    "    for ent in doc.ents:\n",
    "        if ent.label_ == \"RESEARCH_AREA\":\n",
    "            research_area = ent.text  \n",
    "        else:\n",
    "            research_area = \"Not found\"\n",
    "    \n",
    "    # get study\n",
    "    print(\"In what study is the new professor teaching?\")\n",
    "    inp = input(\"You: \")\n",
    "    doc = nlp_study(inp)\n",
    "    for ent in doc.ents:\n",
    "        if ent.label_ == \"STUDY\":\n",
    "            study = ent.text  \n",
    "        else:\n",
    "            study = \"Not found\"\n",
    "      \n",
    "    # connect to database\n",
    "    conn = sqlite3.connect(\"PROF_INFO_DB.db\")\n",
    "    cur = conn.cursor()\n",
    "\n",
    "    # insert new information into database\n",
    "    cur.execute(\"INSERT INTO PROF_INFO_TABLE (prof_id, first_name,last_name, telephone, email, office) VALUES((SELECT MAX(prof_id) FROM PROF_INFO_TABLE)+1,?,?,?,?,?)\", (first_name, last_name, telephone[0], email[0], office[0]))\n",
    "    cur.execute(\"INSERT INTO PROF_RESEARCH_AREA_TABLE (prof_id, Name, research_area) VALUES((SELECT prof_id FROM PROF_INFO_TABLE WHERE last_name = ? ),?,?)\", (last_name, last_name,research_area))\n",
    "    cur.execute(\"INSERT INTO PROF_STUDY_TABLE (prof_id, Name, study) VALUES((SELECT prof_id FROM PROF_INFO_TABLE WHERE last_name = ? ),?,?)\", (last_name, last_name,study))\n",
    "\n",
    "    conn.commit()\n",
    "    return "
   ]
  },
  {
   "cell_type": "markdown",
   "id": "1362eea3",
   "metadata": {},
   "source": [
    "### 6.5. Response Generation"
   ]
  },
  {
   "cell_type": "markdown",
   "id": "a489e227",
   "metadata": {},
   "source": [
    "Je nach ausgeführter Aktion sind unterschiedliche Antworten des Chatbots an den Benutzer notwendig. Demnach wurde die Response Generation für die Übersichtlichkeit ebenfalls aufgeteilt. Für jeden Intent wurden im Vorfeld eine Reihe von Antworten mit Platzhalter definiert und in einer json Datei gespeichert. Diese Datei muss zunächst geladen werden und die Antworten für jedes nach Intent in einem Dictionary gespeichert werden. Die Response Generation Funktionen nehmen zufällig eine passende Antwort, ersetzten die Platzhalter mit den richtigen Informationen und geben diese an den Benutzer zurück. "
   ]
  },
  {
   "cell_type": "markdown",
   "id": "a4b683ee",
   "metadata": {
    "ExecuteTime": {
     "end_time": "2022-03-06T14:40:08.569324Z",
     "start_time": "2022-03-06T14:40:08.563341Z"
    }
   },
   "source": [
    "#### 6.5.1 Response Generation - Information Retrieval"
   ]
  },
  {
   "cell_type": "code",
   "execution_count": 15,
   "id": "5e156d81",
   "metadata": {
    "ExecuteTime": {
     "end_time": "2022-04-10T18:39:46.219028Z",
     "start_time": "2022-04-10T18:39:46.131263Z"
    }
   },
   "outputs": [],
   "source": [
    "# open and load json file with responses and intents\n",
    "with open(\"5. Response Generation/responses.json\") as file:\n",
    "    data = json.load(file)"
   ]
  },
  {
   "cell_type": "code",
   "execution_count": 16,
   "id": "e47f6b25",
   "metadata": {
    "ExecuteTime": {
     "end_time": "2022-04-10T18:39:46.280509Z",
     "start_time": "2022-04-10T18:39:46.223017Z"
    }
   },
   "outputs": [],
   "source": [
    "# get the intent labels and the reponses from the file and save them in a dictionary\n",
    "tags = [] #all intents in the json file\n",
    "resp = []\n",
    "\n",
    "for response in data[\"responses\"]:\n",
    "\n",
    "    if response[\"tag\"] not in tags:\n",
    "        tags.append(response[\"tag\"])\n",
    "\n",
    "    if response[\"sentence\"] not in resp:\n",
    "        resp.append(response[\"sentence\"])\n",
    "        \n",
    "responses_dict = dict(zip(tags, resp))"
   ]
  },
  {
   "cell_type": "code",
   "execution_count": 17,
   "id": "ba36eeee",
   "metadata": {
    "ExecuteTime": {
     "end_time": "2022-04-10T18:39:46.404782Z",
     "start_time": "2022-04-10T18:39:46.289491Z"
    }
   },
   "outputs": [],
   "source": [
    "def response_generation_retrieval(intent, answer, condition):\n",
    "    \n",
    "    if intent == \"greeting\":\n",
    "        responses = responses_dict[\"greeting\"]\n",
    "        final_response = random.choice(responses)\n",
    "        \n",
    "    elif intent == \"greeting_response\":\n",
    "        responses = responses_dict[\"greeting_response\"]\n",
    "        final_response = random.choice(responses)\n",
    "        \n",
    "    elif intent == \"courtesy_greeting\":\n",
    "        responses = responses_dict[\"courtesy_greeting\"]\n",
    "        final_response = random.choice(responses)\n",
    "        \n",
    "    elif intent == \"courtesy_greeting_response\":\n",
    "        responses = responses_dict[\"courtesy_greeting_response\"]\n",
    "        final_response = random.choice(responses)\n",
    "        \n",
    "    elif intent == \"real_name_query\":\n",
    "        responses = responses_dict[\"real_name_query\"]\n",
    "        final_response = random.choice(responses)\n",
    "        \n",
    "    elif intent == \"goodbye\":\n",
    "        responses = responses_dict[\"goodbye\"]\n",
    "        final_response = random.choice(responses)\n",
    "        \n",
    "    elif intent == \"task_response\":\n",
    "        responses = responses_dict[\"task_response\"]\n",
    "        final_response = random.choice(responses)     \n",
    "        \n",
    "    elif intent == \"prof_name_query_lastname\":\n",
    "        responses = responses_dict[\"prof_name_query_lastname\"]\n",
    "        response = random.choice(responses)\n",
    "        new_reponse = response.replace(\"_condition_\", condition) \n",
    "        final_response = new_reponse.replace(\"_answer_\", answer[0][0]) \n",
    "               \n",
    "    elif intent == \"prof_name_query_firstname\":\n",
    "        responses = responses_dict[\"prof_name_query_firstname\"]\n",
    "        response = random.choice(responses)\n",
    "        new_reponse = response.replace(\"_condition_\", condition) \n",
    "        final_response = new_reponse.replace(\"_answer_\", answer[0][0]) \n",
    "       \n",
    "\n",
    "    elif intent == \"prof_name_query_telephone\":\n",
    "        responses = responses_dict[\"prof_name_query_telephone\"]\n",
    "        response = random.choice(responses)\n",
    "        new_reponse = response.replace(\"_condition_\", condition[0]) \n",
    "        final_response = new_reponse.replace(\"_answer_\", answer[0][0] + \" \" + answer[0][1] + \" \" + answer[0][2]) \n",
    "        \n",
    "    elif intent == \"prof_name_query_email\": \n",
    "        responses = responses_dict[\"prof_name_query_email\"]\n",
    "        response = random.choice(responses)\n",
    "        new_reponse = response.replace(\"_condition_\", condition[0]) \n",
    "        final_response = new_reponse.replace(\"_answer_\", answer[0][0] + \" \" + answer[0][1] + \" \" + answer[0][2])       \n",
    "        \n",
    "    elif intent == \"prof_name_query_office\":\n",
    "        responses = responses_dict[\"prof_name_query_office\"]\n",
    "        response = random.choice(responses)\n",
    "        new_reponse = response.replace(\"_condition_\", condition[0]) \n",
    "        final_response = new_reponse.replace(\"_answer_\", answer[0][0] + \" \" + answer[0][1] + \" \" + answer[0][2])      \n",
    "        \n",
    "    elif intent == \"prof_name_query_research_area\":\n",
    "        responses = responses_dict[\"prof_name_query_research_area\"]\n",
    "        response = random.choice(responses)\n",
    "        new_reponse = response.replace(\"_condition_\", condition) \n",
    "        final_response = new_reponse.replace(\"_answer_\", answer[0] + \" \" + answer[1] + \" \" + answer[2])  \n",
    "        \n",
    "    elif intent == \"prof_name_query_study\":\n",
    "        responses = responses_dict[\"prof_name_query_study\"]\n",
    "        response = random.choice(responses)\n",
    "        new_reponse = response.replace(\"_condition_\", condition) \n",
    "        final_response = new_reponse.replace(\"_answer_\", answer[0] + \" \" + answer[1] + \" \" + answer[2])  \n",
    "        \n",
    "    elif intent == \"prof_telephone_query_name\":\n",
    "        responses = responses_dict[\"prof_telephone_query_name\"]\n",
    "        response = random.choice(responses)\n",
    "        new_reponse = response.replace(\"_condition_\", condition) \n",
    "        final_response = new_reponse.replace(\"_answer_\", answer[0][0])  \n",
    "       \n",
    "    elif intent == \"prof_email_query_name\":\n",
    "        responses = responses_dict[\"prof_email_query_name\"]\n",
    "        response = random.choice(responses)\n",
    "        new_reponse = response.replace(\"_condition_\", condition) \n",
    "        final_response = new_reponse.replace(\"_answer_\", answer[0][0])  \n",
    "        \n",
    "    elif intent == \"prof_office_query_name\":\n",
    "        responses = responses_dict[\"prof_office_query_name\"]\n",
    "        response = random.choice(responses)\n",
    "        new_reponse = response.replace(\"_condition_\", condition) \n",
    "        final_response = new_reponse.replace(\"_answer_\", answer[0][0])  \n",
    "        \n",
    "    elif intent == \"prof_research_area_query_name\":\n",
    "        new_answer = \"\"\n",
    "        for i in range(len(answer)):\n",
    "            new_answer += answer[i][0] + \", \"\n",
    "            \n",
    "        responses = responses_dict[\"prof_research_area_query_name\"]\n",
    "        response = random.choice(responses)\n",
    "        new_reponse = response.replace(\"_condition_\", condition) \n",
    "        final_response = new_reponse.replace(\"_answer_\", new_answer)  \n",
    "        \n",
    "    elif intent == \"prof_study_query_name\":\n",
    "        new_answer = \"\"\n",
    "        for i in range(len(answer)):\n",
    "            new_answer += answer[i][0] + \", \"\n",
    "        \n",
    "        responses = responses_dict[\"prof_study_query_name\"]\n",
    "        response = random.choice(responses)\n",
    "        new_reponse = response.replace(\"_condition_\", condition) \n",
    "        final_response = new_reponse.replace(\"_answer_\", new_answer)  \n",
    "        \n",
    "    return final_response"
   ]
  },
  {
   "cell_type": "markdown",
   "id": "40e947ef",
   "metadata": {},
   "source": [
    "#### 6.5.1 Response Generation - Information Extraction and Storing"
   ]
  },
  {
   "cell_type": "code",
   "execution_count": 18,
   "id": "fa7fc7c0",
   "metadata": {
    "ExecuteTime": {
     "end_time": "2022-04-10T18:39:46.482601Z",
     "start_time": "2022-04-10T18:39:46.407764Z"
    }
   },
   "outputs": [],
   "source": [
    "def response_generation_update(intent, condition, prof_name):\n",
    "           \n",
    "    if intent == \"extract_new_telephone\":\n",
    "        response = \"I changed the telephone number. Thanks\"\n",
    "              \n",
    "    elif intent == \"extract_new_email\":\n",
    "        response = \"I changed the email address. Thanks\"\n",
    "              \n",
    "    elif intent == \"extract_new_office\":\n",
    "        response = \"I changed the office number. Thanks\"\n",
    "              \n",
    "    elif intent == \"extract_new_research_area\":\n",
    "        response = \"I added the new research area. Thanks\"\n",
    "              \n",
    "    elif intent == \"extract_new_study\":\n",
    "        response = \"I added the new study. Thanks\"\n",
    "        \n",
    "    return response"
   ]
  },
  {
   "cell_type": "markdown",
   "id": "92e6ec70",
   "metadata": {},
   "source": [
    "### 6.7. Chat"
   ]
  },
  {
   "cell_type": "markdown",
   "id": "fb337f25",
   "metadata": {},
   "source": [
    "Hier wird die finale Chatbot Funktion definiert, die alle zuvor implementierten Funktionen nutzt. Je nach Intent werden die passenden Funktion ausgeführt."
   ]
  },
  {
   "cell_type": "code",
   "execution_count": 19,
   "id": "2d47ca86",
   "metadata": {
    "ExecuteTime": {
     "end_time": "2022-04-10T18:39:46.575654Z",
     "start_time": "2022-04-10T18:39:46.495565Z"
    }
   },
   "outputs": [],
   "source": [
    "def chat():\n",
    "    log = []\n",
    "    print(\"Start talking with me!(type quit to stop):\")\n",
    "    while True:\n",
    "        inp = input(\"You: \")\n",
    "        log.append(inp) #saves all input of user in list\n",
    "        if inp.lower() == \"quit\":\n",
    "            print(\"Goodbye :)\")\n",
    "            break\n",
    "        \n",
    "        # Intent Classification\n",
    "        try:\n",
    "            results = model.predict([bag_of_words(inp, words)])[0] #output is just a probability for each label\n",
    "            results_index = numpy.argmax(results) #index of greatest value\n",
    "            intent = labels[results_index] #output is the most probable label\n",
    "            #print(intent)\n",
    "            \n",
    "            \n",
    "            # Information Extraction and Storing - New professor                \n",
    "            if intent == \"extract_new_prof\":\n",
    "                # Action Execution\n",
    "                action_execution_new_prof()\n",
    "                # Response Generation\n",
    "                response = \"Thank you. I saved the new information in the database\"\n",
    "                print(response)\n",
    "                \n",
    "            # Information Extraction and Storing - Update Information\n",
    "            if \"new\" in intent:\n",
    "                # Slot Filling\n",
    "                prof_name, condition = slot_filling_update(inp, intent)\n",
    "                # Action Execution\n",
    "                action_execution_update(intent, prof_name, condition)\n",
    "                # Response Generation\n",
    "                response = response_generation_update(intent, condition, prof_name)\n",
    "                print(response)\n",
    "\n",
    "            # Information Retrieval \n",
    "            else:\n",
    "                # Slot Filling\n",
    "                condition = slot_filling_retrieval(inp, intent)\n",
    "                # Action Execution\n",
    "                answer = action_execution_retrieval(intent, condition)\n",
    "                # Response Generation\n",
    "                final_response = response_generation_retrieval(intent, answer, condition)\n",
    "                print(final_response)\n",
    "                \n",
    "        # Fallback\n",
    "        except:\n",
    "            print(\"Sorry. I dont't understand. Can you say it with other words?\")\n",
    "\n",
    "    return log"
   ]
  },
  {
   "cell_type": "code",
   "execution_count": 20,
   "id": "5e50fc9e",
   "metadata": {
    "ExecuteTime": {
     "end_time": "2022-04-10T18:41:12.264382Z",
     "start_time": "2022-04-10T18:39:46.577644Z"
    },
    "scrolled": false
   },
   "outputs": [
    {
     "name": "stdout",
     "output_type": "stream",
     "text": [
      "Start talking with me!(type quit to stop):\n",
      "You: hello\n",
      "Hi\n",
      "You: how are you\n",
      "I'm good. Thanks\n",
      "You: whats your name\n",
      "I am KG-Bot\n",
      "You: what can you do \n",
      "Sorry. I dont't understand. Can you say it with other words?\n",
      "You: what is your task?\n",
      "I can help you getting information about HHN Professors\n",
      "You: What is the email of herr lanquillon\n",
      "The email of Lanquillon is carsten.lanquillon@hs-heilbronn.de\n",
      "You: there is a new professor\n",
      "Great! What is the name of the new Professor?\n",
      "You: peter blume \n",
      "What is the phone number\n",
      "You: +00 000 0000 000\n",
      "What is the email address?\n",
      "You: peter@web.de\n",
      "In which office is the new professor sitting?\n",
      "You: t,333\n",
      "What are the research areas of the new professor?\n",
      "You: TENNIS\n",
      "In what study is the new professor teaching?\n",
      "You: TENNIS\n",
      "Sorry. I dont't understand. Can you say it with other words?\n",
      "You: a\n",
      "Bye\n",
      "You: a\n",
      "Goodbye\n",
      "You: quit\n",
      "Goodbye :)\n"
     ]
    },
    {
     "data": {
      "text/plain": [
       "['hello',\n",
       " 'how are you',\n",
       " 'whats your name',\n",
       " 'what can you do ',\n",
       " 'what is your task?',\n",
       " 'What is the email of herr lanquillon',\n",
       " 'there is a new professor',\n",
       " 'a',\n",
       " 'a',\n",
       " 'quit']"
      ]
     },
     "execution_count": 20,
     "metadata": {},
     "output_type": "execute_result"
    }
   ],
   "source": [
    "chat()"
   ]
  },
  {
   "cell_type": "code",
   "execution_count": null,
   "id": "49d02a80",
   "metadata": {},
   "outputs": [],
   "source": []
  },
  {
   "cell_type": "code",
   "execution_count": null,
   "id": "1677d2f4",
   "metadata": {},
   "outputs": [],
   "source": []
  },
  {
   "cell_type": "code",
   "execution_count": null,
   "id": "b3ba27a7",
   "metadata": {},
   "outputs": [],
   "source": []
  },
  {
   "cell_type": "code",
   "execution_count": null,
   "id": "7fcbf9dd",
   "metadata": {},
   "outputs": [],
   "source": []
  },
  {
   "cell_type": "code",
   "execution_count": null,
   "id": "f5de5d31",
   "metadata": {},
   "outputs": [],
   "source": []
  }
 ],
 "metadata": {
  "kernelspec": {
   "display_name": "prototype",
   "language": "python",
   "name": "prototype"
  },
  "language_info": {
   "codemirror_mode": {
    "name": "ipython",
    "version": 3
   },
   "file_extension": ".py",
   "mimetype": "text/x-python",
   "name": "python",
   "nbconvert_exporter": "python",
   "pygments_lexer": "ipython3",
   "version": "3.6.13"
  },
  "toc": {
   "base_numbering": 1,
   "nav_menu": {},
   "number_sections": true,
   "sideBar": true,
   "skip_h1_title": false,
   "title_cell": "Table of Contents",
   "title_sidebar": "Contents",
   "toc_cell": false,
   "toc_position": {},
   "toc_section_display": true,
   "toc_window_display": false
  }
 },
 "nbformat": 4,
 "nbformat_minor": 5
}
