{
 "cells": [
  {
   "cell_type": "markdown",
   "id": "8cbde5a1",
   "metadata": {},
   "source": [
    "# 1. Beschaffung des Wissens für den Chatbot-Prototyp"
   ]
  },
  {
   "cell_type": "markdown",
   "id": "97111eb7",
   "metadata": {},
   "source": [
    "Bevor mit dem eigentlichen Chatbot begonnen werden kann, müssen die Inforamtionen auf deren Basis der Chatbot arbeiten soll beschafft und gespeichter werden. Im Rahmen der Arbeit werden dafür die Informationen wie Kontaktdaten und Forschungsschwerpunkte duech Web Scraping extrahiert und in eine sqlite Datenbank gespeichert. "
   ]
  },
  {
   "cell_type": "markdown",
   "id": "0bf47158",
   "metadata": {
    "ExecuteTime": {
     "end_time": "2022-02-03T17:44:40.960440Z",
     "start_time": "2022-02-03T17:44:40.953494Z"
    }
   },
   "source": [
    "### Import der Bibliotheken "
   ]
  },
  {
   "cell_type": "code",
   "execution_count": 273,
   "id": "824df6ba",
   "metadata": {
    "ExecuteTime": {
     "end_time": "2022-02-04T18:41:12.866901Z",
     "start_time": "2022-02-04T18:41:12.858887Z"
    }
   },
   "outputs": [],
   "source": [
    "from bs4 import BeautifulSoup\n",
    "import requests\n",
    "import re\n",
    "import pandas as pd\n",
    "import time\n",
    "from tqdm import tqdm"
   ]
  },
  {
   "cell_type": "markdown",
   "id": "2c5b0179",
   "metadata": {},
   "source": [
    "### Beschaffung von Namen der HHN Professoren "
   ]
  },
  {
   "cell_type": "markdown",
   "id": "9c86f172",
   "metadata": {},
   "source": [
    "Es werden Namen von HHN Professoren aus Websites gescraped und in eine Liste gespeichter, sodass diese spätter in Iterationen gescraped werden können. "
   ]
  },
  {
   "cell_type": "code",
   "execution_count": 274,
   "id": "93875274",
   "metadata": {
    "ExecuteTime": {
     "end_time": "2022-02-04T18:41:13.535256Z",
     "start_time": "2022-02-04T18:41:13.522289Z"
    }
   },
   "outputs": [],
   "source": [
    "# get the names of the profs in the html. output is a list eith names\n",
    "def get_prof_names():\n",
    "    url = \"https://www.meinprof.de/unis/baden-wuerttemberg/hs-heilbronn\"\n",
    "    page = requests.get(url).text\n",
    "    doc = BeautifulSoup(page, \"html.parser\")\n",
    "    \n",
    "    names = []\n",
    "    \n",
    "    for i in range(284):\n",
    "        a = doc.find_all(class_ = \"bold\")\n",
    "        name = a[i].find(\"a\").contents\n",
    "        names.append(name)\n",
    "    \n",
    "    flat_list = [item for sublist in names for item in sublist]\n",
    "    \n",
    "    for i in range(len(flat_list)):\n",
    "        flat_list[i] = str(flat_list[i])\n",
    "    \n",
    "    #remove profs with one name\n",
    "    profs = []\n",
    "    for i in range(len(flat_list)):\n",
    "        if \",\" in flat_list[i]:\n",
    "            profs.append(flat_list[i])\n",
    "    return profs"
   ]
  },
  {
   "cell_type": "code",
   "execution_count": 275,
   "id": "69e04f5b",
   "metadata": {
    "ExecuteTime": {
     "end_time": "2022-02-04T18:41:22.330125Z",
     "start_time": "2022-02-04T18:41:13.700461Z"
    }
   },
   "outputs": [],
   "source": [
    "# calling the function\n",
    "names = get_prof_names()"
   ]
  },
  {
   "cell_type": "code",
   "execution_count": 276,
   "id": "d225b0ed",
   "metadata": {
    "ExecuteTime": {
     "end_time": "2022-02-04T18:41:22.361104Z",
     "start_time": "2022-02-04T18:41:22.337106Z"
    }
   },
   "outputs": [],
   "source": [
    "# change the names so that they can be palced at the end of the url\n",
    "def transform_name(list):\n",
    "    prof_name_list = []\n",
    "    for i in range(len(list)):\n",
    "        prof_name = list[i]\n",
    "        prof_name = str(prof_name)\n",
    "        words = prof_name.split()\n",
    "        words = words[1], words[0]\n",
    "        ## joining the words and printing\n",
    "        prof_name = \" \".join(words).strip()\n",
    "        prof_name = prof_name.replace(\",\",\"\")\n",
    "        prof_name = prof_name.replace(\" \", \".\")\n",
    "        prof_name_list.append(prof_name)\n",
    "    return prof_name_list"
   ]
  },
  {
   "cell_type": "code",
   "execution_count": 277,
   "id": "cadd8552",
   "metadata": {
    "ExecuteTime": {
     "end_time": "2022-02-04T18:41:22.377068Z",
     "start_time": "2022-02-04T18:41:22.365102Z"
    }
   },
   "outputs": [],
   "source": [
    "prof_names = transform_name(names) "
   ]
  },
  {
   "cell_type": "code",
   "execution_count": 278,
   "id": "81859eab",
   "metadata": {
    "ExecuteTime": {
     "end_time": "2022-02-04T18:41:22.391792Z",
     "start_time": "2022-02-04T18:41:22.379063Z"
    }
   },
   "outputs": [],
   "source": [
    "# manually created list with professor names\n",
    "more_prof_names = [\"carsten.lanquillon\", \"detlef.stern\", \"jochen.guenther\", \"helmut.beckmann\", \"thomas.schaeffer\", \"sonja.salmen\", \"ted.azarmi\", \"katharina.sperl\", \"rektor\", \"ulrich.brecht\", \"ruth.fleuchaus\", \"raoul.zoellner\",\"christoph.schwerdtfeger\"]"
   ]
  },
  {
   "cell_type": "code",
   "execution_count": 279,
   "id": "e1fc97a3",
   "metadata": {
    "ExecuteTime": {
     "end_time": "2022-02-04T18:41:22.407752Z",
     "start_time": "2022-02-04T18:41:22.393789Z"
    }
   },
   "outputs": [
    {
     "data": {
      "text/plain": [
       "['Christopher.Adams',\n",
       " 'Uwe.Ahrens',\n",
       " 'Tobias.Albrecht',\n",
       " 'Wolfgang.Albrecht',\n",
       " 'Martin.Alles',\n",
       " 'Roland.Alter',\n",
       " 'Patrick.Balve',\n",
       " 'Frank.Bantle',\n",
       " 'Jonathan.Bate',\n",
       " 'Ralf.Bäuchl',\n",
       " 'Hans.Bauer',\n",
       " 'Hans.Bauer',\n",
       " 'Rainer.Bayer',\n",
       " 'Helmut.Beckmann',\n",
       " 'Peter.Bender',\n",
       " 'Rolf.Bendl',\n",
       " 'Tomas.Benz',\n",
       " 'Bleyel.Bernd',\n",
       " 'Tobias.Bernecker',\n",
       " 'Thomas.Bezold',\n",
       " 'Axel.Birk',\n",
       " 'Lutz.Blecher',\n",
       " 'Peter.Blessing',\n",
       " 'Rolf.Blumentritt',\n",
       " 'Ralf.Bochert',\n",
       " 'Bernd.Bracht',\n",
       " 'Bernd.Bracht',\n",
       " 'Terry.Braemer',\n",
       " 'David.Braun',\n",
       " 'Ulrich.Brecht',\n",
       " 'Birgit.Brigl',\n",
       " 'Georg.Bucher',\n",
       " 'Jasmin.Buck',\n",
       " 'Georg.Bühler',\n",
       " 'Uwe.Burk',\n",
       " 'August.Burr',\n",
       " 'Franzi.Buscholl',\n",
       " 'Constanze.Clarke',\n",
       " 'Georg.Clauß',\n",
       " 'Andreas.Daberkow',\n",
       " 'Maren-Raphaela.Dechant',\n",
       " 'Hartmut.Dickhaus',\n",
       " 'Michael.Dietzel',\n",
       " 'Ralf.Dillerup',\n",
       " 'Heiko.Dirks',\n",
       " 'Juergen.Doneit',\n",
       " 'Babette.Dorner',\n",
       " 'Manfred.Dorsch',\n",
       " 'Michael.Drach',\n",
       " 'Daniela.Eisele',\n",
       " 'Wolfgang.Elmendorf',\n",
       " 'Frank.Engel',\n",
       " 'Anja.Engelmann',\n",
       " 'Wolfgang.Ernst',\n",
       " 'Simon.Fauser',\n",
       " 'Uwe.Feder',\n",
       " 'Gustav.Fehrenbach',\n",
       " 'Christian.Ferstl',\n",
       " 'Wilhelm.Feucht',\n",
       " 'Frank.Fichert',\n",
       " 'Markus.Fittinghoff',\n",
       " 'Klemens.Flick',\n",
       " 'Annette.Förster',\n",
       " 'Adalbert.Freudenberger',\n",
       " 'Adreas.Fuhrmann',\n",
       " 'Norbert.Gaul',\n",
       " 'Edeltraud.Gehrig',\n",
       " 'Thomas.Geiling',\n",
       " 'Armin.Gemmrich',\n",
       " 'Ralf.Gessler',\n",
       " 'Gisbert.Glasmachers',\n",
       " 'Markus.Groebel',\n",
       " 'Markus.Groebel',\n",
       " 'Michael.Gröschel',\n",
       " 'Prof..Großmann',\n",
       " 'Gerhard.Gruhler',\n",
       " 'Matthias.Grünstäudl',\n",
       " 'Oliver.Haag',\n",
       " 'Matthias.Haag',\n",
       " 'Martin.Haag',\n",
       " 'Martin.Haag',\n",
       " 'Joachim.Häcker',\n",
       " 'Dieter.Hägele',\n",
       " 'Markus.Harke',\n",
       " 'Tom.Hartmann',\n",
       " 'Dirk.Hass',\n",
       " 'Heinz.Hautzinger',\n",
       " 'Gerhard.Haynold',\n",
       " 'Andreas.Heil',\n",
       " 'Alois.Heinz',\n",
       " 'Andreas.Heinz',\n",
       " 'Gerold.Heizmann',\n",
       " 'Olaf.Hengerer',\n",
       " 'Christiane.Henrich-Köhler',\n",
       " 'Eric.Hermann',\n",
       " 'Dieter.Hertweck',\n",
       " 'Dominikus.Herzberg',\n",
       " 'Hans-Ulrich.Heß',\n",
       " 'Susanne.Hetterich',\n",
       " 'Malte.Höch',\n",
       " 'Claire.Holfelder',\n",
       " 'Benjamin.Hötzel',\n",
       " 'Richard.Huber',\n",
       " 'Ulrike.Jaeger',\n",
       " 'Uwe.Jäger',\n",
       " 'Elias.Jammal',\n",
       " 'Stefan.Jelko',\n",
       " 'Alexander.Jesser',\n",
       " 'Winckler.Jörg',\n",
       " 'Armin.Kaesz',\n",
       " 'Werner.Kalliwoda',\n",
       " 'Oliver.Kalthoff',\n",
       " 'Rainald.Kasprik',\n",
       " 'Walter.Kästel',\n",
       " 'Rudolf.Kern',\n",
       " 'Hermann-Josef.Kiel',\n",
       " 'Joachim.Kircher',\n",
       " 'Dipl.-Ing..Kleinert',\n",
       " 'Angela.Koch',\n",
       " 'Joachim.Koch',\n",
       " 'H..Koch-Gröber',\n",
       " 'Detlev.Köhler',\n",
       " 'Werner.Kolb',\n",
       " 'Tobias.Kraus',\n",
       " 'Thomas.Krause',\n",
       " 'Detlef.Kreuz',\n",
       " 'Waldemar.Kropp',\n",
       " 'Andreas.Krug',\n",
       " 'Uwe.Krüger',\n",
       " 'Stefan.Kuhlins',\n",
       " 'Ingo.Kühne',\n",
       " 'Hans-Georg.Kula',\n",
       " 'Detlef.Kümmel',\n",
       " 'Hermann.Lanfer',\n",
       " 'Bernd.Lankers',\n",
       " 'Carsten.Lanquillon',\n",
       " 'Manfred.Laumen',\n",
       " 'Rotraut.Laun',\n",
       " 'Bernd.Lewin',\n",
       " 'Manfred.Lieb',\n",
       " 'Joachim.Link',\n",
       " 'Edmund.Link',\n",
       " 'Thomas.Lischke',\n",
       " 'Dirk.Lohre',\n",
       " 'Burkhard.Lohrengel',\n",
       " 'Tobias.Loose',\n",
       " 'Alfons.Madeja',\n",
       " 'Christoph.Maier',\n",
       " 'Detlev.Manski',\n",
       " 'Nicola.Marsden',\n",
       " 'Ralf.Mayer',\n",
       " 'Bülent.Menekse',\n",
       " 'Tim.Mennel',\n",
       " 'Holger.Merettig',\n",
       " 'Steven.Merrick',\n",
       " 'Bernd.Meyer',\n",
       " 'Marcus.Meyer',\n",
       " 'Ronald.Moeder',\n",
       " 'Mathias.Moersch',\n",
       " 'Steffan.Mueller',\n",
       " 'Andreas.Müller',\n",
       " 'Lothar.Nadler',\n",
       " 'Kurosh.Nekoui',\n",
       " 'Wolf-Michael.Nietzer',\n",
       " 'Birgit.Otto',\n",
       " 'Margot.Papenheim-Ernst',\n",
       " 'Robert.Paspa',\n",
       " 'Gerald.Permantier',\n",
       " 'Gerhard.Peter',\n",
       " 'Daniel.Pfeifer',\n",
       " 'Roland.Pfennig',\n",
       " 'Erwin.Piroth',\n",
       " 'Georg.Pisinger',\n",
       " 'Christian.Pohl',\n",
       " 'Wilhelm.Pompl',\n",
       " 'Thomas.Pospiech',\n",
       " 'Ermenfried.Prochaska',\n",
       " 'Ewald.Pruckner',\n",
       " 'Cornelia.Rabe',\n",
       " 'Otto.Rau',\n",
       " 'Christine.Reck',\n",
       " 'Tim.Reichert',\n",
       " 'Lothar.Renke',\n",
       " 'Eric.Reynaud',\n",
       " 'Rosa.Ribas-Moliné',\n",
       " 'Dirk.Ringhand',\n",
       " 'Jan.Ritter',\n",
       " 'Jan.Ritter',\n",
       " 'Gabriele.Roth',\n",
       " 'Sonja-Maria.Salmen',\n",
       " 'Gabriele.Schäfer',\n",
       " 'Michael.Schanbacher',\n",
       " 'Rainer.Scheffel',\n",
       " 'Dipl.-Math..Schenk',\n",
       " 'Axel.Schenk',\n",
       " 'Günther.Schmid',\n",
       " 'Reinhold.Schmid',\n",
       " 'Diana.Schmidt',\n",
       " 'Andreas.Schmidthöfer',\n",
       " 'Norbert.Schmitz',\n",
       " 'Peter.Schmolz',\n",
       " 'Rainer.Schnauffer',\n",
       " 'Volker.Schneider',\n",
       " 'Michael.Schöll',\n",
       " 'Markus.Scholle',\n",
       " 'Bernhard.Schönbucher',\n",
       " 'Wendelin.Schramm',\n",
       " 'Jürgen.Schröder',\n",
       " 'Christian.Schrödter',\n",
       " 'Reinhold.Schröter',\n",
       " 'Oliver.Schwarz',\n",
       " 'Hans-Jörg.Seebrunner',\n",
       " 'Georg.Seitz',\n",
       " 'Norman.Seitz',\n",
       " 'Günter.Sell',\n",
       " 'Constanze.Sigler',\n",
       " 'Wolfgang.Spieth',\n",
       " 'Danny.Stadelmayer',\n",
       " 'Volker.Stahl',\n",
       " 'Christian.Stangl',\n",
       " 'Patrick.Stern',\n",
       " 'Hans.Sternfeld',\n",
       " 'Winfried.Stock',\n",
       " 'Gert.Stolz',\n",
       " 'Corinna.Thier',\n",
       " 'Barbara.Tichy',\n",
       " 'Christoph.Tiebel',\n",
       " 'Reinhold.Vahrmann',\n",
       " 'Gerhard.Vogler',\n",
       " 'Reinhold.Volk',\n",
       " 'Reventlow.von',\n",
       " 'Hans.Wagner',\n",
       " 'Wolfgang.Wehl',\n",
       " 'Norbert.Wellerdick',\n",
       " 'Christoph.Werk',\n",
       " 'Wilhelm.Werner',\n",
       " 'Thomas.Wetter',\n",
       " 'Uwe.Wiechmann',\n",
       " 'Jörg.Wild',\n",
       " 'Jörg.Wild',\n",
       " 'Bodo.Wilmes',\n",
       " 'Stefan.Wilms',\n",
       " 'Susanne.Wilpers',\n",
       " 'Jörg.Winckler',\n",
       " 'Bernhard.Winkler',\n",
       " 'Dieter.Witt',\n",
       " 'karlheinz.Wolfmüller',\n",
       " 'Ralph.Wystup',\n",
       " 'Jörg.Zaumseil',\n",
       " 'Werner.Ziegler',\n",
       " 'Martin.Zuber',\n",
       " 'carsten.lanquillon',\n",
       " 'detlef.stern',\n",
       " 'jochen.guenther',\n",
       " 'helmut.beckmann',\n",
       " 'thomas.schaeffer',\n",
       " 'sonja.salmen',\n",
       " 'ted.azarmi',\n",
       " 'katharina.sperl',\n",
       " 'rektor',\n",
       " 'ulrich.brecht',\n",
       " 'ruth.fleuchaus',\n",
       " 'raoul.zoellner',\n",
       " 'christoph.schwerdtfeger']"
      ]
     },
     "execution_count": 279,
     "metadata": {},
     "output_type": "execute_result"
    }
   ],
   "source": [
    "# concatenate the big list and the small manual list\n",
    "all_prof_names=prof_names+more_prof_names\n",
    "all_prof_names"
   ]
  },
  {
   "cell_type": "markdown",
   "id": "2117d171",
   "metadata": {},
   "source": [
    "### Funktion für Kontaktdaten der Professoren "
   ]
  },
  {
   "cell_type": "code",
   "execution_count": 280,
   "id": "c6448159",
   "metadata": {
    "ExecuteTime": {
     "end_time": "2022-02-04T18:41:22.437672Z",
     "start_time": "2022-02-04T18:41:22.410746Z"
    }
   },
   "outputs": [],
   "source": [
    "def get_prof_info(list):\n",
    "    title_list = []\n",
    "    first_name_list = []\n",
    "    last_name_list = []\n",
    "    telephone_list = []\n",
    "    email_list = []\n",
    "    office_list = []\n",
    "    postal_address_list = []\n",
    "    prof_id_list = []\n",
    "    \n",
    "    for prof in list:\n",
    "        ### get prof_id ###\n",
    "        prof_id = list.index(prof)+1\n",
    "        prof_id_list.append(prof_id)\n",
    "        \n",
    "        url = \"https://www.hs-heilbronn.de/\"+prof\n",
    "        result = requests.get(url).text\n",
    "        doc = BeautifulSoup(result, \"html.parser\")\n",
    "        \n",
    "        ### get title, first_name, last_name ### \n",
    "        full_name = doc.find(class_=\"mt-0 mb-3 p-0 sal-name\").string\n",
    "        \n",
    "        # first_name\n",
    "        first_name = full_name.split()[-2]\n",
    "        first_name_list.append(first_name)\n",
    "        \n",
    "        # last_name\n",
    "        last_name = full_name.split()[-1]\n",
    "        last_name_list.append(last_name)\n",
    "                \n",
    "        # title\n",
    "        title = full_name.replace(first_name, \"\")\n",
    "        title = title.replace(last_name, \"\")\n",
    "        title_list.append(title)\n",
    "        \n",
    "        ### get phone number ###\n",
    "        telephone = doc.find(class_=\"mb-2\").find(class_=\"color-teal\").string\n",
    "        telephone_list.append(telephone)\n",
    "        \n",
    "        ### get omly the first email ###\n",
    "        email = doc.find_all(class_=\"mb-2\")[1].find(class_=\"color-teal\").string\n",
    "        email_list.append(email)\n",
    "        \n",
    "        ### get office ###\n",
    "        if \"@\" in doc.find_all(class_=\"mb-2\")[2].span.string:\n",
    "        # go to the next item to get the office\n",
    "            office = doc.find_all(class_=\"mb-2\")[3].span.string\n",
    "        else:\n",
    "            office = doc.find_all(class_=\"mb-2\")[2].span.string\n",
    "        office_list.append(office)\n",
    "        \n",
    "        ### get postal_address ###\n",
    "        if len(doc.find_all(class_=\"mb-2\")[3].span.string) < 10:\n",
    "            postal_address = doc.find_all(class_=\"mb-2\")[4].span.string\n",
    "        else:\n",
    "            postal_address = doc.find_all(class_=\"mb-2\")[3].span.string\n",
    "        postal_address_list.append(postal_address)\n",
    "        \n",
    "    df = pd.DataFrame({'prof_id': prof_id_list, 'title': title_list, 'first_name': first_name_list, 'last_name': last_name_list, 'telephone': telephone_list, 'email': email_list, 'office': office_list, 'postal_address': postal_address_list})\n",
    "\n",
    "    return df"
   ]
  },
  {
   "cell_type": "code",
   "execution_count": 281,
   "id": "517bc6f4",
   "metadata": {
    "ExecuteTime": {
     "end_time": "2022-02-04T18:41:25.459792Z",
     "start_time": "2022-02-04T18:41:22.439667Z"
    }
   },
   "outputs": [],
   "source": [
    "# execute the function\n",
    "prof_info_df = get_prof_info(more_prof_names)"
   ]
  },
  {
   "cell_type": "code",
   "execution_count": 282,
   "id": "bc312fcf",
   "metadata": {
    "ExecuteTime": {
     "end_time": "2022-02-04T18:41:25.491788Z",
     "start_time": "2022-02-04T18:41:25.462864Z"
    }
   },
   "outputs": [
    {
     "data": {
      "text/html": [
       "<div>\n",
       "<style scoped>\n",
       "    .dataframe tbody tr th:only-of-type {\n",
       "        vertical-align: middle;\n",
       "    }\n",
       "\n",
       "    .dataframe tbody tr th {\n",
       "        vertical-align: top;\n",
       "    }\n",
       "\n",
       "    .dataframe thead th {\n",
       "        text-align: right;\n",
       "    }\n",
       "</style>\n",
       "<table border=\"1\" class=\"dataframe\">\n",
       "  <thead>\n",
       "    <tr style=\"text-align: right;\">\n",
       "      <th></th>\n",
       "      <th>prof_id</th>\n",
       "      <th>title</th>\n",
       "      <th>first_name</th>\n",
       "      <th>last_name</th>\n",
       "      <th>telephone</th>\n",
       "      <th>email</th>\n",
       "      <th>office</th>\n",
       "      <th>postal_address</th>\n",
       "    </tr>\n",
       "  </thead>\n",
       "  <tbody>\n",
       "    <tr>\n",
       "      <th>0</th>\n",
       "      <td>1</td>\n",
       "      <td>Prof. Dr.-Ing.</td>\n",
       "      <td>Carsten</td>\n",
       "      <td>Lanquillon</td>\n",
       "      <td>+49 7131 504 6942</td>\n",
       "      <td>carsten.lanquillon@hs-heilbronn.de</td>\n",
       "      <td>S.3.45</td>\n",
       "      <td>Max-Planck-Str. 39, 74081 Heilbronn</td>\n",
       "    </tr>\n",
       "    <tr>\n",
       "      <th>1</th>\n",
       "      <td>2</td>\n",
       "      <td>Prof. Dr.</td>\n",
       "      <td>Detlef</td>\n",
       "      <td>Stern</td>\n",
       "      <td>+49 7131 504 450</td>\n",
       "      <td>detlef.stern@hs-heilbronn.de</td>\n",
       "      <td>S.3.44</td>\n",
       "      <td>Max-Planck-Str. 39, 74081 Heilbronn</td>\n",
       "    </tr>\n",
       "    <tr>\n",
       "      <th>2</th>\n",
       "      <td>3</td>\n",
       "      <td>Prof. Dr.-Ing.</td>\n",
       "      <td>Jochen</td>\n",
       "      <td>Günther</td>\n",
       "      <td>+49 (0) 7131 504 6945</td>\n",
       "      <td>jochen.guenther@hs-heilbronn.de</td>\n",
       "      <td>S.3.44</td>\n",
       "      <td>Max-Planck-Str. 39, 74081 Heilbronn</td>\n",
       "    </tr>\n",
       "    <tr>\n",
       "      <th>3</th>\n",
       "      <td>4</td>\n",
       "      <td>Prof. Dr.</td>\n",
       "      <td>Helmut</td>\n",
       "      <td>Beckmann</td>\n",
       "      <td>+49 7131 504 514</td>\n",
       "      <td>helmut.beckmann@hs-heilbronn.de</td>\n",
       "      <td>S.3.47</td>\n",
       "      <td>Max-Planck-Str. 39, 74081 Heilbronn</td>\n",
       "    </tr>\n",
       "    <tr>\n",
       "      <th>4</th>\n",
       "      <td>5</td>\n",
       "      <td>Dipl.-Inf.</td>\n",
       "      <td>Thomas</td>\n",
       "      <td>Schäffer</td>\n",
       "      <td>+49 7131 504 6699</td>\n",
       "      <td>thomas.schaeffer@hs-heilbronn.de</td>\n",
       "      <td>S.3.46</td>\n",
       "      <td>Max-Planck-Str. 39, 74081 Heilbronn</td>\n",
       "    </tr>\n",
       "    <tr>\n",
       "      <th>5</th>\n",
       "      <td>6</td>\n",
       "      <td>Prof. Dr.</td>\n",
       "      <td>Sonja-Maria</td>\n",
       "      <td>Salmen</td>\n",
       "      <td>+49 7131 504 477</td>\n",
       "      <td>sonja.salmen@hs-heilbronn.de</td>\n",
       "      <td>S.3.43</td>\n",
       "      <td>Max-Planck-Str. 39, 74081 Heilbronn</td>\n",
       "    </tr>\n",
       "    <tr>\n",
       "      <th>6</th>\n",
       "      <td>7</td>\n",
       "      <td>Prof. Dr.</td>\n",
       "      <td>Ted</td>\n",
       "      <td>Azarmi</td>\n",
       "      <td>+49 7131 504 6697</td>\n",
       "      <td>ted.azarmi@hs-heilbronn.de</td>\n",
       "      <td>N413</td>\n",
       "      <td>Max-Planck-Str. 39, 74081 Heilbronn</td>\n",
       "    </tr>\n",
       "    <tr>\n",
       "      <th>7</th>\n",
       "      <td>8</td>\n",
       "      <td>Dr.</td>\n",
       "      <td>Katharina</td>\n",
       "      <td>Sperl</td>\n",
       "      <td>+49 7131 504 519</td>\n",
       "      <td>katharina.sperl@hs-heilbronn.de</td>\n",
       "      <td>N540</td>\n",
       "      <td>Max-Planck-Str. 39, 74081 Heilbronn</td>\n",
       "    </tr>\n",
       "    <tr>\n",
       "      <th>8</th>\n",
       "      <td>9</td>\n",
       "      <td>Prof. Dr.-Ing.</td>\n",
       "      <td>Oliver</td>\n",
       "      <td>Lenzen</td>\n",
       "      <td>+49 7131 504 201</td>\n",
       "      <td>rektor@hs-heilbronn.de</td>\n",
       "      <td>T.3.26</td>\n",
       "      <td>Max-Planck-Str. 39, 74081 Heilbronn</td>\n",
       "    </tr>\n",
       "    <tr>\n",
       "      <th>9</th>\n",
       "      <td>10</td>\n",
       "      <td>Prof. Dr.</td>\n",
       "      <td>Ulrich</td>\n",
       "      <td>Brecht</td>\n",
       "      <td>+49 7131 504 551</td>\n",
       "      <td>ulrich.brecht@hs-heilbronn.de</td>\n",
       "      <td>T.3.22</td>\n",
       "      <td>Max-Planck-Str. 39, 74081 Heilbronn</td>\n",
       "    </tr>\n",
       "    <tr>\n",
       "      <th>10</th>\n",
       "      <td>11</td>\n",
       "      <td>Prof. Dr.</td>\n",
       "      <td>Ruth</td>\n",
       "      <td>Fleuchaus</td>\n",
       "      <td>+49 7131 504 552</td>\n",
       "      <td>ruth.fleuchaus@hs-heilbronn.de</td>\n",
       "      <td>T.3.21</td>\n",
       "      <td>Max-Planck-Str. 39, 74081 Heilbronn</td>\n",
       "    </tr>\n",
       "    <tr>\n",
       "      <th>11</th>\n",
       "      <td>12</td>\n",
       "      <td>Prof. Dr.-Ing. Raoul</td>\n",
       "      <td>Daniel</td>\n",
       "      <td>Zöllner</td>\n",
       "      <td>+49 7131 504 6682</td>\n",
       "      <td>raoul.zoellner@hs-heilbronn.de</td>\n",
       "      <td>T.3.20</td>\n",
       "      <td>Max-Planck-Str. 39, 74081 Heilbronn</td>\n",
       "    </tr>\n",
       "    <tr>\n",
       "      <th>12</th>\n",
       "      <td>13</td>\n",
       "      <td></td>\n",
       "      <td>Christoph</td>\n",
       "      <td>Schwerdtfeger</td>\n",
       "      <td>+49 7131 504 202</td>\n",
       "      <td>kanzler@hs-heilbronn.de</td>\n",
       "      <td>T.3.28</td>\n",
       "      <td>Max-Planck-Str. 39, 74081 Heilbronn</td>\n",
       "    </tr>\n",
       "  </tbody>\n",
       "</table>\n",
       "</div>"
      ],
      "text/plain": [
       "    prof_id                   title   first_name      last_name  \\\n",
       "0         1        Prof. Dr.-Ing.        Carsten     Lanquillon   \n",
       "1         2             Prof. Dr.         Detlef          Stern   \n",
       "2         3        Prof. Dr.-Ing.         Jochen        Günther   \n",
       "3         4             Prof. Dr.         Helmut       Beckmann   \n",
       "4         5            Dipl.-Inf.         Thomas       Schäffer   \n",
       "5         6             Prof. Dr.    Sonja-Maria         Salmen   \n",
       "6         7             Prof. Dr.            Ted         Azarmi   \n",
       "7         8                   Dr.      Katharina          Sperl   \n",
       "8         9        Prof. Dr.-Ing.         Oliver         Lenzen   \n",
       "9        10             Prof. Dr.         Ulrich         Brecht   \n",
       "10       11             Prof. Dr.           Ruth      Fleuchaus   \n",
       "11       12  Prof. Dr.-Ing. Raoul         Daniel        Zöllner   \n",
       "12       13                            Christoph  Schwerdtfeger   \n",
       "\n",
       "                telephone                               email    office  \\\n",
       "0       +49 7131 504 6942  carsten.lanquillon@hs-heilbronn.de   S.3.45    \n",
       "1        +49 7131 504 450        detlef.stern@hs-heilbronn.de   S.3.44    \n",
       "2   +49 (0) 7131 504 6945     jochen.guenther@hs-heilbronn.de   S.3.44    \n",
       "3        +49 7131 504 514     helmut.beckmann@hs-heilbronn.de   S.3.47    \n",
       "4       +49 7131 504 6699    thomas.schaeffer@hs-heilbronn.de   S.3.46    \n",
       "5        +49 7131 504 477        sonja.salmen@hs-heilbronn.de   S.3.43    \n",
       "6       +49 7131 504 6697          ted.azarmi@hs-heilbronn.de     N413    \n",
       "7        +49 7131 504 519     katharina.sperl@hs-heilbronn.de     N540    \n",
       "8        +49 7131 504 201              rektor@hs-heilbronn.de   T.3.26    \n",
       "9        +49 7131 504 551       ulrich.brecht@hs-heilbronn.de   T.3.22    \n",
       "10       +49 7131 504 552      ruth.fleuchaus@hs-heilbronn.de   T.3.21    \n",
       "11      +49 7131 504 6682      raoul.zoellner@hs-heilbronn.de   T.3.20    \n",
       "12       +49 7131 504 202             kanzler@hs-heilbronn.de   T.3.28    \n",
       "\n",
       "                           postal_address  \n",
       "0    Max-Planck-Str. 39, 74081 Heilbronn   \n",
       "1    Max-Planck-Str. 39, 74081 Heilbronn   \n",
       "2    Max-Planck-Str. 39, 74081 Heilbronn   \n",
       "3    Max-Planck-Str. 39, 74081 Heilbronn   \n",
       "4    Max-Planck-Str. 39, 74081 Heilbronn   \n",
       "5    Max-Planck-Str. 39, 74081 Heilbronn   \n",
       "6    Max-Planck-Str. 39, 74081 Heilbronn   \n",
       "7    Max-Planck-Str. 39, 74081 Heilbronn   \n",
       "8    Max-Planck-Str. 39, 74081 Heilbronn   \n",
       "9    Max-Planck-Str. 39, 74081 Heilbronn   \n",
       "10   Max-Planck-Str. 39, 74081 Heilbronn   \n",
       "11   Max-Planck-Str. 39, 74081 Heilbronn   \n",
       "12   Max-Planck-Str. 39, 74081 Heilbronn   "
      ]
     },
     "execution_count": 282,
     "metadata": {},
     "output_type": "execute_result"
    }
   ],
   "source": [
    "prof_info_df"
   ]
  },
  {
   "cell_type": "markdown",
   "id": "62160d79",
   "metadata": {},
   "source": [
    "### Funktion für Forschungsschwerpunkte"
   ]
  },
  {
   "cell_type": "code",
   "execution_count": 283,
   "id": "aa808dfc",
   "metadata": {
    "ExecuteTime": {
     "end_time": "2022-02-04T18:41:25.507417Z",
     "start_time": "2022-02-04T18:41:25.494100Z"
    }
   },
   "outputs": [],
   "source": [
    "def get_research_area(list):\n",
    "    research_area_list = []\n",
    "    prof_id_list = []\n",
    "    last_name_list = []\n",
    "    \n",
    "\n",
    "    ### get research areas - Fachgebiete ###\n",
    "    \n",
    "    for prof in list:\n",
    "        ran = True\n",
    "        prof_id = list.index(prof)+1\n",
    "        \n",
    "        url = \"https://www.hs-heilbronn.de/\"+prof\n",
    "        result = requests.get(url).text\n",
    "        doc = BeautifulSoup(result, \"html.parser\")\n",
    "        parent = doc.find_all(class_=\"text-left\")\n",
    "        \n",
    "                # last_name\n",
    "        full_name = doc.find(class_=\"mt-0 mb-3 p-0 sal-name\").string\n",
    "        last_name = full_name.split()[-1]\n",
    "        \n",
    "\n",
    "        \n",
    "        for i in range(len(parent)):\n",
    "            if parent[i].string ==\"Fachgebiete\":\n",
    "                if parent[i+1].find_all(\"li\") != None:\n",
    "                    child = parent[i+1].find_all(\"li\")\n",
    "                    for l in range(len(child)):\n",
    "                        research_area_list.append(child[l].string)\n",
    "                        prof_id_list.append(prof_id)\n",
    "                        last_name_list.append(last_name)\n",
    "            elif parent[i].string ==\"Forschungsschwerpunkte\" or parent[i].string ==\"Forschungsgebiete\":\n",
    "                if parent[i+1].find_all(\"li\") != None:\n",
    "                    child = parent[i+1].find_all(\"li\")\n",
    "                    for l in range(len(child)):\n",
    "                        research_area_list.append(child[l].string)\n",
    "                        prof_id_list.append(prof_id)\n",
    "                        last_name_list.append(last_name)\n",
    "            else:\n",
    "                #if doc.select('ul.vertical-list') != None:\n",
    "                if ran:\n",
    "                    for i in range(len(doc.select('ul.vertical-list'))):\n",
    "                        for l in range(len(doc.select('ul.vertical-list')[i])):\n",
    "                            research_area_list.append(doc.select('ul.vertical-list')[i].find_all(\"li\")[l].string)\n",
    "                            prof_id_list.append(prof_id)\n",
    "                            last_name_list.append(last_name)\n",
    "                            ran = False\n",
    "\n",
    "\n",
    "    df = pd.DataFrame({'prof_id': prof_id_list,\"Name\":last_name_list, 'research_area': research_area_list})           \n",
    "    #print(len(prof_id_list))\n",
    "    #print(len(research_area_list))\n",
    "    \n",
    "    return df"
   ]
  },
  {
   "cell_type": "code",
   "execution_count": 284,
   "id": "ee8ac63b",
   "metadata": {
    "ExecuteTime": {
     "end_time": "2022-02-04T18:41:27.457225Z",
     "start_time": "2022-02-04T18:41:25.510411Z"
    }
   },
   "outputs": [],
   "source": [
    "prof_research_area_df = get_research_area(more_prof_names)"
   ]
  },
  {
   "cell_type": "code",
   "execution_count": 285,
   "id": "1dc39fad",
   "metadata": {
    "ExecuteTime": {
     "end_time": "2022-02-04T18:41:27.487087Z",
     "start_time": "2022-02-04T18:41:27.459163Z"
    }
   },
   "outputs": [
    {
     "data": {
      "text/html": [
       "<div>\n",
       "<style scoped>\n",
       "    .dataframe tbody tr th:only-of-type {\n",
       "        vertical-align: middle;\n",
       "    }\n",
       "\n",
       "    .dataframe tbody tr th {\n",
       "        vertical-align: top;\n",
       "    }\n",
       "\n",
       "    .dataframe thead th {\n",
       "        text-align: right;\n",
       "    }\n",
       "</style>\n",
       "<table border=\"1\" class=\"dataframe\">\n",
       "  <thead>\n",
       "    <tr style=\"text-align: right;\">\n",
       "      <th></th>\n",
       "      <th>prof_id</th>\n",
       "      <th>Name</th>\n",
       "      <th>research_area</th>\n",
       "    </tr>\n",
       "  </thead>\n",
       "  <tbody>\n",
       "    <tr>\n",
       "      <th>0</th>\n",
       "      <td>1</td>\n",
       "      <td>Lanquillon</td>\n",
       "      <td>Business Intelligence</td>\n",
       "    </tr>\n",
       "    <tr>\n",
       "      <th>1</th>\n",
       "      <td>1</td>\n",
       "      <td>Lanquillon</td>\n",
       "      <td>Data Science</td>\n",
       "    </tr>\n",
       "    <tr>\n",
       "      <th>2</th>\n",
       "      <td>1</td>\n",
       "      <td>Lanquillon</td>\n",
       "      <td>Machine Learning</td>\n",
       "    </tr>\n",
       "    <tr>\n",
       "      <th>3</th>\n",
       "      <td>1</td>\n",
       "      <td>Lanquillon</td>\n",
       "      <td>Künstliche Intelligenz</td>\n",
       "    </tr>\n",
       "    <tr>\n",
       "      <th>4</th>\n",
       "      <td>1</td>\n",
       "      <td>Lanquillon</td>\n",
       "      <td>Big Data</td>\n",
       "    </tr>\n",
       "    <tr>\n",
       "      <th>5</th>\n",
       "      <td>1</td>\n",
       "      <td>Lanquillon</td>\n",
       "      <td>Business Intelligence</td>\n",
       "    </tr>\n",
       "    <tr>\n",
       "      <th>6</th>\n",
       "      <td>1</td>\n",
       "      <td>Lanquillon</td>\n",
       "      <td>Big Data Analytics</td>\n",
       "    </tr>\n",
       "    <tr>\n",
       "      <th>7</th>\n",
       "      <td>1</td>\n",
       "      <td>Lanquillon</td>\n",
       "      <td>Data Science</td>\n",
       "    </tr>\n",
       "    <tr>\n",
       "      <th>8</th>\n",
       "      <td>1</td>\n",
       "      <td>Lanquillon</td>\n",
       "      <td>Data Mining</td>\n",
       "    </tr>\n",
       "    <tr>\n",
       "      <th>9</th>\n",
       "      <td>1</td>\n",
       "      <td>Lanquillon</td>\n",
       "      <td>Text Mining</td>\n",
       "    </tr>\n",
       "    <tr>\n",
       "      <th>10</th>\n",
       "      <td>1</td>\n",
       "      <td>Lanquillon</td>\n",
       "      <td>Machine Learning</td>\n",
       "    </tr>\n",
       "    <tr>\n",
       "      <th>11</th>\n",
       "      <td>1</td>\n",
       "      <td>Lanquillon</td>\n",
       "      <td>Natural Language Processing</td>\n",
       "    </tr>\n",
       "    <tr>\n",
       "      <th>12</th>\n",
       "      <td>1</td>\n",
       "      <td>Lanquillon</td>\n",
       "      <td>Knowledge Graphs</td>\n",
       "    </tr>\n",
       "    <tr>\n",
       "      <th>13</th>\n",
       "      <td>2</td>\n",
       "      <td>Stern</td>\n",
       "      <td>Verteilte / dezentrale Kollaboration</td>\n",
       "    </tr>\n",
       "    <tr>\n",
       "      <th>14</th>\n",
       "      <td>2</td>\n",
       "      <td>Stern</td>\n",
       "      <td>Agile Methoden</td>\n",
       "    </tr>\n",
       "    <tr>\n",
       "      <th>15</th>\n",
       "      <td>2</td>\n",
       "      <td>Stern</td>\n",
       "      <td>Softwarearchitektur</td>\n",
       "    </tr>\n",
       "    <tr>\n",
       "      <th>16</th>\n",
       "      <td>2</td>\n",
       "      <td>Stern</td>\n",
       "      <td>Softwaretechnik</td>\n",
       "    </tr>\n",
       "    <tr>\n",
       "      <th>17</th>\n",
       "      <td>2</td>\n",
       "      <td>Stern</td>\n",
       "      <td>Projektmanagement</td>\n",
       "    </tr>\n",
       "    <tr>\n",
       "      <th>18</th>\n",
       "      <td>2</td>\n",
       "      <td>Stern</td>\n",
       "      <td>Computer Supported Cooperative Work</td>\n",
       "    </tr>\n",
       "    <tr>\n",
       "      <th>19</th>\n",
       "      <td>2</td>\n",
       "      <td>Stern</td>\n",
       "      <td>Wirtschaftsinformatik</td>\n",
       "    </tr>\n",
       "    <tr>\n",
       "      <th>20</th>\n",
       "      <td>3</td>\n",
       "      <td>Günther</td>\n",
       "      <td>None</td>\n",
       "    </tr>\n",
       "    <tr>\n",
       "      <th>21</th>\n",
       "      <td>3</td>\n",
       "      <td>Günther</td>\n",
       "      <td>Digitale Transformation</td>\n",
       "    </tr>\n",
       "    <tr>\n",
       "      <th>22</th>\n",
       "      <td>3</td>\n",
       "      <td>Günther</td>\n",
       "      <td>None</td>\n",
       "    </tr>\n",
       "    <tr>\n",
       "      <th>23</th>\n",
       "      <td>3</td>\n",
       "      <td>Günther</td>\n",
       "      <td>Computer Supported Cooperative Work (CSCW)</td>\n",
       "    </tr>\n",
       "    <tr>\n",
       "      <th>24</th>\n",
       "      <td>5</td>\n",
       "      <td>Schäffer</td>\n",
       "      <td>Informationsmanagement</td>\n",
       "    </tr>\n",
       "    <tr>\n",
       "      <th>25</th>\n",
       "      <td>5</td>\n",
       "      <td>Schäffer</td>\n",
       "      <td>Business Intelligence</td>\n",
       "    </tr>\n",
       "    <tr>\n",
       "      <th>26</th>\n",
       "      <td>5</td>\n",
       "      <td>Schäffer</td>\n",
       "      <td>Betriebliche Informationssysteme</td>\n",
       "    </tr>\n",
       "    <tr>\n",
       "      <th>27</th>\n",
       "      <td>5</td>\n",
       "      <td>Schäffer</td>\n",
       "      <td>Wissenschafts- und Forschungsmethoden</td>\n",
       "    </tr>\n",
       "    <tr>\n",
       "      <th>28</th>\n",
       "      <td>5</td>\n",
       "      <td>Schäffer</td>\n",
       "      <td>Daten- und Informationsqualität</td>\n",
       "    </tr>\n",
       "    <tr>\n",
       "      <th>29</th>\n",
       "      <td>5</td>\n",
       "      <td>Schäffer</td>\n",
       "      <td>Überbetriebliches Stammdatenmanagement</td>\n",
       "    </tr>\n",
       "    <tr>\n",
       "      <th>30</th>\n",
       "      <td>5</td>\n",
       "      <td>Schäffer</td>\n",
       "      <td>Datenökosysteme</td>\n",
       "    </tr>\n",
       "    <tr>\n",
       "      <th>31</th>\n",
       "      <td>7</td>\n",
       "      <td>Azarmi</td>\n",
       "      <td>International Business</td>\n",
       "    </tr>\n",
       "    <tr>\n",
       "      <th>32</th>\n",
       "      <td>7</td>\n",
       "      <td>Azarmi</td>\n",
       "      <td>Master International Business &amp; Intercultural ...</td>\n",
       "    </tr>\n",
       "    <tr>\n",
       "      <th>33</th>\n",
       "      <td>7</td>\n",
       "      <td>Azarmi</td>\n",
       "      <td>Master International Tourism Management</td>\n",
       "    </tr>\n",
       "    <tr>\n",
       "      <th>34</th>\n",
       "      <td>9</td>\n",
       "      <td>Lenzen</td>\n",
       "      <td>Konstruktionslehre</td>\n",
       "    </tr>\n",
       "    <tr>\n",
       "      <th>35</th>\n",
       "      <td>9</td>\n",
       "      <td>Lenzen</td>\n",
       "      <td>Maschinenelemente</td>\n",
       "    </tr>\n",
       "    <tr>\n",
       "      <th>36</th>\n",
       "      <td>9</td>\n",
       "      <td>Lenzen</td>\n",
       "      <td>Festigkeitslehre</td>\n",
       "    </tr>\n",
       "    <tr>\n",
       "      <th>37</th>\n",
       "      <td>10</td>\n",
       "      <td>Brecht</td>\n",
       "      <td>internes Rechnungswesen und Controlling</td>\n",
       "    </tr>\n",
       "    <tr>\n",
       "      <th>38</th>\n",
       "      <td>11</td>\n",
       "      <td>Fleuchaus</td>\n",
       "      <td>Konsumentenverhalten</td>\n",
       "    </tr>\n",
       "    <tr>\n",
       "      <th>39</th>\n",
       "      <td>11</td>\n",
       "      <td>Fleuchaus</td>\n",
       "      <td>Produkt- und Unternehmensmarke</td>\n",
       "    </tr>\n",
       "    <tr>\n",
       "      <th>40</th>\n",
       "      <td>11</td>\n",
       "      <td>Fleuchaus</td>\n",
       "      <td>Landesmarke</td>\n",
       "    </tr>\n",
       "    <tr>\n",
       "      <th>41</th>\n",
       "      <td>11</td>\n",
       "      <td>Fleuchaus</td>\n",
       "      <td>Country-of-Origin</td>\n",
       "    </tr>\n",
       "    <tr>\n",
       "      <th>42</th>\n",
       "      <td>11</td>\n",
       "      <td>Fleuchaus</td>\n",
       "      <td>Marketingstrategien</td>\n",
       "    </tr>\n",
       "    <tr>\n",
       "      <th>43</th>\n",
       "      <td>11</td>\n",
       "      <td>Fleuchaus</td>\n",
       "      <td>Weinmarkt</td>\n",
       "    </tr>\n",
       "    <tr>\n",
       "      <th>44</th>\n",
       "      <td>11</td>\n",
       "      <td>Fleuchaus</td>\n",
       "      <td>Nachhaltigkeit</td>\n",
       "    </tr>\n",
       "    <tr>\n",
       "      <th>45</th>\n",
       "      <td>11</td>\n",
       "      <td>Fleuchaus</td>\n",
       "      <td>Pilzwiderstandsfähige Rebsorten</td>\n",
       "    </tr>\n",
       "    <tr>\n",
       "      <th>46</th>\n",
       "      <td>11</td>\n",
       "      <td>Fleuchaus</td>\n",
       "      <td>Internationaler Weinmarkt</td>\n",
       "    </tr>\n",
       "    <tr>\n",
       "      <th>47</th>\n",
       "      <td>12</td>\n",
       "      <td>Zöllner</td>\n",
       "      <td>Informatik</td>\n",
       "    </tr>\n",
       "    <tr>\n",
       "      <th>48</th>\n",
       "      <td>12</td>\n",
       "      <td>Zöllner</td>\n",
       "      <td>Softwaretechnik</td>\n",
       "    </tr>\n",
       "    <tr>\n",
       "      <th>49</th>\n",
       "      <td>12</td>\n",
       "      <td>Zöllner</td>\n",
       "      <td>Labor elektronische Systeme</td>\n",
       "    </tr>\n",
       "    <tr>\n",
       "      <th>50</th>\n",
       "      <td>12</td>\n",
       "      <td>Zöllner</td>\n",
       "      <td>Embedded Systems</td>\n",
       "    </tr>\n",
       "    <tr>\n",
       "      <th>51</th>\n",
       "      <td>12</td>\n",
       "      <td>Zöllner</td>\n",
       "      <td>Bildverarbeitung</td>\n",
       "    </tr>\n",
       "    <tr>\n",
       "      <th>52</th>\n",
       "      <td>12</td>\n",
       "      <td>Zöllner</td>\n",
       "      <td>Autonome Systeme</td>\n",
       "    </tr>\n",
       "  </tbody>\n",
       "</table>\n",
       "</div>"
      ],
      "text/plain": [
       "    prof_id        Name                                      research_area\n",
       "0         1  Lanquillon                              Business Intelligence\n",
       "1         1  Lanquillon                                       Data Science\n",
       "2         1  Lanquillon                                   Machine Learning\n",
       "3         1  Lanquillon                             Künstliche Intelligenz\n",
       "4         1  Lanquillon                                           Big Data\n",
       "5         1  Lanquillon                              Business Intelligence\n",
       "6         1  Lanquillon                                 Big Data Analytics\n",
       "7         1  Lanquillon                                       Data Science\n",
       "8         1  Lanquillon                                        Data Mining\n",
       "9         1  Lanquillon                                        Text Mining\n",
       "10        1  Lanquillon                                   Machine Learning\n",
       "11        1  Lanquillon                        Natural Language Processing\n",
       "12        1  Lanquillon                                   Knowledge Graphs\n",
       "13        2       Stern               Verteilte / dezentrale Kollaboration\n",
       "14        2       Stern                                     Agile Methoden\n",
       "15        2       Stern                                Softwarearchitektur\n",
       "16        2       Stern                                    Softwaretechnik\n",
       "17        2       Stern                                  Projektmanagement\n",
       "18        2       Stern                Computer Supported Cooperative Work\n",
       "19        2       Stern                             Wirtschaftsinformatik \n",
       "20        3     Günther                                               None\n",
       "21        3     Günther                           Digitale Transformation \n",
       "22        3     Günther                                               None\n",
       "23        3     Günther         Computer Supported Cooperative Work (CSCW)\n",
       "24        5    Schäffer                             Informationsmanagement\n",
       "25        5    Schäffer                              Business Intelligence\n",
       "26        5    Schäffer                   Betriebliche Informationssysteme\n",
       "27        5    Schäffer              Wissenschafts- und Forschungsmethoden\n",
       "28        5    Schäffer                    Daten- und Informationsqualität\n",
       "29        5    Schäffer             Überbetriebliches Stammdatenmanagement\n",
       "30        5    Schäffer                                    Datenökosysteme\n",
       "31        7      Azarmi                             International Business\n",
       "32        7      Azarmi  Master International Business & Intercultural ...\n",
       "33        7      Azarmi            Master International Tourism Management\n",
       "34        9      Lenzen                                Konstruktionslehre \n",
       "35        9      Lenzen                                 Maschinenelemente \n",
       "36        9      Lenzen                                   Festigkeitslehre\n",
       "37       10      Brecht            internes Rechnungswesen und Controlling\n",
       "38       11   Fleuchaus                               Konsumentenverhalten\n",
       "39       11   Fleuchaus                     Produkt- und Unternehmensmarke\n",
       "40       11   Fleuchaus                                        Landesmarke\n",
       "41       11   Fleuchaus                                  Country-of-Origin\n",
       "42       11   Fleuchaus                                Marketingstrategien\n",
       "43       11   Fleuchaus                                          Weinmarkt\n",
       "44       11   Fleuchaus                                     Nachhaltigkeit\n",
       "45       11   Fleuchaus                    Pilzwiderstandsfähige Rebsorten\n",
       "46       11   Fleuchaus                          Internationaler Weinmarkt\n",
       "47       12     Zöllner                                         Informatik\n",
       "48       12     Zöllner                                    Softwaretechnik\n",
       "49       12     Zöllner                        Labor elektronische Systeme\n",
       "50       12     Zöllner                                   Embedded Systems\n",
       "51       12     Zöllner                                   Bildverarbeitung\n",
       "52       12     Zöllner                                   Autonome Systeme"
      ]
     },
     "execution_count": 285,
     "metadata": {},
     "output_type": "execute_result"
    }
   ],
   "source": [
    "pd.set_option(\"display.max_rows\", None, \"display.max_columns\", None)\n",
    "prof_research_area_df"
   ]
  },
  {
   "cell_type": "markdown",
   "id": "8f862557",
   "metadata": {
    "ExecuteTime": {
     "end_time": "2022-02-04T16:43:51.504158Z",
     "start_time": "2022-02-04T16:43:51.490192Z"
    }
   },
   "source": [
    "### Funktion für Studiengänge"
   ]
  },
  {
   "cell_type": "code",
   "execution_count": 286,
   "id": "5b52beb3",
   "metadata": {
    "ExecuteTime": {
     "end_time": "2022-02-04T18:41:27.502442Z",
     "start_time": "2022-02-04T18:41:27.489083Z"
    }
   },
   "outputs": [],
   "source": [
    "def get_study(list):\n",
    "    study_list = []\n",
    "    prof_id_list = []\n",
    "    last_name_list = []\n",
    "    \n",
    "\n",
    "    ### get research areas - Fachgebiete ###\n",
    "    \n",
    "    for prof in list:\n",
    "        prof_id = list.index(prof)+1\n",
    "        \n",
    "        url = \"https://www.hs-heilbronn.de/\"+prof\n",
    "        result = requests.get(url).text\n",
    "        doc = BeautifulSoup(result, \"html.parser\")\n",
    "        parent = doc.find_all(class_=\"text-left\")\n",
    "        \n",
    "                # last_name\n",
    "        full_name = doc.find(class_=\"mt-0 mb-3 p-0 sal-name\").string\n",
    "        last_name = full_name.split()[-1]\n",
    "        \n",
    "        for i in range(len(doc.find_all(class_ = \"color-teal\"))):\n",
    "            study = doc.find_all(class_ = \"color-teal\")[i].string\n",
    "            if \"+\" not in study and  \"@\" not in study:\n",
    "                study_list.append(study)\n",
    "                prof_id_list.append(prof_id)\n",
    "                last_name_list.append(last_name)\n",
    "        \n",
    "    df = pd.DataFrame({'prof_id': prof_id_list,\"Name\":last_name_list, 'study': study_list})           \n",
    "    #print(len(prof_id_list))\n",
    "    #print(len(research_area_list))\n",
    "    \n",
    "    return df"
   ]
  },
  {
   "cell_type": "code",
   "execution_count": 287,
   "id": "23ad0db5",
   "metadata": {
    "ExecuteTime": {
     "end_time": "2022-02-04T18:41:33.512880Z",
     "start_time": "2022-02-04T18:41:27.504680Z"
    }
   },
   "outputs": [],
   "source": [
    "prof_study = get_study(more_prof_names)"
   ]
  },
  {
   "cell_type": "code",
   "execution_count": 288,
   "id": "0d46143e",
   "metadata": {
    "ExecuteTime": {
     "end_time": "2022-02-04T18:41:33.528835Z",
     "start_time": "2022-02-04T18:41:33.514874Z"
    }
   },
   "outputs": [
    {
     "data": {
      "text/html": [
       "<div>\n",
       "<style scoped>\n",
       "    .dataframe tbody tr th:only-of-type {\n",
       "        vertical-align: middle;\n",
       "    }\n",
       "\n",
       "    .dataframe tbody tr th {\n",
       "        vertical-align: top;\n",
       "    }\n",
       "\n",
       "    .dataframe thead th {\n",
       "        text-align: right;\n",
       "    }\n",
       "</style>\n",
       "<table border=\"1\" class=\"dataframe\">\n",
       "  <thead>\n",
       "    <tr style=\"text-align: right;\">\n",
       "      <th></th>\n",
       "      <th>prof_id</th>\n",
       "      <th>Name</th>\n",
       "      <th>study</th>\n",
       "    </tr>\n",
       "  </thead>\n",
       "  <tbody>\n",
       "    <tr>\n",
       "      <th>0</th>\n",
       "      <td>1</td>\n",
       "      <td>Lanquillon</td>\n",
       "      <td>Wirtschaftsinformatik</td>\n",
       "    </tr>\n",
       "    <tr>\n",
       "      <th>1</th>\n",
       "      <td>2</td>\n",
       "      <td>Stern</td>\n",
       "      <td>Wirtschaftsinformatik</td>\n",
       "    </tr>\n",
       "    <tr>\n",
       "      <th>2</th>\n",
       "      <td>2</td>\n",
       "      <td>Stern</td>\n",
       "      <td>Wirtschaftsinformatik - Informationsmanagement...</td>\n",
       "    </tr>\n",
       "    <tr>\n",
       "      <th>3</th>\n",
       "      <td>2</td>\n",
       "      <td>Stern</td>\n",
       "      <td>Wirtschaftsinformatik - Digitale Transformatio...</td>\n",
       "    </tr>\n",
       "    <tr>\n",
       "      <th>4</th>\n",
       "      <td>2</td>\n",
       "      <td>Stern</td>\n",
       "      <td>Fakultät Wirtschaft und Verkehr</td>\n",
       "    </tr>\n",
       "    <tr>\n",
       "      <th>5</th>\n",
       "      <td>3</td>\n",
       "      <td>Günther</td>\n",
       "      <td>Wirtschaftsinformatik</td>\n",
       "    </tr>\n",
       "    <tr>\n",
       "      <th>6</th>\n",
       "      <td>4</td>\n",
       "      <td>Beckmann</td>\n",
       "      <td>Wirtschaftsinformatik - Informationsmanagement...</td>\n",
       "    </tr>\n",
       "    <tr>\n",
       "      <th>7</th>\n",
       "      <td>4</td>\n",
       "      <td>Beckmann</td>\n",
       "      <td>Wirtschaftsinformatik</td>\n",
       "    </tr>\n",
       "    <tr>\n",
       "      <th>8</th>\n",
       "      <td>5</td>\n",
       "      <td>Schäffer</td>\n",
       "      <td>Wirtschaftsinformatik</td>\n",
       "    </tr>\n",
       "    <tr>\n",
       "      <th>9</th>\n",
       "      <td>6</td>\n",
       "      <td>Salmen</td>\n",
       "      <td>Wirtschaftsinformatik</td>\n",
       "    </tr>\n",
       "    <tr>\n",
       "      <th>10</th>\n",
       "      <td>7</td>\n",
       "      <td>Azarmi</td>\n",
       "      <td>Fakultät International Business</td>\n",
       "    </tr>\n",
       "    <tr>\n",
       "      <th>11</th>\n",
       "      <td>7</td>\n",
       "      <td>Azarmi</td>\n",
       "      <td>International Business &amp; Intercultural Management</td>\n",
       "    </tr>\n",
       "    <tr>\n",
       "      <th>12</th>\n",
       "      <td>7</td>\n",
       "      <td>Azarmi</td>\n",
       "      <td>International Tourism Management</td>\n",
       "    </tr>\n",
       "    <tr>\n",
       "      <th>13</th>\n",
       "      <td>8</td>\n",
       "      <td>Sperl</td>\n",
       "      <td>Fakultät International Business</td>\n",
       "    </tr>\n",
       "    <tr>\n",
       "      <th>14</th>\n",
       "      <td>8</td>\n",
       "      <td>Sperl</td>\n",
       "      <td>Internationale Betriebswirtschaft - Interkultu...</td>\n",
       "    </tr>\n",
       "    <tr>\n",
       "      <th>15</th>\n",
       "      <td>9</td>\n",
       "      <td>Lenzen</td>\n",
       "      <td>Hochschulleitung</td>\n",
       "    </tr>\n",
       "    <tr>\n",
       "      <th>16</th>\n",
       "      <td>10</td>\n",
       "      <td>Brecht</td>\n",
       "      <td>Hochschulleitung</td>\n",
       "    </tr>\n",
       "    <tr>\n",
       "      <th>17</th>\n",
       "      <td>10</td>\n",
       "      <td>Brecht</td>\n",
       "      <td>Prorektorat Studium und Lehre</td>\n",
       "    </tr>\n",
       "    <tr>\n",
       "      <th>18</th>\n",
       "      <td>10</td>\n",
       "      <td>Brecht</td>\n",
       "      <td>Fakultät Management und Vertrieb</td>\n",
       "    </tr>\n",
       "    <tr>\n",
       "      <th>19</th>\n",
       "      <td>11</td>\n",
       "      <td>Fleuchaus</td>\n",
       "      <td>Hochschulleitung</td>\n",
       "    </tr>\n",
       "    <tr>\n",
       "      <th>20</th>\n",
       "      <td>11</td>\n",
       "      <td>Fleuchaus</td>\n",
       "      <td>Fakultät International Business</td>\n",
       "    </tr>\n",
       "    <tr>\n",
       "      <th>21</th>\n",
       "      <td>11</td>\n",
       "      <td>Fleuchaus</td>\n",
       "      <td>Weinmarketing und Management</td>\n",
       "    </tr>\n",
       "    <tr>\n",
       "      <th>22</th>\n",
       "      <td>12</td>\n",
       "      <td>Zöllner</td>\n",
       "      <td>Hochschulleitung</td>\n",
       "    </tr>\n",
       "    <tr>\n",
       "      <th>23</th>\n",
       "      <td>13</td>\n",
       "      <td>Schwerdtfeger</td>\n",
       "      <td>Hochschulleitung</td>\n",
       "    </tr>\n",
       "  </tbody>\n",
       "</table>\n",
       "</div>"
      ],
      "text/plain": [
       "    prof_id           Name                                              study\n",
       "0         1     Lanquillon                              Wirtschaftsinformatik\n",
       "1         2          Stern                              Wirtschaftsinformatik\n",
       "2         2          Stern  Wirtschaftsinformatik - Informationsmanagement...\n",
       "3         2          Stern  Wirtschaftsinformatik - Digitale Transformatio...\n",
       "4         2          Stern                    Fakultät Wirtschaft und Verkehr\n",
       "5         3        Günther                              Wirtschaftsinformatik\n",
       "6         4       Beckmann  Wirtschaftsinformatik - Informationsmanagement...\n",
       "7         4       Beckmann                              Wirtschaftsinformatik\n",
       "8         5       Schäffer                              Wirtschaftsinformatik\n",
       "9         6         Salmen                              Wirtschaftsinformatik\n",
       "10        7         Azarmi                    Fakultät International Business\n",
       "11        7         Azarmi  International Business & Intercultural Management\n",
       "12        7         Azarmi                   International Tourism Management\n",
       "13        8          Sperl                    Fakultät International Business\n",
       "14        8          Sperl  Internationale Betriebswirtschaft - Interkultu...\n",
       "15        9         Lenzen                                   Hochschulleitung\n",
       "16       10         Brecht                                   Hochschulleitung\n",
       "17       10         Brecht                      Prorektorat Studium und Lehre\n",
       "18       10         Brecht                   Fakultät Management und Vertrieb\n",
       "19       11      Fleuchaus                                   Hochschulleitung\n",
       "20       11      Fleuchaus                    Fakultät International Business\n",
       "21       11      Fleuchaus                       Weinmarketing und Management\n",
       "22       12        Zöllner                                   Hochschulleitung\n",
       "23       13  Schwerdtfeger                                   Hochschulleitung"
      ]
     },
     "execution_count": 288,
     "metadata": {},
     "output_type": "execute_result"
    }
   ],
   "source": [
    "prof_study"
   ]
  },
  {
   "cell_type": "markdown",
   "id": "e5146d86",
   "metadata": {},
   "source": [
    "### Dataframes in sqlite Datenbank schreiben "
   ]
  },
  {
   "cell_type": "code",
   "execution_count": 296,
   "id": "e380b41d",
   "metadata": {
    "ExecuteTime": {
     "end_time": "2022-02-04T19:00:32.058251Z",
     "start_time": "2022-02-04T19:00:32.054227Z"
    }
   },
   "outputs": [],
   "source": [
    "import sqlite3"
   ]
  },
  {
   "cell_type": "code",
   "execution_count": 310,
   "id": "75184fe0",
   "metadata": {
    "ExecuteTime": {
     "end_time": "2022-02-04T19:10:29.637413Z",
     "start_time": "2022-02-04T19:10:29.609487Z"
    }
   },
   "outputs": [],
   "source": [
    "# create the tabels and write the dataframe into the tables\n",
    "conn = sqlite3.connect(r\"C:\\Users\\Sebi\\OneDrive\\Studium\\Chatbot_Prototype\\PROF_INFO_DB.db\")\n",
    "cur = conn.cursor()\n",
    "prof_research_area_df.to_sql(\"PROF_RESEARCH_AREA_TABLE\", conn, index=False)\n",
    "conn.close()"
   ]
  },
  {
   "cell_type": "code",
   "execution_count": 311,
   "id": "28f59f2c",
   "metadata": {
    "ExecuteTime": {
     "end_time": "2022-02-04T19:12:10.372711Z",
     "start_time": "2022-02-04T19:12:10.367757Z"
    }
   },
   "outputs": [],
   "source": [
    "conn.close()"
   ]
  },
  {
   "cell_type": "markdown",
   "id": "983ee992",
   "metadata": {
    "heading_collapsed": true
   },
   "source": [
    "#### SQL Queries testen"
   ]
  },
  {
   "cell_type": "code",
   "execution_count": 337,
   "id": "185a597b",
   "metadata": {
    "ExecuteTime": {
     "end_time": "2022-02-04T19:25:02.452852Z",
     "start_time": "2022-02-04T19:25:02.434903Z"
    },
    "hidden": true
   },
   "outputs": [],
   "source": [
    "SearchFor = \"title, first_name, last_name\"\n",
    "condition = \"Machine Learning\""
   ]
  },
  {
   "cell_type": "code",
   "execution_count": 346,
   "id": "297e2f21",
   "metadata": {
    "ExecuteTime": {
     "end_time": "2022-02-04T19:27:26.634162Z",
     "start_time": "2022-02-04T19:27:26.621164Z"
    },
    "hidden": true
   },
   "outputs": [],
   "source": [
    "conn = sqlite3.connect(r\"C:\\Users\\Sebi\\OneDrive\\Studium\\Chatbot_Prototype\\PROF_INFO_DB.db\")\n",
    "cur = conn.cursor()\n",
    "cur.execute(\"select \" + SearchFor + \" from PROF_INFO_TABLE inner join PROF_RESEARCH_AREA_TABLE on PROF_RESEARCH_AREA_TABLE.prof_id = PROF_INFO_TABLE.prof_id where research_area = ?\", (condition,))\n",
    "conn.commit()\n",
    "rows = cur.fetchall()\n",
    "conn.close()"
   ]
  },
  {
   "cell_type": "code",
   "execution_count": 358,
   "id": "c324987b",
   "metadata": {
    "ExecuteTime": {
     "end_time": "2022-02-04T19:37:03.250663Z",
     "start_time": "2022-02-04T19:37:03.242648Z"
    },
    "hidden": true
   },
   "outputs": [],
   "source": [
    "# convert tupl to string\n",
    "answer = \" \".join(rows[0])"
   ]
  },
  {
   "cell_type": "code",
   "execution_count": 359,
   "id": "724b22ac",
   "metadata": {
    "ExecuteTime": {
     "end_time": "2022-02-04T19:37:03.810944Z",
     "start_time": "2022-02-04T19:37:03.800972Z"
    },
    "hidden": true
   },
   "outputs": [
    {
     "data": {
      "text/plain": [
       "'Prof. Dr.-Ing.   Carsten Lanquillon'"
      ]
     },
     "execution_count": 359,
     "metadata": {},
     "output_type": "execute_result"
    }
   ],
   "source": [
    "answer"
   ]
  },
  {
   "cell_type": "code",
   "execution_count": 360,
   "id": "ed9d0ae2",
   "metadata": {
    "ExecuteTime": {
     "end_time": "2022-02-04T19:37:04.473500Z",
     "start_time": "2022-02-04T19:37:04.463529Z"
    },
    "hidden": true
   },
   "outputs": [],
   "source": [
    "answer_to_user = answer + \" is an expert in Machine Learning \""
   ]
  },
  {
   "cell_type": "code",
   "execution_count": 361,
   "id": "6d87725b",
   "metadata": {
    "ExecuteTime": {
     "end_time": "2022-02-04T19:37:04.798845Z",
     "start_time": "2022-02-04T19:37:04.783223Z"
    },
    "hidden": true
   },
   "outputs": [
    {
     "data": {
      "text/plain": [
       "'Prof. Dr.-Ing.   Carsten Lanquillon is an expert in Machine Learning '"
      ]
     },
     "execution_count": 361,
     "metadata": {},
     "output_type": "execute_result"
    }
   ],
   "source": [
    "answer_to_user"
   ]
  },
  {
   "cell_type": "markdown",
   "id": "d5ae1e88",
   "metadata": {},
   "source": [
    "### Testing Code"
   ]
  },
  {
   "cell_type": "code",
   "execution_count": 257,
   "id": "c8778925",
   "metadata": {
    "ExecuteTime": {
     "end_time": "2022-02-04T16:39:31.138870Z",
     "start_time": "2022-02-04T16:39:29.767675Z"
    }
   },
   "outputs": [],
   "source": [
    "url = \"https://www.hs-heilbronn.de/carsten.lanquillon\"\n",
    "result = requests.get(url).text\n",
    "doc = BeautifulSoup(result, \"html.parser\")"
   ]
  },
  {
   "cell_type": "code",
   "execution_count": 258,
   "id": "462bfe23",
   "metadata": {
    "ExecuteTime": {
     "end_time": "2022-02-04T16:39:31.827136Z",
     "start_time": "2022-02-04T16:39:31.805155Z"
    }
   },
   "outputs": [
    {
     "data": {
      "text/plain": [
       "'<!DOCTYPE html>\\n<html lang=\"de\">\\n <head>\\n  <meta charset=\"utf-8\"/>\\n  <meta content=\"IE=edge\" http-equiv=\"X-UA-Compatible\"/>\\n  <meta content=\"width=device-width, initial-scale=1\" name=\"viewport\"/>\\n  <meta content=\"Scrivito by Infopark AG (scrivito.com)\" name=\"generator\"/>\\n  <title data-react-helmet=\"true\">\\n   Prof. Dr.-Ing. Carsten Lanquillon\\n  </title>\\n  <meta content=\"summary_large_image\" data-react-helmet=\"true\" name=\"twitter:card\"/>\\n  <meta content=\"200\" data-react-helmet=\"true\" name=\"prerender-status-code\"/>\\n  <meta content=\"article\" data-react-helmet=\"true\" property=\"og:type\"/>\\n  <meta content=\"https://www.hs-heilbronn.de/carsten.lanquillon\" data-react-helmet=\"true\" property=\"og:url\"/>\\n  <meta content=\"Fachgebiete\\nBusiness IntelligenceData ScienceMachine LearningKünstliche IntelligenzBig Data\\nForschungsschwerpunkte\\nBusiness...\" data-react-helmet=\"true\" name=\"twitter:description\"/>\\n  <meta content=\"https://cdn0.scrvt.com/5b9bbd140a15e188780a6244ebe572d4/e0680f718a72abe4/cb1a703f98b3/v/eab91afdf10c/lanquillon.jpg?nowebp=1\" data-react-helmet=\"true\" name=\"twitter:image\"/>\\n  <meta content=\"Prof. Dr.-Ing. Carsten Lanquillon\" data-react-helmet=\"true\" name=\"twitter:title\"/>\\n  <meta content=\"Fachgebiete\\nBusiness IntelligenceData ScienceMachine LearningKünstliche IntelligenzBig Data\\nForschungsschwerpunkte\\nBusiness IntelligenceBig Data AnalyticsData ScienceData MiningText MiningMachine LearningNatural Language ProcessingKnowledge Graphs\" data-react-helmet=\"true\" property=\"og:description\"/>\\n  <meta content=\"https://cdn0.scrvt.com/5b9bbd140a15e188780a6244ebe572d4/e0680f718a72abe4/cb1a703f98b3/v/eab91afdf10c/lanquillon.jpg?nowebp=1\" data-react-helmet=\"true\" property=\"og:image\"/>\\n  <meta content=\"Prof. Dr.-Ing. Carsten Lanquillon\" data-react-helmet=\"true\" property=\"og:title\"/>\\n  <link data-react-helmet=\"true\" href=\"/assets/favicon.03b212d5130e24c7d2ac27719aaa5525.png\" rel=\"shortcut icon\" type=\"image/png\"/>\\n  <link data-react-helmet=\"true\" href=\"https://www.hs-heilbronn.de/carsten.lanquillon\" rel=\"canonical\"/>\\n  <link crossorigin=\"\" href=\"https://api.scrivito.com\" rel=\"preconnect\"/>\\n  <link href=\"https://api.scrivito.com\" rel=\"preconnect\"/>\\n  <link href=\"https://cdn0.scrvt.com\" rel=\"preconnect\"/>\\n  <link href=\"/assets/index.css\" rel=\"stylesheet\"/>\\n  <script src=\"/js_snippets_head.js\">\\n  </script>\\n </head>\\n <body>\\n  <div data-scrivito-prerendering-obj-id=\"f113b8a19381899f\" id=\"application\">\\n   <div>\\n    <div class=\"content-wrapper\">\\n     <div class=\"shadow main-navigation-container sticky-top bg-white\">\\n      <div class=\"container navigation\">\\n       <div class=\"row\">\\n        <div class=\"col-4 col-sm-3 col-md-2\">\\n         <a class=\"navbar-brand undefined\" href=\"/\" title=\"Homepage\">\\n          <img alt=\"Hochschule Heilbronn\" class=\"img-fluid\" src=\"/assets/logo_color_de.1d2df2ddaca26921d4f3931e6dbf8a12.png\"/>\\n         </a>\\n        </div>\\n        <div class=\"col-8 col-sm-9 col-md-10 align-self-center\">\\n         <div id=\"top-navigation\">\\n          <div class=\"container navigation\">\\n          </div>\\n          <div class=\"pt-2 pt-sm-3 pb-2 d-sm-flex justify-content-end align-items-center clearfix\" id=\"options-navigation\">\\n           <a class=\"d-none d-sm-block text-decoration-none nav-icon color-gray\" href=\"/favoritenliste-b6f5a451c334681b\" id=\"Favourites\" title=\"Favoriten\">\\n            <i class=\"btn btn-link btn-sm far fa-heart fa-lg nav-btn\">\\n            </i>\\n           </a>\\n           <div class=\"d-flex float-right\">\\n            <div>\\n             <a class=\"btn btn-link btn-sm nav-icon nav-btn\" href=\"/leichte-sprache\" title=\"Leichte Sprache\">\\n              <i class=\"fas fa-book-reader fa-lg\">\\n              </i>\\n             </a>\\n            </div>\\n            <div>\\n             <a class=\"btn btn-link btn-sm nav-icon nav-btn\" href=\"/gebaerdensprache\" title=\"Gebärdensprache\">\\n              <i class=\"fas fa-sign-language fa-lg\">\\n              </i>\\n             </a>\\n            </div>\\n            <div class=\"d-flex float-right\">\\n             <span class=\"float-right\">\\n              <span>\\n               <a class=\"btn btn-link btn-sm px-2 disabled\" href=\"/\">\\n                DE\\n               </a>\\n              </span>\\n              <span>\\n               <span>\\n                |\\n               </span>\\n               <a class=\"btn btn-link btn-sm px-2\" href=\"/en\">\\n                EN\\n               </a>\\n              </span>\\n             </span>\\n            </div>\\n           </div>\\n           <button class=\"btn btn-link btn-sm mr-2 d-none d-sm-block nav-icon nav-btn\" title=\"search\">\\n            <i class=\"fa fa-search fa-lg\" title=\"search\">\\n            </i>\\n           </button>\\n           <a class=\"btn btn-primary d-none d-sm-block\" href=\"https://www.hs-heilbronn.de/intranet\">\\n            Intranet\\n           </a>\\n          </div>\\n         </div>\\n         <div class=\"d-none d-sm-flex justify-content-end\" id=\"main-navigation\">\\n          <ul>\\n          </ul>\\n          <span class=\"css-1xdhyk6\">\\n           <span class=\"css-1g1rbpj\">\\n           </span>\\n           <span class=\"css-mvxdy\">\\n           </span>\\n           <span class=\"css-agwt1d\">\\n           </span>\\n          </span>\\n         </div>\\n        </div>\\n       </div>\\n      </div>\\n     </div>\\n     <div class=\"fixed-bottom bg-white shadow-up d-block d-sm-none\" id=\"mobil-navigation\">\\n      <div class=\"nav-levels collapse\">\\n       <div class=\"favourite d-sm-none pl-3 border py-2\">\\n        <div class=\"number d-inline-block text-white bg-primary\">\\n         0\\n        </div>\\n        <div class=\"d-flex align-items-center\">\\n         <a class=\"tag-icon d-inline-block far fa-heart fa-lg pr-1 py-2\" href=\"/favoritenliste-b6f5a451c334681b\">\\n         </a>\\n         <span class=\"text-secondary fav-text\">\\n          gespeicherte Studiengang\\n         </span>\\n        </div>\\n       </div>\\n       <div>\\n        <div class=\"bg-white border-top\">\\n         <ul class=\"list-unstyled\">\\n         </ul>\\n        </div>\\n       </div>\\n      </div>\\n      <div class=\"row m-0\">\\n       <div class=\"col-3 text-center pt-2 border-top\">\\n        <button class=\"btn btn-link btn-sm mr-2 nav-btn\" title=\"search\">\\n         <i class=\"fa fa-search\" title=\"search\">\\n         </i>\\n        </button>\\n       </div>\\n       <div class=\"col-6 border-left border-top border-right text-center pt-2\">\\n        <a class=\"btn btn-link\" href=\"https://www.hs-heilbronn.de/intranet\">\\n         Intranet\\n        </a>\\n       </div>\\n       <div class=\"col-3 text-center pt-2 border-top\">\\n        <button class=\"btn btn-link\" type=\"button\">\\n         <i class=\"fas fa-bars\">\\n         </i>\\n        </button>\\n       </div>\\n      </div>\\n     </div>\\n     <div class=\"container position-relative\">\\n      <aside class=\"sidebar text-nowrap\">\\n       <span class=\"mirror\">\\n        Prof. Dr.-Ing. Carsten Lanquillon\\n       </span>\\n      </aside>\\n     </div>\\n     <div class=\"container\">\\n      <nav aria-label=\"breadcrumb\">\\n       <ol class=\"breadcrumb bg-white px-0 py-3 m-0\" itemscope=\"\" itemtype=\"http://schema.org/BreadcrumbList\">\\n        <li class=\"breadcrumb-item\" itemprop=\"itemListElement\" itemscope=\"\" itemtype=\"http://schema.org/ListItem\">\\n         <a class=\"color-dark\" href=\"/\" itemprop=\"item\">\\n          <span itemprop=\"name\">\\n           Hochschule Heilbronn\\n          </span>\\n         </a>\\n         <meta content=\"0\" itemprop=\"position\"/>\\n        </li>\\n        <li aria-current=\"page\" class=\"breadcrumb-item active color-gray\" itemprop=\"itemListElement\" itemscope=\"\" itemtype=\"http://schema.org/ListItem\">\\n         <span itemprop=\"name\">\\n          Prof. Dr.-Ing. Carsten Lanquillon\\n         </span>\\n         <meta content=\"1\" itemprop=\"position\"/>\\n        </li>\\n       </ol>\\n      </nav>\\n     </div>\\n     <div class=\"container py-5 contact_page\" itemscope=\"\" itemtype=\"http://schema.org/Person\">\\n      <div class=\"d-md-flex align-items-center\">\\n       <div class=\"\">\\n        <div class=\"image-cropper mb-4\">\\n         <img alt=\"Prof. Dr.-Ing. Carsten Lanquillon\" class=\"profile-pic\" src=\"https://cdn0.scrvt.com/5b9bbd140a15e188780a6244ebe572d4/e0680f718a72abe4/cb1a703f98b3/v/633522147413/lanquillon.jpg\" style=\"margin-left:-55%;margin-top:%;transform:scale()\"/>\\n        </div>\\n       </div>\\n       <div class=\"pl-md-5\">\\n        <p class=\"mt-0 mb-3 p-0 sal-name\" itemprop=\"name\">\\n         Prof. Dr.-Ing. Carsten Lanquillon\\n        </p>\\n        <div>\\n         Studiengangleitung\\n        </div>\\n        <ul class=\"unstyled-list mb-3\">\\n         <li class=\"mt-1\">\\n          <a href=\"/win\">\\n           <i class=\"fas fa-business\">\\n           </i>\\n           <span class=\"color-teal\">\\n            Wirtschaftsinformatik\\n           </span>\\n          </a>\\n         </li>\\n        </ul>\\n        <a href=\"tel:+49 7131 504 6942\" target=\"_top\">\\n         <div class=\"mb-2\">\\n          <strong>\\n           Telefon:\\n          </strong>\\n          <span class=\"color-teal\">\\n           +49 7131 504 6942\\n          </span>\\n         </div>\\n        </a>\\n        <a href=\"mailto:carsten.lanquillon@hs-heilbronn.de\" target=\"_top\">\\n         <div class=\"mb-2\">\\n          <strong>\\n           Email:\\n          </strong>\\n          <span class=\"color-teal\">\\n           carsten.lanquillon@hs-heilbronn.de\\n          </span>\\n         </div>\\n        </a>\\n        <a href=\"mailto:\" target=\"_top\">\\n        </a>\\n        <div class=\"mb-2\">\\n         <strong>\\n          Büroadresse:\\n         </strong>\\n         <span>\\n          S.3.45\\n         </span>\\n        </div>\\n        <div class=\"mb-2\">\\n         <strong>\\n          Postadresse:\\n         </strong>\\n         <span>\\n          Max-Planck-Str. 39, 74081 Heilbronn\\n         </span>\\n        </div>\\n        <div class=\"mb-2\">\\n         <strong>\\n          Sprechzeiten:\\n         </strong>\\n         <span>\\n          nach Vereinbarung\\n         </span>\\n        </div>\\n       </div>\\n      </div>\\n     </div>\\n     <div>\\n      <div>\\n       <section class=\"bg-white py-3\">\\n        <div class=\"container\">\\n         <div>\\n          <h2 class=\"h2 color-dark text-left\">\\n           Fachgebiete\\n          </h2>\\n         </div>\\n         <div>\\n          <div class=\"text-left\">\\n           <p>\\n            <ul>\\n             <li>\\n              Business Intelligence\\n             </li>\\n             <li>\\n              Data Science\\n             </li>\\n             <li>\\n              Machine Learning\\n             </li>\\n             <li>\\n              Künstliche Intelligenz\\n             </li>\\n             <li>\\n              Big Data\\n             </li>\\n            </ul>\\n           </p>\\n          </div>\\n         </div>\\n         <div>\\n          <div style=\"height:2em\">\\n          </div>\\n         </div>\\n         <div>\\n          <h2 class=\"h2 color-dark text-left\">\\n           Forschungsschwerpunkte\\n          </h2>\\n         </div>\\n         <div>\\n          <div class=\"text-left\">\\n           <p>\\n           </p>\\n           <ul>\\n            <li>\\n             Business Intelligence\\n            </li>\\n            <li>\\n             Big Data Analytics\\n            </li>\\n            <li>\\n             Data Science\\n            </li>\\n            <li>\\n             Data Mining\\n            </li>\\n            <li>\\n             Text Mining\\n            </li>\\n            <li>\\n             Machine Learning\\n            </li>\\n            <li>\\n             Natural Language Processing\\n            </li>\\n            <li>\\n             Knowledge Graphs\\n            </li>\\n           </ul>\\n           <p>\\n           </p>\\n          </div>\\n         </div>\\n        </div>\\n       </section>\\n      </div>\\n     </div>\\n     <div class=\"bg-white border-top py-4 footer\">\\n      <div class=\"container\">\\n       <div class=\"pb-1\">\\n        <strong>\\n         Beliebte Links\\n        </strong>\\n       </div>\\n       <ul id=\"footer__favorite-links\">\\n        <li>\\n         <a href=\"/kontakt\">\\n          Kontakt und Anfahrt\\n         </a>\\n        </li>\\n        <li>\\n         <a href=\"/standorte\">\\n          Standorte\\n         </a>\\n        </li>\\n        <li>\\n         <a href=\"/events\">\\n          Veranstaltungskalender\\n         </a>\\n        </li>\\n        <li>\\n         <a href=\"/semesterterminplan\">\\n          Semesterterminplan\\n         </a>\\n        </li>\\n        <li>\\n         <a href=\"/jobboerse\">\\n          Jobbörse für Studierende\\n         </a>\\n        </li>\\n        <li>\\n         <a href=\"/alumni\">\\n          Alumni\\n         </a>\\n        </li>\\n        <li>\\n         <a href=\"/tryhhn\">\\n          Schulen\\n         </a>\\n        </li>\\n        <li>\\n         <a href=\"/arbeitgeber\">\\n          Arbeiten an der HHN\\n         </a>\\n        </li>\\n        <li>\\n         <a href=\"/kommunikation\">\\n          Kommunikation und Presse\\n         </a>\\n        </li>\\n       </ul>\\n      </div>\\n     </div>\\n     <div class=\"bg-dark-blue py-4\">\\n      <div class=\"container\">\\n       <div>\\n        <div>\\n         <div class=\"px-3\">\\n          <div class=\"row align-items-start\">\\n           <div class=\"col-lg-2 col-12 pb-4 pb-lg-0 false\">\\n            <div class=\"card card-theme\">\\n             <div class=\"card-body\">\\n              <div>\\n               <div class=\"\">\\n                <a href=\"/familie\" target=\"_blank\" title=\"familie\">\\n                 <img alt=\"Logo des Audits familiengerechte Hochschule. Die HHN ist seit 2005 zertifiziert.\" class=\"img-fluid\" src=\"https://cdn0.scrvt.com/5b9bbd140a15e188780a6244ebe572d4/96404ee8ecee4d65/b97fe42cc76d/v/1309690b9d5a/96404ee8ecee4d65-f703131419f9-96404ee8ecee4d65-81356e2f6fe3-audit_fgh_z_05_RGB_7_L.png\" width=\"57\"/>\\n                </a>\\n               </div>\\n              </div>\\n             </div>\\n            </div>\\n           </div>\\n           <div class=\"col-lg-2 col-12 pb-4 pb-lg-0 false\">\\n            <div class=\"card card-theme\">\\n             <div class=\"card-body\">\\n              <div>\\n               <div class=\"\">\\n                <a href=\"/leitbild\" target=\"_blank\" title=\"leitbild\">\\n                 <img alt=\"Logo der weltoffenen Hochschulen gegen Fremdenfeindlichkeit\" class=\"img-fluid\" src=\"https://cdn0.scrvt.com/5b9bbd140a15e188780a6244ebe572d4/08d09d4c9176fc90/cd2a9cc0e2ea/v/97ed75f2a831/08d09d4c9176fc90-f79bff7db7d7-08d09d4c9176fc90-36c8b51ab200-Logo_Weltoffene_Hochschulen_gegen_Fremdenfeindlichkeit.png\" width=\"148\"/>\\n                </a>\\n               </div>\\n              </div>\\n             </div>\\n            </div>\\n           </div>\\n           <div class=\"col-lg-2 col-12 pb-4 pb-lg-0 false\">\\n            <div class=\"card card-theme\">\\n             <div class=\"card-body\">\\n              <div>\\n               <div class=\"\">\\n                <a href=\"https://www.charta-der-vielfalt.de/ueber-uns/ueber-die-initiative/\" target=\"_blank\" title=\"Charta der Vielfalt\">\\n                 <img alt=\"Logo der Charta der Vielfalt mit Stempel unterzeichnet\" class=\"img-fluid\" src=\"https://cdn0.scrvt.com/5b9bbd140a15e188780a6244ebe572d4/34c03f212e669b51/f719256046b0/v/4b068ed16f7e/34c03f212e669b51-ae577e93c194-34c03f212e669b51-b5d1f521e6f4-Charta-der-Vielfalt-Leitfaden-Unterzeichner-CMYK-RZ-hoch.png\" width=\"153\"/>\\n                </a>\\n               </div>\\n              </div>\\n             </div>\\n            </div>\\n           </div>\\n           <div class=\"col-lg-3 col-12 pb-4 pb-lg-0 false\">\\n            <div>\\n             <div class=\"\">\\n              <a href=\"http://www.hfsw.de/\" target=\"_blank\" title=\"hfsw\">\\n               <img alt=\"Logo der Hochschulföderation Süd-West (HfSW)\" class=\"img-fluid\" src=\"https://cdn0.scrvt.com/5b9bbd140a15e188780a6244ebe572d4/8117d186e27a85df/b28888c68e98/v/4490223832df/8117d186e27a85df-852a502eb601-HfSW_Logo_grau_mit_Flaeche_100pro.png\" width=\"100\"/>\\n              </a>\\n             </div>\\n            </div>\\n           </div>\\n           <div class=\"col-lg-3 col-12 pb-4 pb-lg-0 false\">\\n           </div>\\n          </div>\\n         </div>\\n        </div>\\n       </div>\\n      </div>\\n     </div>\\n     <div class=\"bg-white py-4\">\\n      <div class=\"container position-relative\">\\n       <div class=\"row flex-column-reverse flex-sm-row pb-4 pb-sm-0\">\\n        <div class=\"col-sm-4\">\\n         <a class=\"navbar-brand m-0 py-2\" href=\"/\" title=\"Homepage\">\\n          <img alt=\"Hochschule Heilbronn\" class=\"img-fluid\" src=\"/assets/logo_color_de.1d2df2ddaca26921d4f3931e6dbf8a12.png\"/>\\n         </a>\\n        </div>\\n        <div class=\"col-sm-8 d-flex flex-column\">\\n         <div class=\"d-inline-flex justify-content-sm-end justify-content-between pl-3 pr-3\">\\n          <ul class=\"pb-2\" id=\"footer__footer-follow\">\\n           <li>\\n            <a href=\"https://www.facebook.com/hochschule.heilbronn/\" title=\"facebook\">\\n             <i class=\"fab fa-2x fa-facebook\" title=\"facebook\">\\n             </i>\\n            </a>\\n           </li>\\n           <li>\\n            <a href=\"https://www.youtube.com/user/HochschuleHeilbronn\" title=\"youtube\">\\n             <i class=\"fab fa-2x fa-youtube\" title=\"youtube\">\\n             </i>\\n            </a>\\n           </li>\\n           <li>\\n            <a href=\"https://www.instagram.com/hochschule_heilbronn/\" title=\"instagram\">\\n             <i class=\"fab fa-2x fa-instagram\" title=\"instagram\">\\n             </i>\\n            </a>\\n           </li>\\n           <li>\\n            <a href=\"https://www.linkedin.com/school/hochschule-heilbronn---hochschule-f%C3%BCr-technik-wirtschaft-und-informatik/\" title=\"linkedin\">\\n             <i class=\"fab fa-2x fa-linkedin\" title=\"linkedin\">\\n             </i>\\n            </a>\\n           </li>\\n          </ul>\\n         </div>\\n         <div class=\"d-flex flex-column flex-sm-row justify-content-sm-end\">\\n          <span class=\"pr-2\">\\n           © 2022 HHN\\n          </span>\\n          <ul class=\"justify-content-sm-end pb-2 pb-sm-0\" id=\"footer__footer-links\">\\n           <li>\\n            <a href=\"/impressum\">\\n             Impressum\\n            </a>\\n           </li>\\n           <li>\\n            <a href=\"/datenschutz\">\\n             Datenschutz\\n            </a>\\n           </li>\\n           <li>\\n            <a href=\"/barrierefreiheit\">\\n             Barrierefreiheit\\n            </a>\\n           </li>\\n           <li>\\n            <a href=\"/kontakt\">\\n             Kontakt\\n            </a>\\n           </li>\\n          </ul>\\n         </div>\\n        </div>\\n       </div>\\n      </div>\\n     </div>\\n    </div>\\n   </div>\\n  </div>\\n  <script src=\"/assets/preloadDumps/f113b8a19381899f.87522f07efb86a63509b.js\">\\n  </script>\\n  <script async=\"\" src=\"/assets/index.34ad84cfa37f6d3956ff.js\">\\n  </script>\\n  <script src=\"/js_snippets_before_body_end.js\">\\n  </script>\\n </body>\\n</html>\\n'"
      ]
     },
     "execution_count": 258,
     "metadata": {},
     "output_type": "execute_result"
    }
   ],
   "source": [
    "doc.prettify()"
   ]
  },
  {
   "cell_type": "code",
   "execution_count": 265,
   "id": "f3974f81",
   "metadata": {
    "ExecuteTime": {
     "end_time": "2022-02-04T16:42:43.126580Z",
     "start_time": "2022-02-04T16:42:43.087684Z"
    }
   },
   "outputs": [
    {
     "name": "stdout",
     "output_type": "stream",
     "text": [
      "Wirtschaftsinformatik\n"
     ]
    }
   ],
   "source": [
    "for i in range(len(doc.find_all(class_ = \"color-teal\"))):\n",
    "    study = doc.find_all(class_ = \"color-teal\")[i].string\n",
    "    if \"+\" not in study and  \"@\" not in study:\n",
    "        study.list_append(study)"
   ]
  },
  {
   "cell_type": "code",
   "execution_count": 253,
   "id": "f59b0701",
   "metadata": {
    "ExecuteTime": {
     "end_time": "2022-02-04T16:16:42.368308Z",
     "start_time": "2022-02-04T16:16:42.336401Z"
    }
   },
   "outputs": [
    {
     "name": "stdout",
     "output_type": "stream",
     "text": [
      "[]\n"
     ]
    }
   ],
   "source": [
    "for i in range(len(doc.find_all(class_ =\"h2 color-dark text-left\"))):\n",
    "    if doc.find_all(class_ =\"h2 color-dark text-left\")[i].string == \"Forschungsgebiete\":\n",
    "        print(doc.find_all(class_ =\"h2 color-dark text-left\")[i].find_all(\"div\"))\n",
    "\n"
   ]
  },
  {
   "cell_type": "code",
   "execution_count": 225,
   "id": "e97b7929",
   "metadata": {
    "ExecuteTime": {
     "end_time": "2022-02-04T16:08:01.352207Z",
     "start_time": "2022-02-04T16:08:01.338243Z"
    }
   },
   "outputs": [],
   "source": [
    "#doc.find_all(\"ul\")\n",
    "doc.find(\"ul\", attrs={\"class\" :\"vertical-list\"})"
   ]
  },
  {
   "cell_type": "code",
   "execution_count": 226,
   "id": "67e7cde8",
   "metadata": {
    "ExecuteTime": {
     "end_time": "2022-02-04T16:08:04.022454Z",
     "start_time": "2022-02-04T16:08:04.000512Z"
    }
   },
   "outputs": [
    {
     "ename": "IndexError",
     "evalue": "list index out of range",
     "output_type": "error",
     "traceback": [
      "\u001b[1;31m---------------------------------------------------------------------------\u001b[0m",
      "\u001b[1;31mIndexError\u001b[0m                                Traceback (most recent call last)",
      "\u001b[1;32m<ipython-input-226-2b31e2d27897>\u001b[0m in \u001b[0;36m<module>\u001b[1;34m\u001b[0m\n\u001b[1;32m----> 1\u001b[1;33m \u001b[0mdoc\u001b[0m\u001b[1;33m.\u001b[0m\u001b[0mselect\u001b[0m\u001b[1;33m(\u001b[0m\u001b[1;34m'ul.vertical-list'\u001b[0m\u001b[1;33m)\u001b[0m\u001b[1;33m[\u001b[0m\u001b[1;36m1\u001b[0m\u001b[1;33m]\u001b[0m\u001b[1;33m.\u001b[0m\u001b[0mfind_all\u001b[0m\u001b[1;33m(\u001b[0m\u001b[1;34m\"li\"\u001b[0m\u001b[1;33m)\u001b[0m\u001b[1;33m[\u001b[0m\u001b[1;36m0\u001b[0m\u001b[1;33m]\u001b[0m\u001b[1;33m.\u001b[0m\u001b[0mstring\u001b[0m\u001b[1;33m\u001b[0m\u001b[1;33m\u001b[0m\u001b[0m\n\u001b[0m",
      "\u001b[1;31mIndexError\u001b[0m: list index out of range"
     ]
    }
   ],
   "source": [
    "doc.select('ul.vertical-list')[1].find_all(\"li\")[0].string"
   ]
  },
  {
   "cell_type": "code",
   "execution_count": 188,
   "id": "04b53ab8",
   "metadata": {
    "ExecuteTime": {
     "end_time": "2022-02-04T15:57:13.719322Z",
     "start_time": "2022-02-04T15:57:13.687410Z"
    }
   },
   "outputs": [
    {
     "name": "stdout",
     "output_type": "stream",
     "text": [
      "International Business\n",
      "Master International Business & Intercultural Management\n",
      "Master International Tourism Management\n"
     ]
    }
   ],
   "source": [
    "for i in range(len(doc.select('ul.vertical-list'))):\n",
    "            for l in range(len(doc.select('ul.vertical-list')[i])):\n",
    "                        print(doc.select('ul.vertical-list')[i].find_all(\"li\")[l].string)"
   ]
  },
  {
   "cell_type": "code",
   "execution_count": 14,
   "id": "051cbe6d",
   "metadata": {
    "ExecuteTime": {
     "end_time": "2022-02-04T14:58:08.702199Z",
     "start_time": "2022-02-04T14:58:08.686388Z"
    }
   },
   "outputs": [
    {
     "ename": "IndentationError",
     "evalue": "unexpected indent (<ipython-input-14-197319b50a0f>, line 8)",
     "output_type": "error",
     "traceback": [
      "\u001b[1;36m  File \u001b[1;32m\"<ipython-input-14-197319b50a0f>\"\u001b[1;36m, line \u001b[1;32m8\u001b[0m\n\u001b[1;33m    for l in range(len(child)):\u001b[0m\n\u001b[1;37m    ^\u001b[0m\n\u001b[1;31mIndentationError\u001b[0m\u001b[1;31m:\u001b[0m unexpected indent\n"
     ]
    }
   ],
   "source": [
    "parent = doc.find_all(class_=\"text-left\")\n",
    "for i in range(len(parent)):\n",
    "\n",
    "\n",
    "    if parent[i].string ==\"Fachgebiete\":\n",
    "         if parent[i+1].find_all(\"li\") != None:\n",
    "             child = parent[i+1].find_all(\"li\")\n",
    "               for l in range(len(child)):\n",
    "                   fg.append(child[l].string)\n",
    "              #print(fg)                    \n",
    "    elif parent[i].string ==\"Forschungsschwerpunkte\" or parent[i].string ==\"Forschungsgebiete\": \n",
    "        if parent[i+1].find_all(\"li\") != None:\n",
    "            child = parent[i+1].find_all(\"li\")\n",
    "            for l in range(len(child)):\n",
    "                fs.append(child[l].string)\n",
    "            #print(fg)\n",
    "\n",
    "        else: \n",
    "            child = parent[i+2].find_all(\"li\")\n",
    "            for l in range(len(child)):\n",
    "                fs.append(child[l].string)\n",
    "            #print(fg)"
   ]
  },
  {
   "cell_type": "code",
   "execution_count": null,
   "id": "c3394eba",
   "metadata": {},
   "outputs": [],
   "source": []
  }
 ],
 "metadata": {
  "kernelspec": {
   "display_name": "prototype",
   "language": "python",
   "name": "prototype"
  },
  "language_info": {
   "codemirror_mode": {
    "name": "ipython",
    "version": 3
   },
   "file_extension": ".py",
   "mimetype": "text/x-python",
   "name": "python",
   "nbconvert_exporter": "python",
   "pygments_lexer": "ipython3",
   "version": "3.6.13"
  }
 },
 "nbformat": 4,
 "nbformat_minor": 5
}
