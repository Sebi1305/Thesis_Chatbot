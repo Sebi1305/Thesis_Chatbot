{
 "cells": [
  {
   "cell_type": "markdown",
   "id": "2b4b9eb9",
   "metadata": {},
   "source": [
    "# 3. Slot Filling"
   ]
  },
  {
   "cell_type": "markdown",
   "id": "9f4d9995",
   "metadata": {},
   "source": [
    "### Identifikation und Extraktion von Telefonnummern und Emails"
   ]
  },
  {
   "cell_type": "markdown",
   "id": "ae3f9201",
   "metadata": {},
   "source": [
    "#### Email"
   ]
  },
  {
   "cell_type": "code",
   "execution_count": 2,
   "id": "61edc8f7",
   "metadata": {
    "ExecuteTime": {
     "end_time": "2022-02-17T14:05:11.648870Z",
     "start_time": "2022-02-17T14:05:11.635905Z"
    }
   },
   "outputs": [
    {
     "name": "stdout",
     "output_type": "stream",
     "text": [
      "['stern@web.de', 'stern1@web.de']\n"
     ]
    }
   ],
   "source": [
    "import re\n",
    "string = 'herr sterns new email is stern@web.de und stern1@web.de'\n",
    "\n",
    "\n",
    "re_email = re.findall('\\S+@\\S+', string)\n",
    "print(re_email)\n",
    "#['shubhamg199630@gmail.com', 'priya@yahoo.com']"
   ]
  },
  {
   "cell_type": "markdown",
   "id": "d8eb4489",
   "metadata": {},
   "source": [
    "#### Phone Number"
   ]
  },
  {
   "cell_type": "code",
   "execution_count": 10,
   "id": "9117486b",
   "metadata": {
    "ExecuteTime": {
     "end_time": "2022-02-17T14:16:48.538424Z",
     "start_time": "2022-02-17T14:16:48.531914Z"
    }
   },
   "outputs": [
    {
     "name": "stdout",
     "output_type": "stream",
     "text": [
      "['49 7131 504 6942', '49 (0) 7131 504 1115']\n"
     ]
    }
   ],
   "source": [
    "import re\n",
    "re_number_1 = r\"[\\d]{2}? [\\d]{4} [\\d]{3} [\\d]{4}\"\n",
    "re_number_2 = r\"[\\d]{2} [\\(][\\d]{1}[\\)] [\\d]{4} [\\d]{3} [\\d]{4}\"\n",
    "\n",
    "sent = \"Herr lanquillons new phone number is +49 7131 504 6942 and herr günthers is +49 (0) 7131 504 1115\"\n",
    "\n",
    "re_number = re.compile(\"(%s|%s)\" % (re_number_1, re_number_2)).findall(sent)\n",
    "print(re_number)"
   ]
  },
  {
   "cell_type": "markdown",
   "id": "8b6390cb",
   "metadata": {},
   "source": [
    "#### office"
   ]
  },
  {
   "cell_type": "code",
   "execution_count": 12,
   "id": "c2b86540",
   "metadata": {
    "ExecuteTime": {
     "end_time": "2022-02-17T14:17:58.461749Z",
     "start_time": "2022-02-17T14:17:58.446786Z"
    }
   },
   "outputs": [
    {
     "name": "stdout",
     "output_type": "stream",
     "text": [
      "['S.3.55']\n"
     ]
    }
   ],
   "source": [
    "string = 'herr sterns new office is in S.3.55 Bildungscampus'\n",
    "\n",
    "re_office = re.findall('[A-Z].\\d{1}.\\d{2}', string)\n",
    "print(re_office)"
   ]
  },
  {
   "cell_type": "markdown",
   "id": "a1650785",
   "metadata": {},
   "source": [
    "#### postal address"
   ]
  },
  {
   "cell_type": "code",
   "execution_count": 93,
   "id": "ce1de52e",
   "metadata": {
    "ExecuteTime": {
     "end_time": "2022-02-17T14:52:52.653428Z",
     "start_time": "2022-02-17T14:52:52.642459Z"
    }
   },
   "outputs": [
    {
     "name": "stdout",
     "output_type": "stream",
     "text": [
      "Str\n"
     ]
    }
   ],
   "source": [
    "string = 'herr sterns address is Max-Planck-Str. 39, 74081 Heilbronn'\n",
    "\n",
    "re_address = re.search(r\"Str\\b\", string)\n",
    "\n",
    "print(re_address.group())"
   ]
  },
  {
   "cell_type": "code",
   "execution_count": null,
   "id": "35e5d5d6",
   "metadata": {},
   "outputs": [],
   "source": []
  },
  {
   "cell_type": "code",
   "execution_count": null,
   "id": "1b4d1f37",
   "metadata": {},
   "outputs": [],
   "source": [
    "\"str.|Str.|straße|strasse|Straße|Strasse"
   ]
  }
 ],
 "metadata": {
  "kernelspec": {
   "display_name": "prototype",
   "language": "python",
   "name": "prototype"
  },
  "language_info": {
   "codemirror_mode": {
    "name": "ipython",
    "version": 3
   },
   "file_extension": ".py",
   "mimetype": "text/x-python",
   "name": "python",
   "nbconvert_exporter": "python",
   "pygments_lexer": "ipython3",
   "version": "3.6.13"
  }
 },
 "nbformat": 4,
 "nbformat_minor": 5
}
