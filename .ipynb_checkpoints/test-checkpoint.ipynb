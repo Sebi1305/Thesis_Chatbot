{
 "cells": [
  {
   "cell_type": "markdown",
   "id": "9d1013a4",
   "metadata": {
    "ExecuteTime": {
     "end_time": "2022-02-27T16:01:53.488067Z",
     "start_time": "2022-02-27T16:01:53.457220Z"
    }
   },
   "source": [
    "<img src='images/bildungscampus_logo.png' width=\"40%\" align=\"left\" />\n",
    "<img src='images/hhn.png' width=\"25%\" align=\"right\" />"
   ]
  },
  {
   "cell_type": "markdown",
   "id": "16151811",
   "metadata": {},
   "source": [
    "# Schritt 6: Chatbot Prototyp\n",
    "Masterarbeit - Sebastian Kahlert | Fakultät Wirtschaft und Verkehr | Wirtschaftsinformatik - Informationsmanagement und Data Science | WS 2021/22\n",
    "\n",
    "<img src='images/bar.png'/>\n",
    "\n",
    "## Zusammenfügen aller Chatbot-Komponenten"
   ]
  },
  {
   "cell_type": "markdown",
   "id": "bc3be9fe",
   "metadata": {},
   "source": [
    "In diesem Notebook werden alle Komponenten, die in den anderen Notebooks entwickelt, trainert und gespeichert wurden, zusammengefügt, um einen voll funktionsfähigen Chatbot zu bilden. \n",
    "\n",
    "Im folgenden sind einige kleinere Vorbereitungen zu erledigen, wie das laden der Modells und die Extraktion einiger Informationen aus der Datenbank um die Funktionsfähigkeit des Chatbots zu gewährleisten. "
   ]
  },
  {
   "cell_type": "markdown",
   "id": "e26fd30c",
   "metadata": {},
   "source": [
    "### 6.1. Import benötigter Bibliotheken"
   ]
  },
  {
   "cell_type": "code",
   "execution_count": 1,
   "id": "a41749ce",
   "metadata": {
    "ExecuteTime": {
     "end_time": "2022-03-10T15:03:20.521476Z",
     "start_time": "2022-03-10T15:03:13.623005Z"
    }
   },
   "outputs": [
    {
     "name": "stdout",
     "output_type": "stream",
     "text": [
      "WARNING:tensorflow:From C:\\Users\\Sebi\\anaconda3\\envs\\prototype\\lib\\site-packages\\tensorflow\\python\\compat\\v2_compat.py:101: disable_resource_variables (from tensorflow.python.ops.variable_scope) is deprecated and will be removed in a future version.\n",
      "Instructions for updating:\n",
      "non-resource variables are not supported in the long term\n",
      "curses is not supported on this machine (please install/reinstall curses for an optimal experience)\n",
      "Scipy not supported!\n"
     ]
    }
   ],
   "source": [
    "# import of necessary libraries\n",
    "import nltk \n",
    "from nltk.stem.lancaster import LancasterStemmer\n",
    "stemmer = LancasterStemmer()\n",
    "\n",
    "import datefinder\n",
    "import numpy\n",
    "import tflearn \n",
    "import tensorflow\n",
    "import random \n",
    "import json\n",
    "import pickle\n",
    "import spacy\n",
    "import sqlite3\n",
    "import re\n",
    "import os\n",
    "import sqlite3\n",
    "from difflib import SequenceMatcher"
   ]
  },
  {
   "cell_type": "markdown",
   "id": "10bac6de",
   "metadata": {
    "heading_collapsed": true
   },
   "source": [
    "### 6.2. Intent Classification"
   ]
  },
  {
   "cell_type": "markdown",
   "id": "18556fd2",
   "metadata": {
    "hidden": true
   },
   "source": [
    "Das Neuronale Netzwerk wurde zuvor in einem separaten Notebook erstellt, trainert und gespeichert. Der folgende Code versucht das gespeciherte Neuronale Netzwerk zu laden. Falls dies nicht möglich sein sollte wird ein neues Neuronales Netzwerk erstellt und trainiert. Hierzu werden die Trainingsdaten \"data.pickle\" geladen und die Layer des Netztes definiert."
   ]
  },
  {
   "cell_type": "code",
   "execution_count": 2,
   "id": "cba1d458",
   "metadata": {
    "ExecuteTime": {
     "end_time": "2022-03-10T15:03:20.536172Z",
     "start_time": "2022-03-10T15:03:20.521476Z"
    },
    "hidden": true
   },
   "outputs": [],
   "source": [
    "# open training data for neural net\n",
    "with open(\"2. Intent Classififcation/data.pickle\", \"rb\") as f:\n",
    "    words, labels, training, output = pickle.load(f)"
   ]
  },
  {
   "cell_type": "code",
   "execution_count": 3,
   "id": "bcf2b8bb",
   "metadata": {
    "ExecuteTime": {
     "end_time": "2022-03-10T15:03:20.906790Z",
     "start_time": "2022-03-10T15:03:20.539868Z"
    },
    "hidden": true
   },
   "outputs": [
    {
     "name": "stdout",
     "output_type": "stream",
     "text": [
      "WARNING:tensorflow:From C:\\Users\\Sebi\\anaconda3\\envs\\prototype\\lib\\site-packages\\tflearn\\initializations.py:165: calling TruncatedNormal.__init__ (from tensorflow.python.ops.init_ops) with dtype is deprecated and will be removed in a future version.\n",
      "Instructions for updating:\n",
      "Call initializer instance with the dtype argument instead of passing it to the constructor\n",
      "INFO:tensorflow:Restoring parameters from C:\\Users\\Sebi\\OneDrive\\Studium\\Thesis_Chatbot\\2. Intent Classififcation\\model.tflearn\n"
     ]
    }
   ],
   "source": [
    "# open saved model or implement new one if model does not exist yet\n",
    "tensorflow.compat.v1.reset_default_graph()\n",
    "    \n",
    "# Creating the Neural Network\n",
    "net = tflearn.input_data(shape= [None, len(training[0])]) #input layer Neurons = numer of words in training\n",
    "net = tflearn.fully_connected(net, 8) #hidden layer fully connected with 8 neuron\n",
    "net = tflearn.fully_connected(net, len(output[0]), activation=\"softmax\" ) #output layer 6 Neurons = labels\n",
    "net = tflearn.regression(net)\n",
    "\n",
    "model = tflearn.DNN(net)\n",
    "\n",
    "try:\n",
    "    model.load(r\"2. Intent Classififcation/model.tflearn\")\n",
    "except:\n",
    "    model.fit(training, output, n_epoch=1000, batch_size=8, show_metric=True)\n",
    "    model.save(r\"2. Intent Classififcation/model.tflearn\")"
   ]
  },
  {
   "cell_type": "code",
   "execution_count": 4,
   "id": "611c102e",
   "metadata": {
    "ExecuteTime": {
     "end_time": "2022-03-10T15:03:20.921912Z",
     "start_time": "2022-03-10T15:03:20.908947Z"
    },
    "hidden": true
   },
   "outputs": [
    {
     "data": {
      "text/plain": [
       "<tflearn.models.dnn.DNN at 0x22f59ed97b8>"
      ]
     },
     "execution_count": 4,
     "metadata": {},
     "output_type": "execute_result"
    }
   ],
   "source": [
    "model"
   ]
  },
  {
   "cell_type": "code",
   "execution_count": 5,
   "id": "2ec67aa3",
   "metadata": {
    "ExecuteTime": {
     "end_time": "2022-03-10T15:03:20.937554Z",
     "start_time": "2022-03-10T15:03:20.924905Z"
    },
    "hidden": true
   },
   "outputs": [],
   "source": [
    "# transform input in numbers to make it readable for neural net\n",
    "def bag_of_words(s, words):\n",
    "    bag = [0 for _ in range(len(words))]\n",
    "    \n",
    "    s_words = nltk.word_tokenize(s)\n",
    "    s_words = [stemmer.stem(word.lower()) for word in s_words]\n",
    "    \n",
    "    for se in s_words:\n",
    "        for i, w in enumerate(words):\n",
    "            if w == se:\n",
    "                bag[i] = 1\n",
    "    \n",
    "    return numpy.array(bag)"
   ]
  },
  {
   "cell_type": "markdown",
   "id": "438f3588",
   "metadata": {},
   "source": [
    "### 6.3. Slot Filling"
   ]
  },
  {
   "cell_type": "markdown",
   "id": "8bd5cb81",
   "metadata": {
    "ExecuteTime": {
     "end_time": "2022-02-20T14:48:04.044028Z",
     "start_time": "2022-02-20T14:48:04.027074Z"
    }
   },
   "source": [
    "Für die Extraktion der verschiedenen Zusatzinformationen müssen unteranderem bereits bekannte Namen aus der Datenbank extrahiert werden und in Listen gespeichert werden. Eine Funktion gleicht den Input des Benutzers mit den Namen ab, um zu prüfen ob der vom Benutzer genannte Professor bekannt ist oder nicht. Zusätzlich werden zuvor trainerte Custom NER Modelle geladen und die Slot Filling definiert."
   ]
  },
  {
   "cell_type": "markdown",
   "id": "b83c8ae5",
   "metadata": {
    "heading_collapsed": true
   },
   "source": [
    "#### 6.3.1. Vornamen"
   ]
  },
  {
   "cell_type": "code",
   "execution_count": 6,
   "id": "099c0392",
   "metadata": {
    "ExecuteTime": {
     "end_time": "2022-03-10T15:03:20.953000Z",
     "start_time": "2022-03-10T15:03:20.940552Z"
    },
    "hidden": true
   },
   "outputs": [],
   "source": [
    "# get first names from database\n",
    "conn = sqlite3.connect(\"PROF_INFO_DB.db\")\n",
    "cur = conn.cursor()\n",
    "cur.execute(\"select first_name FROM PROF_INFO_TABLE\")\n",
    "conn.commit()\n",
    "first_names = cur.fetchall()\n",
    "conn.close()\n",
    "\n",
    "#first_names"
   ]
  },
  {
   "cell_type": "code",
   "execution_count": 7,
   "id": "3d774eb1",
   "metadata": {
    "ExecuteTime": {
     "end_time": "2022-03-10T15:03:20.968741Z",
     "start_time": "2022-03-10T15:03:20.955998Z"
    },
    "hidden": true
   },
   "outputs": [],
   "source": [
    "# store first names in list\n",
    "first_names_list = []\n",
    "for i in range(len(first_names)):\n",
    "    answer = \" \".join(first_names[i])\n",
    "    answer.strip()\n",
    "    first_names_list.append(answer)\n",
    "\n",
    "#first_names_list"
   ]
  },
  {
   "cell_type": "markdown",
   "id": "27a3fba2",
   "metadata": {
    "heading_collapsed": true
   },
   "source": [
    "#### 6.3.2. Nachnamen"
   ]
  },
  {
   "cell_type": "code",
   "execution_count": 8,
   "id": "d50161ce",
   "metadata": {
    "ExecuteTime": {
     "end_time": "2022-03-10T15:03:20.984219Z",
     "start_time": "2022-03-10T15:03:20.973264Z"
    },
    "hidden": true
   },
   "outputs": [],
   "source": [
    "# get last names from database\n",
    "conn = sqlite3.connect(\"PROF_INFO_DB.db\")\n",
    "cur = conn.cursor()\n",
    "cur.execute(\"select last_name FROM PROF_INFO_TABLE\")\n",
    "conn.commit()\n",
    "last_names = cur.fetchall()\n",
    "conn.close()\n",
    "\n",
    "#last_names"
   ]
  },
  {
   "cell_type": "code",
   "execution_count": 9,
   "id": "20b5ec84",
   "metadata": {
    "ExecuteTime": {
     "end_time": "2022-03-10T15:03:20.999184Z",
     "start_time": "2022-03-10T15:03:20.987218Z"
    },
    "hidden": true
   },
   "outputs": [],
   "source": [
    "# store last names in list\n",
    "last_names_list = []\n",
    "for i in range(len(last_names)):\n",
    "    answer = \" \".join(last_names[i])\n",
    "    answer.strip()\n",
    "    last_names_list.append(answer)\n",
    "\n",
    "#last_names_list"
   ]
  },
  {
   "cell_type": "markdown",
   "id": "137da707",
   "metadata": {
    "ExecuteTime": {
     "end_time": "2022-02-27T16:05:56.190924Z",
     "start_time": "2022-02-27T16:05:56.183904Z"
    },
    "heading_collapsed": true
   },
   "source": [
    "#### 6.3.3. Forschungsschwerpunkte und Studiengänge"
   ]
  },
  {
   "cell_type": "code",
   "execution_count": 10,
   "id": "6f548b49",
   "metadata": {
    "ExecuteTime": {
     "end_time": "2022-03-10T15:03:40.479476Z",
     "start_time": "2022-03-10T15:03:21.001180Z"
    },
    "hidden": true
   },
   "outputs": [],
   "source": [
    "#load the custom NER models\n",
    "nlp_research_area = spacy.load(r\"3. Slot Filling/custom_ner_model_research_area\")\n",
    "nlp_study = spacy.load(r\"3. Slot Filling/custom_ner_model_study\")"
   ]
  },
  {
   "cell_type": "markdown",
   "id": "ed7288b0",
   "metadata": {
    "heading_collapsed": true
   },
   "source": [
    "#### 6.3.4. Slot Filling Retrieval Funktion"
   ]
  },
  {
   "cell_type": "code",
   "execution_count": 11,
   "id": "58329dfd",
   "metadata": {
    "ExecuteTime": {
     "end_time": "2022-03-10T15:03:40.510560Z",
     "start_time": "2022-03-10T15:03:40.479476Z"
    },
    "hidden": true
   },
   "outputs": [],
   "source": [
    "def slot_filling_retrieval(inp, intent):   \n",
    "    # liste with intents that need information\n",
    "    intent_prof_contact=[\"prof_telephone_query_name\", \"prof_email_query_name\", \"prof_office_query_name\", \"prof_research_area_query_name\", \"prof_study_query_name\"]\n",
    "    intent_generic_conversation=[\"greeting\",\"greeting_response\",\"courtesy_greeting\",\"courtesy_greeting_response\",\"real_name_query\", \"goodbye\",\"task_response\"]\n",
    "        \n",
    "    if intent == \"prof_name_query_telephone\":\n",
    "        re_number_1 = r\"\\D[\\d]{2}? [\\d]{4} [\\d]{3} [\\d]{4}\"\n",
    "        re_number_2 = r\"\\D[\\d]{2}? [\\d]{4} [\\d]{3} [\\d]{3}\"\n",
    "        re_number_3 = r\"\\D[\\d]{2} [\\(][\\d]{1}[\\)] [\\d]{4} [\\d]{3} [\\d]{4}\"\n",
    "        condition = re.compile(\"(%s|%s|%s)\" % (re_number_1, re_number_2, re_number_3)).findall(inp) \n",
    "\n",
    "    elif intent == \"prof_name_query_email\":\n",
    "        condition = re.findall('\\S+@\\S+', inp)\n",
    "\n",
    "    elif intent == \"prof_name_query_office\":\n",
    "        re_office_1 = r\"[A-Z, a-z].\\d{1}.\\d{2}\"\n",
    "        re_office_2 = r\"[A-Z, a-z].\\d{3}\"\n",
    "        condition = re.compile(\"(%s|%s)\" % (re_office_1, re_office_2)).findall(inp)\n",
    "\n",
    "    elif intent == \"prof_name_query_research_area\":\n",
    "        doc = nlp_research_area(inp)\n",
    "        for ent in doc.ents:\n",
    "            if ent.label_ == \"RESEARCH_AREA\":\n",
    "                condition = ent.text    \n",
    "\n",
    "    elif intent == \"prof_name_query_study\":\n",
    "        doc = nlp_study(inp)\n",
    "        for ent in doc.ents:\n",
    "            if ent.label_ == \"STUDY\":\n",
    "                condition = ent.text  \n",
    "\n",
    "    elif intent == \"prof_name_query_lastname\":\n",
    "        for first_name in first_names_list:\n",
    "            for word in inp.split():\n",
    "                if SequenceMatcher(None, first_name, word).ratio() >= 0.7:\n",
    "                    condition = first_name\n",
    "\n",
    "    elif intent == \"prof_name_query_firstname\":\n",
    "        for last_name in last_names_list:\n",
    "            for word in inp.split():\n",
    "                if SequenceMatcher(None, last_name, word).ratio() >= 0.7:\n",
    "                    condition = last_name\n",
    "\n",
    "    elif intent in intent_prof_contact:\n",
    "        for last_name in last_names_list:\n",
    "            for word in inp.split():\n",
    "                if SequenceMatcher(None, last_name, word).ratio() >= 0.7:\n",
    "                    condition = last_name\n",
    "\n",
    "    elif intent in intent_generic_conversation:\n",
    "        condition = \"generic intent no need for info extraction\"\n",
    "\n",
    "    else:\n",
    "        condition = \"nobody/ nothing\"\n",
    "    \n",
    "    return condition"
   ]
  },
  {
   "cell_type": "markdown",
   "id": "f20cb38c",
   "metadata": {
    "heading_collapsed": true
   },
   "source": [
    "#### 6.3.5. Slot Filling Update Funktion"
   ]
  },
  {
   "cell_type": "code",
   "execution_count": 12,
   "id": "fd8fcd1f",
   "metadata": {
    "ExecuteTime": {
     "end_time": "2022-03-10T15:03:40.525533Z",
     "start_time": "2022-03-10T15:03:40.512556Z"
    },
    "hidden": true
   },
   "outputs": [],
   "source": [
    "def slot_filling_update(inp, intent):\n",
    "    #get name of professor\n",
    "    for last_name in last_names_list:\n",
    "        for word in inp.split():\n",
    "            if SequenceMatcher(None, last_name, word).ratio() >= 0.7:\n",
    "                prof_name = last_name\n",
    "\n",
    "    \n",
    "    #new phone number\n",
    "    if intent == \"extract_new_telephone\":\n",
    "        #get the new number\n",
    "        re_number_1 = r\"\\D[\\d]{2}? [\\d]{4} [\\d]{3} [\\d]{4}\"\n",
    "        re_number_2 = r\"\\D[\\d]{2}? [\\d]{4} [\\d]{3} [\\d]{3}\"\n",
    "        re_number_3 = r\"\\D[\\d]{2} [\\(][\\d]{1}[\\)] [\\d]{4} [\\d]{3} [\\d]{4}\"\n",
    "        condition = re.compile(\"(%s|%s|%s)\" % (re_number_1, re_number_2, re_number_3)).findall(inp)      \n",
    "        \n",
    "    elif intent == \"extract_new_email\":\n",
    "        condition = re.findall('\\S+@\\S+', inp)\n",
    "        \n",
    "    elif intent == \"extract_new_office\":\n",
    "        re_office_1 = r\"[A-Z, a-z].\\d{1}.\\d{2}\"\n",
    "        re_office_2 = r\"[A-Z, a-z].\\d{3}\"\n",
    "        condition = re.compile(\"(%s|%s)\" % (re_office_1, re_office_2)).findall(inp)\n",
    "        \n",
    "    elif intent == \"extract_new_research_area\":\n",
    "        doc = nlp_research_area(inp)\n",
    "        for ent in doc.ents:\n",
    "            if ent.label_ == \"RESEARCH_AREA\":\n",
    "                condition = ent.text  \n",
    "            else:\n",
    "                condition = \"Not found\"\n",
    "    \n",
    "    elif intent == \"extract_new_study\":\n",
    "        doc = nlp_study(inp)\n",
    "        for ent in doc.ents:\n",
    "            if ent.label_ == \"STUDY\":\n",
    "                condition = ent.text  \n",
    "            else:\n",
    "                condition = \"Not found\"\n",
    "    \n",
    "    return prof_name, condition"
   ]
  },
  {
   "cell_type": "markdown",
   "id": "3279aeb8",
   "metadata": {
    "ExecuteTime": {
     "end_time": "2022-02-25T14:08:07.164253Z",
     "start_time": "2022-02-25T14:08:07.146037Z"
    }
   },
   "source": [
    "###  6.4. Action Execution "
   ]
  },
  {
   "cell_type": "markdown",
   "id": "8373dd1a",
   "metadata": {},
   "source": [
    "#### 6.4.1 Action Execution Retrieval"
   ]
  },
  {
   "cell_type": "code",
   "execution_count": 13,
   "id": "f8b26124",
   "metadata": {
    "ExecuteTime": {
     "end_time": "2022-03-10T15:03:40.541490Z",
     "start_time": "2022-03-10T15:03:40.528524Z"
    }
   },
   "outputs": [],
   "source": [
    "def action_execution_retrieval(intent, condition):\n",
    "    # liste with intents that need information\n",
    "    intent_generic_conversation=[\"greeting\",\"greeting_response\",\"courtesy_greeting\",\"courtesy_greeting_response\",\"real_name_query\", \"goodbye\",\"task_response\"]\n",
    "\n",
    "    \n",
    "    #connect to database\n",
    "    conn = sqlite3.connect(\"PROF_INFO_DB.db\")\n",
    "    cur = conn.cursor()\n",
    "    \n",
    "    #TELEPHONE\n",
    "    if intent == \"prof_name_query_telephone\":\n",
    "        cur.execute(\"select title, first_name, last_name FROM PROF_INFO_TABLE where telephone = ? COLLATE NOCASE\", (condition[0],))\n",
    "        conn.commit()\n",
    "        answer = cur.fetchall()\n",
    "\n",
    "    elif intent == \"prof_name_query_email\": \n",
    "        cur.execute(\"select title, first_name, last_name FROM PROF_INFO_TABLE where email = ? COLLATE NOCASE\", (condition[0],))\n",
    "        conn.commit()\n",
    "        answer = cur.fetchall()\n",
    "        \n",
    "    elif intent == \"prof_name_query_office\":\n",
    "        cur.execute(\"select title, first_name, last_name FROM PROF_INFO_TABLE where office = ? COLLATE NOCASE\", (condition[0],))\n",
    "        conn.commit()\n",
    "        answer = cur.fetchall()\n",
    "        \n",
    "    elif intent == \"prof_name_query_research_area\":\n",
    "        cur.execute(\"SELECT title, first_name, last_name FROM PROF_INFO_TABLE INNER JOIN PROF_RESEARCH_AREA_TABLE on PROF_RESEARCH_AREA_TABLE.prof_id = PROF_INFO_TABLE.prof_id WHERE research_area = ? COLLATE NOCASE\", (condition,))\n",
    "        conn.commit()\n",
    "        answer = cur.fetchone()\n",
    "    \n",
    "    elif intent == \"prof_name_query_study\":\n",
    "        cur.execute(\"SELECT title, first_name, last_name FROM PROF_INFO_TABLE INNER JOIN PROF_STUDY_TABLE on PROF_STUDY_TABLE.prof_id = PROF_INFO_TABLE.prof_id WHERE study = ? COLLATE NOCASE\", (condition,))\n",
    "        conn.commit()\n",
    "        answer = cur.fetchone()\n",
    "        \n",
    "    elif intent == \"prof_name_query_lastname\":\n",
    "        cur.execute(\"select last_name FROM PROF_INFO_TABLE where first_name = ? COLLATE NOCASE\", (condition,))\n",
    "        conn.commit()\n",
    "        answer = cur.fetchall()\n",
    "        \n",
    "    elif intent == \"prof_name_query_firstname\":\n",
    "        cur.execute(\"select first_name FROM PROF_INFO_TABLE where last_name = ? COLLATE NOCASE\", (condition,))\n",
    "        conn.commit()\n",
    "        answer = cur.fetchall()\n",
    "        \n",
    "    elif intent == \"prof_telephone_query_name\":\n",
    "        cur.execute(\"select telephone FROM PROF_INFO_TABLE where last_name =? COLLATE NOCASE\", (condition,))\n",
    "        conn.commit()\n",
    "        answer = cur.fetchall()\n",
    "    \n",
    "    elif intent == \"prof_email_query_name\":\n",
    "        cur.execute(\"select email FROM PROF_INFO_TABLE where last_name =? COLLATE NOCASE\", (condition,))\n",
    "        conn.commit()\n",
    "        answer = cur.fetchall()\n",
    "        \n",
    "    elif intent == \"prof_office_query_name\":\n",
    "        cur.execute(\"select office FROM PROF_INFO_TABLE where last_name =? COLLATE NOCASE\", (condition,))\n",
    "        conn.commit()\n",
    "        answer = cur.fetchall()\n",
    "        \n",
    "    elif intent == \"prof_research_area_query_name\":\n",
    "        cur.execute(\"SELECT research_area FROM PROF_RESEARCH_AREA_TABLE INNER JOIN PROF_INFO_TABLE on PROF_INFO_TABLE.prof_id = PROF_RESEARCH_AREA_TABLE.prof_id WHERE last_name = ? COLLATE NOCASE\", (condition,))\n",
    "        conn.commit()\n",
    "        answer = cur.fetchall()\n",
    "        \n",
    "    elif intent == \"prof_study_query_name\":\n",
    "        cur.execute(\"SELECT study FROM PROF_STUDY_TABLE INNER JOIN PROF_INFO_TABLE on PROF_INFO_TABLE.prof_id = PROF_STUDY_TABLE.prof_id WHERE last_name = ? COLLATE NOCASE\", (condition,))\n",
    "        conn.commit()\n",
    "        answer = cur.fetchall()\n",
    "        \n",
    "    if intent in intent_generic_conversation:\n",
    "        answer = \"generic conversation no data retrieval necessary\"\n",
    "    \n",
    "    return answer"
   ]
  },
  {
   "cell_type": "markdown",
   "id": "d027ad37",
   "metadata": {},
   "source": [
    "#### 6.4.2 Action Execution Update"
   ]
  },
  {
   "cell_type": "code",
   "execution_count": 14,
   "id": "90a261d5",
   "metadata": {
    "ExecuteTime": {
     "end_time": "2022-03-10T15:03:40.556751Z",
     "start_time": "2022-03-10T15:03:40.544481Z"
    }
   },
   "outputs": [],
   "source": [
    "def action_execution_update(intent, prof_name, new_info):\n",
    "\n",
    "    \n",
    "    #connect to database\n",
    "    conn = sqlite3.connect(\"PROF_INFO_DB.db\")\n",
    "    cur = conn.cursor()\n",
    "    \n",
    "    #TELEPHONE\n",
    "    if intent == \"extract_new_telephone\":\n",
    "        cur.execute(\"UPDATE PROF_INFO_TABLE SET telephone = ? WHERE last_name = ? COLLATE NOCASE\", (new_info[0], prof_name,))\n",
    "        conn.commit()\n",
    "\n",
    "    elif intent == \"extract_new_email\": \n",
    "        cur.execute(\"UPDATE PROF_INFO_TABLE SET email = ? WHERE last_name = ? COLLATE NOCASE\", (new_info[0], prof_name,))\n",
    "        conn.commit()\n",
    "        \n",
    "    elif intent == \"extract_new_office\":\n",
    "        cur.execute(\"UPDATE PROF_INFO_TABLE SET office = ? WHERE last_name = ? COLLATE NOCASE\", (new_info[0], prof_name,))\n",
    "        conn.commit()\n",
    "        \n",
    "    elif intent == \"extract_new_research_area\":\n",
    "        cur.execute(\"INSERT INTO PROF_RESEARCH_AREA_TABLE (prof_id,Name,research_area) VALUES((SELECT prof_id FROM PROF_INFO_TABLE WHERE last_name = ? ),?,?)\", (prof_name, prof_name, new_info,))\n",
    "        conn.commit()\n",
    "\n",
    "    elif intent == \"extract_new_study\":\n",
    "        #print(\"pog\", condition[0])\n",
    "        cur.execute(\"INSERT INTO PROF_STUDY_TABLE (prof_id,Name,study) VALUES((SELECT prof_id FROM PROF_INFO_TABLE WHERE last_name = ? ),?,?)\", (prof_name, prof_name, new_info,))\n",
    "        conn.commit()\n",
    "    \n",
    "    return "
   ]
  },
  {
   "cell_type": "markdown",
   "id": "df7e6d84",
   "metadata": {
    "ExecuteTime": {
     "end_time": "2022-03-10T14:08:20.558756Z",
     "start_time": "2022-03-10T14:08:15.308Z"
    }
   },
   "source": [
    "#### 6.4.3 Action Execution New Professor"
   ]
  },
  {
   "cell_type": "code",
   "execution_count": null,
   "id": "2c821fb2",
   "metadata": {
    "ExecuteTime": {
     "end_time": "2022-03-10T14:11:04.906919Z",
     "start_time": "2022-03-10T14:10:52.864649Z"
    }
   },
   "outputs": [],
   "source": []
  },
  {
   "cell_type": "code",
   "execution_count": 15,
   "id": "728e8c3e",
   "metadata": {
    "ExecuteTime": {
     "end_time": "2022-03-10T15:03:49.863540Z",
     "start_time": "2022-03-10T15:03:40.560611Z"
    }
   },
   "outputs": [],
   "source": [
    "# load ner model to identify names of new professor\n",
    "nlp_name = spacy.load(\"en_core_web_md\")"
   ]
  },
  {
   "cell_type": "code",
   "execution_count": 16,
   "id": "38279ed2",
   "metadata": {
    "ExecuteTime": {
     "end_time": "2022-03-10T15:03:49.910107Z",
     "start_time": "2022-03-10T15:03:49.863540Z"
    }
   },
   "outputs": [],
   "source": [
    "def action_execution_new_prof():\n",
    "    \n",
    "    # Get name \n",
    "    print(\"Great! What is the name of the new Professor?\")\n",
    "    inp = input(\"You: \")\n",
    "    \n",
    "    doc = nlp_name(inp)\n",
    "    for ent in doc.ents:\n",
    "        if ent.label_ == \"PERSON\":\n",
    "            first_name = ent.text.split()[0]\n",
    "            last_name = ent.text.split()[1]\n",
    "        else:\n",
    "            first_name = \"Couldn't extract the name\"\n",
    "            last_name =\"Couldn't extract the name\"\n",
    "    \n",
    "    # Get phone number\n",
    "    print(\"What is the phone number\")\n",
    "    inp = input(\"You: \")\n",
    "    \n",
    "    re_number_1 = r\"\\D[\\d]{2}? [\\d]{4} [\\d]{3} [\\d]{4}\"\n",
    "    re_number_2 = r\"\\D[\\d]{2}? [\\d]{4} [\\d]{3} [\\d]{3}\"\n",
    "    re_number_3 = r\"\\D[\\d]{2} [\\(][\\d]{1}[\\)] [\\d]{4} [\\d]{3} [\\d]{4}\"\n",
    "    \n",
    "    try:\n",
    "        telephone = re.compile(\"(%s|%s|%s)\" % (re_number_1, re_number_2, re_number_3)).findall(inp)      \n",
    "    \n",
    "    except: \n",
    "        telephone = \"no number\"\n",
    "    \n",
    "    # Get email\n",
    "    print(\"What is the email address?\")\n",
    "    inp = input(\"You: \")\n",
    "    \n",
    "    try:\n",
    "        email = re.findall('\\S+@\\S+', inp)\n",
    "    \n",
    "    except:\n",
    "        email = \"no email\"\n",
    "    \n",
    "    # Get office\n",
    "    print(\"In which office is the new professor sitting?\")\n",
    "    inp = input(\"You: \")\n",
    "    \n",
    "    re_office_1 = r\"[A-Z, a-z].\\d{1}.\\d{2}\"\n",
    "    re_office_2 = r\"[A-Z, a-z].\\d{3}\"\n",
    "    \n",
    "    try:\n",
    "        office = re.compile(\"(%s|%s)\" % (re_office_1, re_office_2)).findall(inp)\n",
    "    \n",
    "    except:\n",
    "        ofiice = \"no office\"\n",
    "    \n",
    "    # Get research areas\n",
    "    print(\"What are the research areas of the new professor?\")\n",
    "    inp = input(\"You: \")\n",
    "    \n",
    "    doc = nlp_research_area(inp)\n",
    "    for ent in doc.ents:\n",
    "        if ent.label_ == \"RESEARCH_AREA\":\n",
    "            research_area = ent.text  \n",
    "        else:\n",
    "            research_area = \"Not found\"\n",
    "    \n",
    "    # Get study\n",
    "    print(\"In what study is the new professor teaching?\")\n",
    "    inp = input(\"You: \")\n",
    "    doc = nlp_study(inp)\n",
    "    for ent in doc.ents:\n",
    "        if ent.label_ == \"STUDY\":\n",
    "            study = ent.text  \n",
    "        else:\n",
    "            study = \"Not found\"\n",
    "    \n",
    "    print(first_name)\n",
    "    print(last_name)\n",
    "    print(telephone[0])\n",
    "    print(email[0])\n",
    "    print(office[0])\n",
    "    print(research_area)\n",
    "    print(study)\n",
    "      \n",
    "    #connect to database\n",
    "    conn = sqlite3.connect(\"PROF_INFO_DB.db\")\n",
    "    cur = conn.cursor()\n",
    "\n",
    "    cur.execute(\"INSERT INTO PROF_INFO_TABLE (prof_id, first_name,last_name, telephone, email, office) VALUES((SELECT MAX(prof_id) FROM PROF_INFO_TABLE)+1,?,?,?,?,?)\", (first_name, last_name, telephone[0], email[0], office[0]))\n",
    "    cur.execute(\"INSERT INTO PROF_RESEARCH_AREA_TABLE (prof_id, Name, research_area) VALUES((SELECT prof_id FROM PROF_INFO_TABLE WHERE last_name = ? ),?,?)\", (last_name, last_name,research_area))\n",
    "    cur.execute(\"INSERT INTO PROF_STUDY_TABLE (prof_id, Name, study) VALUES((SELECT prof_id FROM PROF_INFO_TABLE WHERE last_name = ? ),?,?)\", (last_name, last_name,study))\n",
    "\n",
    "    conn.commit()\n",
    "    return "
   ]
  },
  {
   "cell_type": "code",
   "execution_count": null,
   "id": "b33f7511",
   "metadata": {},
   "outputs": [],
   "source": []
  },
  {
   "cell_type": "code",
   "execution_count": null,
   "id": "43a735ba",
   "metadata": {},
   "outputs": [],
   "source": []
  },
  {
   "cell_type": "markdown",
   "id": "1362eea3",
   "metadata": {
    "heading_collapsed": true
   },
   "source": [
    "### 6.5. Response Generation"
   ]
  },
  {
   "cell_type": "markdown",
   "id": "a4b683ee",
   "metadata": {
    "ExecuteTime": {
     "end_time": "2022-03-06T14:40:08.569324Z",
     "start_time": "2022-03-06T14:40:08.563341Z"
    },
    "hidden": true
   },
   "source": [
    "#### 6.5.1 Response Generation Retrieval"
   ]
  },
  {
   "cell_type": "code",
   "execution_count": 20,
   "id": "5e156d81",
   "metadata": {
    "ExecuteTime": {
     "end_time": "2022-03-10T15:03:49.987919Z",
     "start_time": "2022-03-10T15:03:49.977945Z"
    },
    "hidden": true
   },
   "outputs": [],
   "source": [
    "# open and load json file with responses and intents\n",
    "with open(\"5. Response Generation/responses.json\") as file:\n",
    "    data = json.load(file)"
   ]
  },
  {
   "cell_type": "code",
   "execution_count": 21,
   "id": "e47f6b25",
   "metadata": {
    "ExecuteTime": {
     "end_time": "2022-03-10T15:03:50.002878Z",
     "start_time": "2022-03-10T15:03:49.991906Z"
    },
    "hidden": true
   },
   "outputs": [],
   "source": [
    "# get the intent labels and the reponses from the file and save them in a dictionary\n",
    "tags = [] #all intents in the json file\n",
    "resp = []\n",
    "\n",
    "for response in data[\"responses\"]:\n",
    "\n",
    "    if response[\"tag\"] not in tags:\n",
    "        tags.append(response[\"tag\"])\n",
    "\n",
    "    if response[\"sentence\"] not in resp:\n",
    "        resp.append(response[\"sentence\"])\n",
    "        \n",
    "responses_dict = dict(zip(tags, resp))"
   ]
  },
  {
   "cell_type": "code",
   "execution_count": 22,
   "id": "ba36eeee",
   "metadata": {
    "ExecuteTime": {
     "end_time": "2022-03-10T15:03:50.064936Z",
     "start_time": "2022-03-10T15:03:50.005871Z"
    },
    "hidden": true
   },
   "outputs": [],
   "source": [
    "def response_generation_retrieval(intent, answer, condition):\n",
    "    \n",
    "    if intent == \"greeting\":\n",
    "        responses = responses_dict[\"greeting\"]\n",
    "        final_response = random.choice(responses)\n",
    "        \n",
    "    elif intent == \"greeting_response\":\n",
    "        responses = responses_dict[\"greeting_response\"]\n",
    "        final_response = random.choice(responses)\n",
    "        \n",
    "    elif intent == \"courtesy_greeting\":\n",
    "        responses = responses_dict[\"courtesy_greeting\"]\n",
    "        final_response = random.choice(responses)\n",
    "        \n",
    "    elif intent == \"courtesy_greeting_response\":\n",
    "        responses = responses_dict[\"courtesy_greeting_response\"]\n",
    "        final_response = random.choice(responses)\n",
    "        \n",
    "    elif intent == \"real_name_query\":\n",
    "        responses = responses_dict[\"real_name_query\"]\n",
    "        final_response = random.choice(responses)\n",
    "        \n",
    "    elif intent == \"goodbye\":\n",
    "        responses = responses_dict[\"goodbye\"]\n",
    "        final_response = random.choice(responses)\n",
    "        \n",
    "    elif intent == \"task_response\":\n",
    "        responses = responses_dict[\"task_response\"]\n",
    "        final_response = random.choice(responses)     \n",
    "        \n",
    "    elif intent == \"prof_name_query_lastname\":\n",
    "        responses = responses_dict[\"prof_name_query_lastname\"]\n",
    "        response = random.choice(responses)\n",
    "        new_reponse = response.replace(\"_condition_\", condition) \n",
    "        final_response = new_reponse.replace(\"_answer_\", answer[0][0]) \n",
    "        \n",
    "        #response = \"The last name of \" + condition + \" is \" + answer[0][0]\n",
    "        \n",
    "    elif intent == \"prof_name_query_firstname\":\n",
    "        responses = responses_dict[\"prof_name_query_firstname\"]\n",
    "        response = random.choice(responses)\n",
    "        new_reponse = response.replace(\"_condition_\", condition) \n",
    "        final_response = new_reponse.replace(\"_answer_\", answer[0][0]) \n",
    "       \n",
    "        #final_response = \"The first name of \" + condition + \" is \" + answer[0][0]\n",
    "    \n",
    "    elif intent == \"prof_name_query_telephone\":\n",
    "        responses = responses_dict[\"prof_name_query_telephone\"]\n",
    "        response = random.choice(responses)\n",
    "        new_reponse = response.replace(\"_condition_\", condition[0]) \n",
    "        final_response = new_reponse.replace(\"_answer_\", answer[0][0] + \" \" + answer[0][1] + \" \" + answer[0][2]) \n",
    "        #\"The phone number \" + condition[0] + \" belongs to \" + answer[0][0] + \" \" + answer[0][1] + \" \" + answer[0]\n",
    "        \n",
    "    elif intent == \"prof_name_query_email\": \n",
    "        responses = responses_dict[\"prof_name_query_email\"]\n",
    "        response = random.choice(responses)\n",
    "        new_reponse = response.replace(\"_condition_\", condition[0]) \n",
    "        final_response = new_reponse.replace(\"_answer_\", answer[0][0] + \" \" + answer[0][1] + \" \" + answer[0][2])       \n",
    "        #final_response = \"The email \" + condition[0] + \" belongs to \" + answer[0][0] + \" \" + answer[0][1] + \" \" + answer[0][2]\n",
    "        \n",
    "    elif intent == \"prof_name_query_office\":\n",
    "        responses = responses_dict[\"prof_name_query_office\"]\n",
    "        response = random.choice(responses)\n",
    "        new_reponse = response.replace(\"_condition_\", condition[0]) \n",
    "        final_response = new_reponse.replace(\"_answer_\", answer[0][0] + \" \" + answer[0][1] + \" \" + answer[0][2])      \n",
    "        #final_response = \"The office \" + condition[0] + \" belongs to \" + answer[0][0] + \" \" + answer[0][1] + \" \" + answer[0][2]\n",
    "        \n",
    "    elif intent == \"prof_name_query_research_area\":\n",
    "        responses = responses_dict[\"prof_name_query_research_area\"]\n",
    "        response = random.choice(responses)\n",
    "        new_reponse = response.replace(\"_condition_\", condition) \n",
    "        final_response = new_reponse.replace(\"_answer_\", answer[0] + \" \" + answer[1] + \" \" + answer[2])  \n",
    "        #final_response = answer[0] + \" \" + answer[1] + \" \" + answer[2] +  \" is an expert in \"+ condition\n",
    "    \n",
    "    elif intent == \"prof_name_query_study\":\n",
    "        responses = responses_dict[\"prof_name_query_study\"]\n",
    "        response = random.choice(responses)\n",
    "        new_reponse = response.replace(\"_condition_\", condition) \n",
    "        final_response = new_reponse.replace(\"_answer_\", answer[0] + \" \" + answer[1] + \" \" + answer[2])  \n",
    "        #final_response = answer[0] + \" \" + answer[1] + \" \" + answer[2] + \" is a professor in \"+ condition\n",
    "        \n",
    "    elif intent == \"prof_telephone_query_name\":\n",
    "        responses = responses_dict[\"prof_telephone_query_name\"]\n",
    "        response = random.choice(responses)\n",
    "        new_reponse = response.replace(\"_condition_\", condition) \n",
    "        final_response = new_reponse.replace(\"_answer_\", answer[0][0])  \n",
    "        #final_response = \"The phone number of \" + condition + \" is \" + answer[0][0]\n",
    "    \n",
    "    elif intent == \"prof_email_query_name\":\n",
    "        responses = responses_dict[\"prof_email_query_name\"]\n",
    "        response = random.choice(responses)\n",
    "        new_reponse = response.replace(\"_condition_\", condition) \n",
    "        final_response = new_reponse.replace(\"_answer_\", answer[0][0])  \n",
    "        #final_response = \"The email of \" + condition + \" is \" + answer[0][0]\n",
    "        \n",
    "    elif intent == \"prof_office_query_name\":\n",
    "        responses = responses_dict[\"prof_office_query_name\"]\n",
    "        response = random.choice(responses)\n",
    "        new_reponse = response.replace(\"_condition_\", condition) \n",
    "        final_response = new_reponse.replace(\"_answer_\", answer[0][0])  \n",
    "        #final_response = \"The office of \" + condition + \" is \" + answer[0][0]\n",
    "        \n",
    "    elif intent == \"prof_research_area_query_name\":\n",
    "        new_answer = \"\"\n",
    "        for i in range(len(answer)):\n",
    "            new_answer += answer[i][0] + \", \"\n",
    "            \n",
    "        responses = responses_dict[\"prof_research_area_query_name\"]\n",
    "        response = random.choice(responses)\n",
    "        new_reponse = response.replace(\"_condition_\", condition) \n",
    "        final_response = new_reponse.replace(\"_answer_\", new_answer)  \n",
    "        #final_response = \"The research areas of \" + condition + \" are \" + new_answer\n",
    "        \n",
    "    elif intent == \"prof_study_query_name\":\n",
    "        new_answer = \"\"\n",
    "        for i in range(len(answer)):\n",
    "            new_answer += answer[i][0] + \", \"\n",
    "        \n",
    "        responses = responses_dict[\"prof_study_query_name\"]\n",
    "        response = random.choice(responses)\n",
    "        new_reponse = response.replace(\"_condition_\", condition) \n",
    "        final_response = new_reponse.replace(\"_answer_\", new_answer)  \n",
    "        \n",
    "    return final_response"
   ]
  },
  {
   "cell_type": "markdown",
   "id": "40e947ef",
   "metadata": {
    "heading_collapsed": true,
    "hidden": true
   },
   "source": [
    "#### 6.5.1 Response Generation Retrieval"
   ]
  },
  {
   "cell_type": "code",
   "execution_count": 23,
   "id": "fa7fc7c0",
   "metadata": {
    "ExecuteTime": {
     "end_time": "2022-03-10T15:03:50.095863Z",
     "start_time": "2022-03-10T15:03:50.077912Z"
    },
    "hidden": true
   },
   "outputs": [],
   "source": [
    "def response_generation_update(intent, condition, prof_name):\n",
    "    #print(\"response generation --> \",intent)\n",
    "        \n",
    "    if intent == \"extract_new_telephone\":\n",
    "        response = \"I changed the telephone number. Thanks\"\n",
    "              \n",
    "    elif intent == \"extract_new_email\":\n",
    "        response = \"I changed the email address. Thanks\"\n",
    "              \n",
    "    elif intent == \"extract_new_office\":\n",
    "        response = \"I changed the office number. Thanks\"\n",
    "              \n",
    "    elif intent == \"extract_new_research_area\":\n",
    "        response = \"I added the new research area. Thanks\"\n",
    "              \n",
    "    elif intent == \"extract_new_study\":\n",
    "        response = \"I added the new study. Thanks\"\n",
    "        \n",
    "    return response"
   ]
  },
  {
   "cell_type": "markdown",
   "id": "92e6ec70",
   "metadata": {},
   "source": [
    "### 6.7. Chat"
   ]
  },
  {
   "cell_type": "code",
   "execution_count": 24,
   "id": "2d47ca86",
   "metadata": {
    "ExecuteTime": {
     "end_time": "2022-03-10T15:03:50.111728Z",
     "start_time": "2022-03-10T15:03:50.098858Z"
    }
   },
   "outputs": [],
   "source": [
    "def chat():\n",
    "    log = []\n",
    "    print(\"Start talking with me!(type quit to stop):\")\n",
    "    while True:\n",
    "        inp = input(\"You: \")\n",
    "        log.append(inp) #saves all input of user in list\n",
    "        if inp.lower() == \"quit\":\n",
    "            print(\"Goodbye :)\")\n",
    "            break\n",
    "        \n",
    "        # predict the intent\n",
    "        \n",
    "        try:\n",
    "            results = model.predict([bag_of_words(inp, words)])[0] #output is just a probability for each label\n",
    "            results_index = numpy.argmax(results) #index of greatest value\n",
    "            intent = labels[results_index] #output is the most probable label\n",
    "            #print(intent)\n",
    "            \n",
    "            # check what functionality is needed\n",
    "            \n",
    "                            \n",
    "            if intent == \"extract_new_prof\":\n",
    "                action_execution_new_prof()\n",
    "                                \n",
    "                response = response = \"Thank you. I saved the new information in the database\"\n",
    "                \n",
    "                print(response)\n",
    "                \n",
    "            \n",
    "            if \"new\" in intent:\n",
    "                ### UPDATE ###\n",
    "                prof_name, condition = slot_filling_update(inp, intent)\n",
    "\n",
    "                action_execution_update(intent, prof_name, condition)\n",
    "\n",
    "                response = response_generation_update(intent, condition, prof_name)\n",
    "\n",
    "                print(response)\n",
    "\n",
    "\n",
    "            else:\n",
    "                #print(\"intent -->\", intent)\n",
    "                ### RETRIEVAL ###\n",
    "                condition = slot_filling_retrieval(inp, intent)\n",
    "                #print(\"extracted_info -->\", extracted_info)\n",
    "                answer = action_execution_retrieval(intent, condition)\n",
    "                #print(\"answer -->\", answer)\n",
    "                final_response = response_generation_retrieval(intent, answer, condition)\n",
    "\n",
    "                print(final_response)\n",
    "        except:\n",
    "            #print(\"error\")\n",
    "\n",
    "    return log"
   ]
  },
  {
   "cell_type": "code",
   "execution_count": null,
   "id": "5e50fc9e",
   "metadata": {
    "ExecuteTime": {
     "start_time": "2022-03-10T15:03:13.685Z"
    },
    "scrolled": false
   },
   "outputs": [
    {
     "name": "stdout",
     "output_type": "stream",
     "text": [
      "Start talking with me!(type quit to stop):\n",
      "You: Hello\n",
      "Hallo\n",
      "You: Who are you\n",
      "error\n",
      "You: how are you\n",
      "I'm fine. Thanks for asking. How are you?\n",
      "You: im grat thanks\n",
      "Hi\n",
      "You: which professor is an expert in data science\n",
      "Prof. Dr.-Ing. Carsten Lanquillon is an expert in data science\n",
      "You: what is the email of beckmann\n",
      "helmut.beckmann@hs-heilbronn.de is the email of Beckmann\n",
      "You: we have a new professor\n",
      "tet\n",
      "Great! What is the name of the new Professor?\n",
      "You: Peter Einstein\n",
      "What is the phone number\n",
      "You: +00 0000 000 000\n",
      "What is the email address?\n",
      "You: peter.einstein@hs-heilbronn.de\n",
      "In which office is the new professor sitting?\n",
      "You: T.3.33\n",
      "What are the research areas of the new professor?\n",
      "You: Machine Learning\n",
      "In what study is the new professor teaching?\n",
      "You: Wirtschaftsinformatik\n",
      "Peter\n",
      "Einstein\n",
      "+00 0000 000 000\n",
      "peter.einstein@hs-heilbronn.de\n",
      "T.3.33\n",
      "Machine Learning\n",
      "Wirtschaftsinformatik\n",
      "Thank you. I saved the new information in the database\n",
      "Thank you. I saved the new information in the database\n",
      "error\n",
      "You: yessir \n",
      "Good Morning\n",
      "You: yessir\n",
      "Hello\n"
     ]
    }
   ],
   "source": [
    "chat()"
   ]
  },
  {
   "cell_type": "code",
   "execution_count": null,
   "id": "49d02a80",
   "metadata": {},
   "outputs": [],
   "source": []
  },
  {
   "cell_type": "code",
   "execution_count": null,
   "id": "1677d2f4",
   "metadata": {},
   "outputs": [],
   "source": []
  },
  {
   "cell_type": "code",
   "execution_count": null,
   "id": "b3ba27a7",
   "metadata": {},
   "outputs": [],
   "source": []
  },
  {
   "cell_type": "code",
   "execution_count": null,
   "id": "7fcbf9dd",
   "metadata": {},
   "outputs": [],
   "source": []
  },
  {
   "cell_type": "code",
   "execution_count": null,
   "id": "f5de5d31",
   "metadata": {},
   "outputs": [],
   "source": []
  }
 ],
 "metadata": {
  "kernelspec": {
   "display_name": "prototype",
   "language": "python",
   "name": "prototype"
  },
  "language_info": {
   "codemirror_mode": {
    "name": "ipython",
    "version": 3
   },
   "file_extension": ".py",
   "mimetype": "text/x-python",
   "name": "python",
   "nbconvert_exporter": "python",
   "pygments_lexer": "ipython3",
   "version": "3.6.13"
  },
  "toc": {
   "base_numbering": 1,
   "nav_menu": {},
   "number_sections": true,
   "sideBar": true,
   "skip_h1_title": false,
   "title_cell": "Table of Contents",
   "title_sidebar": "Contents",
   "toc_cell": false,
   "toc_position": {},
   "toc_section_display": true,
   "toc_window_display": false
  }
 },
 "nbformat": 4,
 "nbformat_minor": 5
}
