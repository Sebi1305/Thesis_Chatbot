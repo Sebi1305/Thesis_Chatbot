{
 "cells": [
  {
   "cell_type": "markdown",
   "id": "ff0ade78",
   "metadata": {},
   "source": [
    "<img src='../images/bildungscampus_logo.png' width=\"40%\" align=\"left\" />\n",
    "<img src='../images/hhn.png' width=\"25%\" align=\"right\" />"
   ]
  },
  {
   "cell_type": "markdown",
   "id": "16151811",
   "metadata": {},
   "source": [
    "# Schritt 4: Action Execution\n",
    "Masterarbeit - Sebastian Kahlert | Fakultät Wirtschaft und Verkehr | Wirtschaftsinformatik - Informationsmanagement und Data Science | WS 2021/22\n",
    "\n",
    "<img src='../images/bar.png'/>\n",
    "\n",
    "## Generierung von SQL-Queries zur Extraktion und Speicherung neuer Informationen"
   ]
  },
  {
   "cell_type": "markdown",
   "id": "bc3be9fe",
   "metadata": {},
   "source": [
    "Hier wird eine neue Funktion implementiert, die den ermittelten Intent und die extrahierten Informationen aus dem Slot Filling als Input nimmt und SQL Queries generiert, um neue Professoren aus dem Eingaben des Nutzers in die Datenbank aufzunehmen. Nachdem der Chatbot erkannt hat, dass der Benutzer einen neuen Professor mitgeben möchte, frägt dieser den Benutezr nach verschiedenen Informationen um die Datenbank füllen zu können. "
   ]
  },
  {
   "cell_type": "markdown",
   "id": "e26fd30c",
   "metadata": {},
   "source": [
    "### 4.1. Import benötigter Bibliotheken"
   ]
  },
  {
   "cell_type": "code",
   "execution_count": 3,
   "id": "a41749ce",
   "metadata": {
    "ExecuteTime": {
     "end_time": "2022-04-10T18:34:53.319078Z",
     "start_time": "2022-04-10T18:34:49.776716Z"
    }
   },
   "outputs": [
    {
     "name": "stdout",
     "output_type": "stream",
     "text": [
      "WARNING:tensorflow:From C:\\Users\\Sebi\\anaconda3\\envs\\prototype\\lib\\site-packages\\tensorflow\\python\\compat\\v2_compat.py:101: disable_resource_variables (from tensorflow.python.ops.variable_scope) is deprecated and will be removed in a future version.\n",
      "Instructions for updating:\n",
      "non-resource variables are not supported in the long term\n",
      "curses is not supported on this machine (please install/reinstall curses for an optimal experience)\n",
      "Scipy not supported!\n"
     ]
    }
   ],
   "source": [
    "# import of necessary libraries\n",
    "import nltk \n",
    "from nltk.stem.lancaster import LancasterStemmer\n",
    "stemmer = LancasterStemmer()\n",
    "\n",
    "import datefinder\n",
    "import numpy\n",
    "import tflearn \n",
    "import tensorflow\n",
    "import random \n",
    "import json\n",
    "import pickle\n",
    "import spacy\n",
    "import sqlite3\n",
    "import re\n",
    "import os\n",
    "import sqlite3\n",
    "from difflib import SequenceMatcher"
   ]
  },
  {
   "cell_type": "markdown",
   "id": "8ef8a684",
   "metadata": {},
   "source": [
    "### 4.2. Intent Classification"
   ]
  },
  {
   "cell_type": "markdown",
   "id": "18556fd2",
   "metadata": {},
   "source": [
    "Das Neuronale Netzwerk wurde zuvor in einem separaten Notebook erstellt, trainert und gespeichert. Der folgende Code versucht das gespeciherte Neuronale Netzwerk zu laden. Falls dies nicht möglich sein sollte wird ein neues Neuronales Netzwerk erstellt und trainiert. Hierzu werden die Trainingsdaten \"data.pickle\" geladen und die Layer des Netztes definiert."
   ]
  },
  {
   "cell_type": "code",
   "execution_count": 4,
   "id": "c8260c8b",
   "metadata": {
    "ExecuteTime": {
     "end_time": "2022-04-10T18:34:53.334363Z",
     "start_time": "2022-04-10T18:34:53.322069Z"
    }
   },
   "outputs": [],
   "source": [
    "# open training data for neural net\n",
    "with open(\"../2. Intent Classififcation/data.pickle\", \"rb\") as f:\n",
    "    words, labels, training, output = pickle.load(f)"
   ]
  },
  {
   "cell_type": "code",
   "execution_count": 5,
   "id": "bcf2b8bb",
   "metadata": {
    "ExecuteTime": {
     "end_time": "2022-04-10T18:34:53.704968Z",
     "start_time": "2022-04-10T18:34:53.337530Z"
    }
   },
   "outputs": [
    {
     "name": "stdout",
     "output_type": "stream",
     "text": [
      "WARNING:tensorflow:From C:\\Users\\Sebi\\anaconda3\\envs\\prototype\\lib\\site-packages\\tflearn\\initializations.py:165: calling TruncatedNormal.__init__ (from tensorflow.python.ops.init_ops) with dtype is deprecated and will be removed in a future version.\n",
      "Instructions for updating:\n",
      "Call initializer instance with the dtype argument instead of passing it to the constructor\n",
      "INFO:tensorflow:Restoring parameters from C:\\Users\\Sebi\\OneDrive\\Studium\\Thesis_Chatbot\\2. Intent Classififcation\\model.tflearn\n"
     ]
    }
   ],
   "source": [
    "# open saved model or implement new one if model does not exist yet\n",
    "tensorflow.compat.v1.reset_default_graph()\n",
    "    \n",
    "# Creating the Neural Network\n",
    "net = tflearn.input_data(shape= [None, len(training[0])]) #input layer Neurons = numer of words in training\n",
    "net = tflearn.fully_connected(net, 8) #hidden layer fully connected with 8 neuron\n",
    "net = tflearn.fully_connected(net, len(output[0]), activation=\"softmax\" ) #output layer 6 Neurons = labels\n",
    "net = tflearn.regression(net)\n",
    "\n",
    "model = tflearn.DNN(net)\n",
    "\n",
    "try:\n",
    "    model.load(r\"..\\2. Intent Classififcation\\model.tflearn\")\n",
    "except:\n",
    "    model.fit(training, output, n_epoch=1000, batch_size=8, show_metric=True)\n",
    "    model.save(r\"..\\2. Intent Classififcation\\model.tflearn\")"
   ]
  },
  {
   "cell_type": "code",
   "execution_count": 6,
   "id": "611c102e",
   "metadata": {
    "ExecuteTime": {
     "end_time": "2022-04-10T18:34:53.720271Z",
     "start_time": "2022-04-10T18:34:53.707965Z"
    }
   },
   "outputs": [
    {
     "data": {
      "text/plain": [
       "<tflearn.models.dnn.DNN at 0x142455cadd8>"
      ]
     },
     "execution_count": 6,
     "metadata": {},
     "output_type": "execute_result"
    }
   ],
   "source": [
    "model"
   ]
  },
  {
   "cell_type": "code",
   "execution_count": 7,
   "id": "2ec67aa3",
   "metadata": {
    "ExecuteTime": {
     "end_time": "2022-04-10T18:34:53.752233Z",
     "start_time": "2022-04-10T18:34:53.722926Z"
    }
   },
   "outputs": [],
   "source": [
    "# transform input in numbers to make it readable for neural net\n",
    "def bag_of_words(s, words):\n",
    "    bag = [0 for _ in range(len(words))]\n",
    "    \n",
    "    s_words = nltk.word_tokenize(s)\n",
    "    s_words = [stemmer.stem(word.lower()) for word in s_words]\n",
    "    \n",
    "    for se in s_words:\n",
    "        for i, w in enumerate(words):\n",
    "            if w == se:\n",
    "                bag[i] = 1\n",
    "    \n",
    "    return numpy.array(bag)"
   ]
  },
  {
   "cell_type": "markdown",
   "id": "60938a66",
   "metadata": {
    "ExecuteTime": {
     "end_time": "2022-02-24T16:46:42.650308Z",
     "start_time": "2022-02-24T16:46:42.642329Z"
    }
   },
   "source": [
    "###  4.4. Action Execution "
   ]
  },
  {
   "cell_type": "markdown",
   "id": "d25a279d",
   "metadata": {},
   "source": [
    "Je nach intent wird ein vordefiniertes SQL-Query mit Platzhalter ausgeführt. Zuvor müssen die Platzhalter mit den extrahierten Informationen aus dem Slot Filling befüllt werden. Output ist die Information aus der Datenbank"
   ]
  },
  {
   "cell_type": "code",
   "execution_count": 14,
   "id": "cbd182e0",
   "metadata": {
    "ExecuteTime": {
     "end_time": "2022-04-10T18:35:22.616811Z",
     "start_time": "2022-04-10T18:35:12.980871Z"
    }
   },
   "outputs": [],
   "source": [
    "# load NER model to identify names of new professor\n",
    "nlp_name = spacy.load(\"en_core_web_md\")"
   ]
  },
  {
   "cell_type": "code",
   "execution_count": 20,
   "id": "c3217bda",
   "metadata": {
    "ExecuteTime": {
     "end_time": "2022-04-10T18:38:49.153529Z",
     "start_time": "2022-04-10T18:38:49.128214Z"
    }
   },
   "outputs": [],
   "source": [
    "def action_execution_new_prof():\n",
    "    \n",
    "    # get name of new professor\n",
    "    print(\"Great! What is the name of the new Professor?\")\n",
    "    inp = input(\"You: \")\n",
    "    doc = nlp_name(inp)\n",
    "    for ent in doc.ents:\n",
    "        if ent.label_ == \"PERSON\":\n",
    "            first_name = ent.text.split()[0]\n",
    "            last_name = ent.text.split()[1]\n",
    "        else:\n",
    "            first_name = \"Couldn't extract the name\"\n",
    "            last_name =\"Couldn't extract the name\"\n",
    "    \n",
    "    # get phone number\n",
    "    print(\"What is the phone number\")\n",
    "    inp = input(\"You: \")\n",
    "    \n",
    "    re_number_1 = r\"\\D[\\d]{2}? [\\d]{4} [\\d]{3} [\\d]{4}\"\n",
    "    re_number_2 = r\"\\D[\\d]{2}? [\\d]{4} [\\d]{3} [\\d]{3}\"\n",
    "    re_number_3 = r\"\\D[\\d]{2} [\\(][\\d]{1}[\\)] [\\d]{4} [\\d]{3} [\\d]{4}\"\n",
    "    \n",
    "    try:\n",
    "        telephone = re.compile(\"(%s|%s|%s)\" % (re_number_1, re_number_2, re_number_3)).findall(inp)      \n",
    "    \n",
    "    except: \n",
    "        telephone = \"no number\"\n",
    "    \n",
    "    # get email\n",
    "    print(\"What is the email address?\")\n",
    "    inp = input(\"You: \")\n",
    "    \n",
    "    try:\n",
    "        email = re.findall('\\S+@\\S+', inp)\n",
    "    \n",
    "    except:\n",
    "        email = \"no email\"\n",
    "    \n",
    "    # get office\n",
    "    print(\"In which office is the new professor sitting?\")\n",
    "    inp = input(\"You: \")\n",
    "    \n",
    "    re_office_1 = r\"[A-Z, a-z].\\d{1}.\\d{2}\"\n",
    "    re_office_2 = r\"[A-Z, a-z].\\d{3}\"\n",
    "    \n",
    "    try:\n",
    "        office = re.compile(\"(%s|%s)\" % (re_office_1, re_office_2)).findall(inp)\n",
    "    \n",
    "    except:\n",
    "        ofiice = \"no office\"\n",
    "    \n",
    "    # get research areas\n",
    "    print(\"What are the research areas of the new professor?\")\n",
    "    inp = input(\"You: \")\n",
    "    \n",
    "    doc = nlp_research_area(inp)\n",
    "    for ent in doc.ents:\n",
    "        if ent.label_ == \"RESEARCH_AREA\":\n",
    "            research_area = ent.text  \n",
    "        else:\n",
    "            research_area = \"Not found\"\n",
    "    \n",
    "    # get study\n",
    "    print(\"In what study is the new professor teaching?\")\n",
    "    inp = input(\"You: \")\n",
    "    doc = nlp_study(inp)\n",
    "    for ent in doc.ents:\n",
    "        if ent.label_ == \"STUDY\":\n",
    "            study = ent.text  \n",
    "        else:\n",
    "            study = \"Not found\"\n",
    "      \n",
    "    # connect to database\n",
    "    conn = sqlite3.connect(\"../PROF_INFO_DB.db\")\n",
    "    cur = conn.cursor()\n",
    "\n",
    "    # insert new information into database\n",
    "    cur.execute(\"INSERT INTO PROF_INFO_TABLE (prof_id, first_name,last_name, telephone, email, office) VALUES((SELECT MAX(prof_id) FROM PROF_INFO_TABLE)+1,?,?,?,?,?)\", (first_name, last_name, telephone[0], email[0], office[0]))\n",
    "    cur.execute(\"INSERT INTO PROF_RESEARCH_AREA_TABLE (prof_id, Name, research_area) VALUES((SELECT prof_id FROM PROF_INFO_TABLE WHERE last_name = ? ),?,?)\", (last_name, last_name,research_area))\n",
    "    cur.execute(\"INSERT INTO PROF_STUDY_TABLE (prof_id, Name, study) VALUES((SELECT prof_id FROM PROF_INFO_TABLE WHERE last_name = ? ),?,?)\", (last_name, last_name,study))\n",
    "\n",
    "    conn.commit()\n",
    "    return "
   ]
  },
  {
   "cell_type": "markdown",
   "id": "92e6ec70",
   "metadata": {},
   "source": [
    "### 4.5. Testen der Action Execution Funktion"
   ]
  },
  {
   "cell_type": "code",
   "execution_count": 18,
   "id": "2d47ca86",
   "metadata": {
    "ExecuteTime": {
     "end_time": "2022-04-10T18:37:29.224002Z",
     "start_time": "2022-04-10T18:37:29.216019Z"
    }
   },
   "outputs": [],
   "source": [
    "def chat():\n",
    "    log = []\n",
    "    print(\"Start talking with me!(type quit to stop):\")\n",
    "    while True:\n",
    "        inp = input(\"You: \")\n",
    "        log.append(inp) #saves all input of user in list\n",
    "        if inp.lower() == \"quit\":\n",
    "            print(\"Goodbye :)\")\n",
    "            break\n",
    "        \n",
    "        # predict the intent\n",
    "        results = model.predict([bag_of_words(inp, words)])[0] #output is just a probability for each label\n",
    "        results_index = numpy.argmax(results) #index of greatest value\n",
    "        intent = labels[results_index] #output is the most probable label\n",
    "        print(intent)\n",
    "        \n",
    "        if intent == \"extract_new_prof\":\n",
    "            # Action Execution\n",
    "            action_execution_new_prof()\n",
    "            # Response Generation\n",
    "            response = \"Thank you. I saved the new information in the database\"\n",
    "            print(response)\n",
    "              \n",
    "\n",
    "    return log # returns list of the inputs"
   ]
  },
  {
   "cell_type": "code",
   "execution_count": 19,
   "id": "5e50fc9e",
   "metadata": {
    "ExecuteTime": {
     "end_time": "2022-04-10T18:38:08.761707Z",
     "start_time": "2022-04-10T18:37:30.178005Z"
    },
    "scrolled": true
   },
   "outputs": [
    {
     "name": "stdout",
     "output_type": "stream",
     "text": [
      "Start talking with me!(type quit to stop):\n",
      "You: there is a new professor\n",
      "extract_new_prof\n",
      "Great! What is the name of the new Professor?\n",
      "You: peter blume\n",
      "What is the phone number\n",
      "You: +98 9999 999 9999\n",
      "What is the email address?\n",
      "You: peter.blume@mail.de\n",
      "In which office is the new professor sitting?\n",
      "You: t.333\n",
      "What are the research areas of the new professor?\n",
      "You: Machine Learning\n",
      "In what study is the new professor teaching?\n",
      "You: Win\n"
     ]
    },
    {
     "ename": "OperationalError",
     "evalue": "no such table: PROF_INFO_TABLE",
     "output_type": "error",
     "traceback": [
      "\u001b[1;31m---------------------------------------------------------------------------\u001b[0m",
      "\u001b[1;31mOperationalError\u001b[0m                          Traceback (most recent call last)",
      "\u001b[1;32m<ipython-input-19-e57ee30c65ef>\u001b[0m in \u001b[0;36m<module>\u001b[1;34m\u001b[0m\n\u001b[1;32m----> 1\u001b[1;33m \u001b[0mchat\u001b[0m\u001b[1;33m(\u001b[0m\u001b[1;33m)\u001b[0m\u001b[1;33m\u001b[0m\u001b[1;33m\u001b[0m\u001b[0m\n\u001b[0m",
      "\u001b[1;32m<ipython-input-18-f60db877b2f0>\u001b[0m in \u001b[0;36mchat\u001b[1;34m()\u001b[0m\n\u001b[0;32m     17\u001b[0m         \u001b[1;32mif\u001b[0m \u001b[0mintent\u001b[0m \u001b[1;33m==\u001b[0m \u001b[1;34m\"extract_new_prof\"\u001b[0m\u001b[1;33m:\u001b[0m\u001b[1;33m\u001b[0m\u001b[1;33m\u001b[0m\u001b[0m\n\u001b[0;32m     18\u001b[0m             \u001b[1;31m# Action Execution\u001b[0m\u001b[1;33m\u001b[0m\u001b[1;33m\u001b[0m\u001b[1;33m\u001b[0m\u001b[0m\n\u001b[1;32m---> 19\u001b[1;33m             \u001b[0maction_execution_new_prof\u001b[0m\u001b[1;33m(\u001b[0m\u001b[1;33m)\u001b[0m\u001b[1;33m\u001b[0m\u001b[1;33m\u001b[0m\u001b[0m\n\u001b[0m\u001b[0;32m     20\u001b[0m             \u001b[1;31m# Response Generation\u001b[0m\u001b[1;33m\u001b[0m\u001b[1;33m\u001b[0m\u001b[1;33m\u001b[0m\u001b[0m\n\u001b[0;32m     21\u001b[0m             \u001b[0mresponse\u001b[0m \u001b[1;33m=\u001b[0m \u001b[1;34m\"Thank you. I saved the new information in the database\"\u001b[0m\u001b[1;33m\u001b[0m\u001b[1;33m\u001b[0m\u001b[0m\n",
      "\u001b[1;32m<ipython-input-15-0809a0e4fa78>\u001b[0m in \u001b[0;36maction_execution_new_prof\u001b[1;34m()\u001b[0m\n\u001b[0;32m     76\u001b[0m \u001b[1;33m\u001b[0m\u001b[0m\n\u001b[0;32m     77\u001b[0m     \u001b[1;31m# insert new information into database\u001b[0m\u001b[1;33m\u001b[0m\u001b[1;33m\u001b[0m\u001b[1;33m\u001b[0m\u001b[0m\n\u001b[1;32m---> 78\u001b[1;33m     \u001b[0mcur\u001b[0m\u001b[1;33m.\u001b[0m\u001b[0mexecute\u001b[0m\u001b[1;33m(\u001b[0m\u001b[1;34m\"INSERT INTO PROF_INFO_TABLE (prof_id, first_name,last_name, telephone, email, office) VALUES((SELECT MAX(prof_id) FROM PROF_INFO_TABLE)+1,?,?,?,?,?)\"\u001b[0m\u001b[1;33m,\u001b[0m \u001b[1;33m(\u001b[0m\u001b[0mfirst_name\u001b[0m\u001b[1;33m,\u001b[0m \u001b[0mlast_name\u001b[0m\u001b[1;33m,\u001b[0m \u001b[0mtelephone\u001b[0m\u001b[1;33m[\u001b[0m\u001b[1;36m0\u001b[0m\u001b[1;33m]\u001b[0m\u001b[1;33m,\u001b[0m \u001b[0memail\u001b[0m\u001b[1;33m[\u001b[0m\u001b[1;36m0\u001b[0m\u001b[1;33m]\u001b[0m\u001b[1;33m,\u001b[0m \u001b[0moffice\u001b[0m\u001b[1;33m[\u001b[0m\u001b[1;36m0\u001b[0m\u001b[1;33m]\u001b[0m\u001b[1;33m)\u001b[0m\u001b[1;33m)\u001b[0m\u001b[1;33m\u001b[0m\u001b[1;33m\u001b[0m\u001b[0m\n\u001b[0m\u001b[0;32m     79\u001b[0m     \u001b[0mcur\u001b[0m\u001b[1;33m.\u001b[0m\u001b[0mexecute\u001b[0m\u001b[1;33m(\u001b[0m\u001b[1;34m\"INSERT INTO PROF_RESEARCH_AREA_TABLE (prof_id, Name, research_area) VALUES((SELECT prof_id FROM PROF_INFO_TABLE WHERE last_name = ? ),?,?)\"\u001b[0m\u001b[1;33m,\u001b[0m \u001b[1;33m(\u001b[0m\u001b[0mlast_name\u001b[0m\u001b[1;33m,\u001b[0m \u001b[0mlast_name\u001b[0m\u001b[1;33m,\u001b[0m\u001b[0mresearch_area\u001b[0m\u001b[1;33m)\u001b[0m\u001b[1;33m)\u001b[0m\u001b[1;33m\u001b[0m\u001b[1;33m\u001b[0m\u001b[0m\n\u001b[0;32m     80\u001b[0m     \u001b[0mcur\u001b[0m\u001b[1;33m.\u001b[0m\u001b[0mexecute\u001b[0m\u001b[1;33m(\u001b[0m\u001b[1;34m\"INSERT INTO PROF_STUDY_TABLE (prof_id, Name, study) VALUES((SELECT prof_id FROM PROF_INFO_TABLE WHERE last_name = ? ),?,?)\"\u001b[0m\u001b[1;33m,\u001b[0m \u001b[1;33m(\u001b[0m\u001b[0mlast_name\u001b[0m\u001b[1;33m,\u001b[0m \u001b[0mlast_name\u001b[0m\u001b[1;33m,\u001b[0m\u001b[0mstudy\u001b[0m\u001b[1;33m)\u001b[0m\u001b[1;33m)\u001b[0m\u001b[1;33m\u001b[0m\u001b[1;33m\u001b[0m\u001b[0m\n",
      "\u001b[1;31mOperationalError\u001b[0m: no such table: PROF_INFO_TABLE"
     ]
    }
   ],
   "source": [
    "chat()"
   ]
  },
  {
   "cell_type": "code",
   "execution_count": null,
   "id": "49d02a80",
   "metadata": {},
   "outputs": [],
   "source": []
  },
  {
   "cell_type": "code",
   "execution_count": null,
   "id": "1677d2f4",
   "metadata": {},
   "outputs": [],
   "source": []
  },
  {
   "cell_type": "code",
   "execution_count": null,
   "id": "b3ba27a7",
   "metadata": {},
   "outputs": [],
   "source": []
  },
  {
   "cell_type": "code",
   "execution_count": null,
   "id": "7fcbf9dd",
   "metadata": {},
   "outputs": [],
   "source": []
  },
  {
   "cell_type": "code",
   "execution_count": null,
   "id": "f5de5d31",
   "metadata": {},
   "outputs": [],
   "source": []
  }
 ],
 "metadata": {
  "kernelspec": {
   "display_name": "prototype",
   "language": "python",
   "name": "prototype"
  },
  "language_info": {
   "codemirror_mode": {
    "name": "ipython",
    "version": 3
   },
   "file_extension": ".py",
   "mimetype": "text/x-python",
   "name": "python",
   "nbconvert_exporter": "python",
   "pygments_lexer": "ipython3",
   "version": "3.6.13"
  },
  "toc": {
   "base_numbering": 1,
   "nav_menu": {},
   "number_sections": true,
   "sideBar": true,
   "skip_h1_title": false,
   "title_cell": "Table of Contents",
   "title_sidebar": "Contents",
   "toc_cell": false,
   "toc_position": {},
   "toc_section_display": true,
   "toc_window_display": false
  }
 },
 "nbformat": 4,
 "nbformat_minor": 5
}
