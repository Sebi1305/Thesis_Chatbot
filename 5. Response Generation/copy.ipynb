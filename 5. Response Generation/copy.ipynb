{
 "cells": [
  {
   "cell_type": "markdown",
   "id": "813167cd",
   "metadata": {
    "ExecuteTime": {
     "end_time": "2022-02-27T15:50:22.400703Z",
     "start_time": "2022-02-27T15:50:22.385742Z"
    }
   },
   "source": [
    "<img src='../images/bildungscampus_logo.png' width=\"40%\" align=\"left\" />\n",
    "<img src='../images/hhn.png' width=\"25%\" align=\"right\" />"
   ]
  },
  {
   "cell_type": "markdown",
   "id": "16151811",
   "metadata": {},
   "source": [
    "# Schritt 5: Response Generation\n",
    "Masterarbeit - Sebastian Kahlert | Fakultät Wirtschaft und Verkehr | Wirtschaftsinformatik - Informationsmanagement und Data Science | WS 2021/22\n",
    "\n",
    "<img src='../images/bar.png'/>\n",
    "\n",
    "## Generierung der Antworten für den Benutzer"
   ]
  },
  {
   "cell_type": "markdown",
   "id": "bc3be9fe",
   "metadata": {},
   "source": [
    "Hier wird eine neue Funktion implementiert, die den Output aus der Action Execution nimmt und daraus eine Antwort für den Nutzer generiert. Die Antworten sind vordefinierte Muster mit Platzhalter die befüllt werden müssen."
   ]
  },
  {
   "cell_type": "markdown",
   "id": "e26fd30c",
   "metadata": {},
   "source": [
    "### 5.1. Import benötigter Bibliotheken"
   ]
  },
  {
   "cell_type": "code",
   "execution_count": 34,
   "id": "a41749ce",
   "metadata": {
    "ExecuteTime": {
     "end_time": "2022-03-04T17:33:29.229602Z",
     "start_time": "2022-03-04T17:33:29.214641Z"
    }
   },
   "outputs": [],
   "source": [
    "# import of necessary libraries\n",
    "import nltk \n",
    "from nltk.stem.lancaster import LancasterStemmer\n",
    "stemmer = LancasterStemmer()\n",
    "\n",
    "import datefinder\n",
    "import numpy\n",
    "import tflearn \n",
    "import tensorflow\n",
    "import random \n",
    "import json\n",
    "import pickle\n",
    "import spacy\n",
    "import sqlite3\n",
    "import re\n",
    "import os\n",
    "import sqlite3\n",
    "from difflib import SequenceMatcher\n",
    "import random"
   ]
  },
  {
   "cell_type": "markdown",
   "id": "8ef8a684",
   "metadata": {},
   "source": [
    "### 4.2. Intent Classification"
   ]
  },
  {
   "cell_type": "markdown",
   "id": "18556fd2",
   "metadata": {},
   "source": [
    "Das Neuronale Netzwerk wurde zuvor in einem separaten Notebook erstellt, trainert und gespeichert. Der folgende Code versucht das gespeciherte Neuronale Netzwerk zu laden. Falls dies nicht möglich sein sollte wird ein neues Neuronales Netzwerk erstellt und trainiert. Hierzu werden die Trainingsdaten \"data.pickle\" geladen und die Layer des Netztes definiert."
   ]
  },
  {
   "cell_type": "code",
   "execution_count": 35,
   "id": "cba1d458",
   "metadata": {
    "ExecuteTime": {
     "end_time": "2022-03-04T17:33:30.270710Z",
     "start_time": "2022-03-04T17:33:30.261700Z"
    }
   },
   "outputs": [],
   "source": [
    "# open training data for neural net\n",
    "with open(\"../2. Intent Classififcation/data.pickle\", \"rb\") as f:\n",
    "    words, labels, training, output = pickle.load(f)"
   ]
  },
  {
   "cell_type": "code",
   "execution_count": 36,
   "id": "bcf2b8bb",
   "metadata": {
    "ExecuteTime": {
     "end_time": "2022-03-04T17:33:30.862003Z",
     "start_time": "2022-03-04T17:33:30.503173Z"
    }
   },
   "outputs": [
    {
     "name": "stdout",
     "output_type": "stream",
     "text": [
      "WARNING:tensorflow:From C:\\Users\\Sebi\\anaconda3\\envs\\prototype\\lib\\site-packages\\tflearn\\initializations.py:165: calling TruncatedNormal.__init__ (from tensorflow.python.ops.init_ops) with dtype is deprecated and will be removed in a future version.\n",
      "Instructions for updating:\n",
      "Call initializer instance with the dtype argument instead of passing it to the constructor\n",
      "INFO:tensorflow:Restoring parameters from C:\\Users\\Sebi\\OneDrive\\Studium\\Thesis_Chatbot\\2. Intent Classififcation\\model.tflearn\n"
     ]
    }
   ],
   "source": [
    "# open saved model or implement new one if model does not exist yet\n",
    "tensorflow.compat.v1.reset_default_graph()\n",
    "    \n",
    "# Creating the Neural Network\n",
    "net = tflearn.input_data(shape= [None, len(training[0])]) #input layer Neurons = numer of words in training\n",
    "net = tflearn.fully_connected(net, 8) #hidden layer fully connected with 8 neuron\n",
    "net = tflearn.fully_connected(net, len(output[0]), activation=\"softmax\" ) #output layer 6 Neurons = labels\n",
    "net = tflearn.regression(net)\n",
    "\n",
    "model = tflearn.DNN(net)\n",
    "\n",
    "try:\n",
    "    model.load(r\"..\\2. Intent Classififcation\\model.tflearn\")\n",
    "except:\n",
    "    model.fit(training, output, n_epoch=1000, batch_size=8, show_metric=True)\n",
    "    model.save(r\"..\\2. Intent Classififcation\\model.tflearn\")"
   ]
  },
  {
   "cell_type": "code",
   "execution_count": 40,
   "id": "611c102e",
   "metadata": {
    "ExecuteTime": {
     "end_time": "2022-03-04T17:34:17.359713Z",
     "start_time": "2022-03-04T17:34:17.345750Z"
    }
   },
   "outputs": [
    {
     "data": {
      "text/plain": [
       "<tflearn.models.dnn.DNN at 0x2787b7f53c8>"
      ]
     },
     "execution_count": 40,
     "metadata": {},
     "output_type": "execute_result"
    }
   ],
   "source": [
    "model"
   ]
  },
  {
   "cell_type": "code",
   "execution_count": 41,
   "id": "2ec67aa3",
   "metadata": {
    "ExecuteTime": {
     "end_time": "2022-03-04T17:34:17.860394Z",
     "start_time": "2022-03-04T17:34:17.854406Z"
    }
   },
   "outputs": [],
   "source": [
    "# transform input in numbers to make it readable for neural net\n",
    "def bag_of_words(s, words):\n",
    "    bag = [0 for _ in range(len(words))]\n",
    "    \n",
    "    s_words = nltk.word_tokenize(s)\n",
    "    s_words = [stemmer.stem(word.lower()) for word in s_words]\n",
    "    \n",
    "    for se in s_words:\n",
    "        for i, w in enumerate(words):\n",
    "            if w == se:\n",
    "                bag[i] = 1\n",
    "    \n",
    "    return numpy.array(bag)"
   ]
  },
  {
   "cell_type": "markdown",
   "id": "438f3588",
   "metadata": {},
   "source": [
    "### 4.3. Slot Filling"
   ]
  },
  {
   "cell_type": "markdown",
   "id": "8bd5cb81",
   "metadata": {
    "ExecuteTime": {
     "end_time": "2022-02-20T14:48:04.044028Z",
     "start_time": "2022-02-20T14:48:04.027074Z"
    }
   },
   "source": [
    "Für die Extraktion der verschiedenen Zusatzinformationen müssen unteranderem bereits bekannte Namen aus der Datenbank extrahiert werden und in Listen gespeichert werden. Eine Funktion gleicht den Input des Benutzers mit den Namen ab, um zu prüfen ob der vom Benutzer genannte Professor bekannt ist oder nicht. Zusätzlich werden zuvor trainerte Custom NER Modelle geladen und die Slot Filling definiert."
   ]
  },
  {
   "cell_type": "markdown",
   "id": "336c4d6c",
   "metadata": {
    "ExecuteTime": {
     "end_time": "2022-02-27T15:53:07.050380Z",
     "start_time": "2022-02-27T15:53:07.032390Z"
    }
   },
   "source": [
    "#### 4.3.1. Vornamen"
   ]
  },
  {
   "cell_type": "code",
   "execution_count": 42,
   "id": "099c0392",
   "metadata": {
    "ExecuteTime": {
     "end_time": "2022-03-04T17:34:19.288018Z",
     "start_time": "2022-03-04T17:34:19.277050Z"
    }
   },
   "outputs": [],
   "source": [
    "# get first names from database\n",
    "conn = sqlite3.connect(\"../PROF_INFO_DB.db\")\n",
    "cur = conn.cursor()\n",
    "cur.execute(\"select first_name FROM PROF_INFO_TABLE\")\n",
    "conn.commit()\n",
    "first_names = cur.fetchall()\n",
    "conn.close()\n",
    "\n",
    "#first_names"
   ]
  },
  {
   "cell_type": "code",
   "execution_count": 43,
   "id": "3d774eb1",
   "metadata": {
    "ExecuteTime": {
     "end_time": "2022-03-04T17:34:19.457275Z",
     "start_time": "2022-03-04T17:34:19.437469Z"
    }
   },
   "outputs": [],
   "source": [
    "# store first names in list\n",
    "first_names_list = []\n",
    "for i in range(len(first_names)):\n",
    "    answer = \" \".join(first_names[i])\n",
    "    answer.strip()\n",
    "    first_names_list.append(answer)\n",
    "\n",
    "#first_names_list"
   ]
  },
  {
   "cell_type": "markdown",
   "id": "ec3d1e62",
   "metadata": {},
   "source": [
    "#### 4.3.2. Nachnamen"
   ]
  },
  {
   "cell_type": "code",
   "execution_count": 44,
   "id": "d50161ce",
   "metadata": {
    "ExecuteTime": {
     "end_time": "2022-03-04T17:34:19.742483Z",
     "start_time": "2022-03-04T17:34:19.732698Z"
    }
   },
   "outputs": [],
   "source": [
    "# get last names from database\n",
    "conn = sqlite3.connect(\"../PROF_INFO_DB.db\")\n",
    "cur = conn.cursor()\n",
    "cur.execute(\"select last_name FROM PROF_INFO_TABLE\")\n",
    "conn.commit()\n",
    "last_names = cur.fetchall()\n",
    "conn.close()\n",
    "\n",
    "#last_names"
   ]
  },
  {
   "cell_type": "code",
   "execution_count": 45,
   "id": "20b5ec84",
   "metadata": {
    "ExecuteTime": {
     "end_time": "2022-03-04T17:34:19.891287Z",
     "start_time": "2022-03-04T17:34:19.871391Z"
    }
   },
   "outputs": [],
   "source": [
    "# store last names in list\n",
    "last_names_list = []\n",
    "for i in range(len(last_names)):\n",
    "    answer = \" \".join(last_names[i])\n",
    "    answer.strip()\n",
    "    last_names_list.append(answer)\n",
    "\n",
    "#last_names_list"
   ]
  },
  {
   "cell_type": "markdown",
   "id": "e8fdfd88",
   "metadata": {},
   "source": [
    "#### 4.3.3. Forschungsschwerpunkte und Studiengänge"
   ]
  },
  {
   "cell_type": "code",
   "execution_count": 46,
   "id": "6f548b49",
   "metadata": {
    "ExecuteTime": {
     "end_time": "2022-03-04T17:34:41.252076Z",
     "start_time": "2022-03-04T17:34:20.184175Z"
    }
   },
   "outputs": [],
   "source": [
    "#load the custom NER models\n",
    "nlp_research_area = spacy.load(r\"../3. Slot Filling/custom_ner_model_research_area\")\n",
    "nlp_study = spacy.load(r\"../3. Slot Filling/custom_ner_model_study\")"
   ]
  },
  {
   "cell_type": "markdown",
   "id": "f39dd50d",
   "metadata": {
    "ExecuteTime": {
     "end_time": "2022-02-27T15:53:37.782213Z",
     "start_time": "2022-02-27T15:53:37.777226Z"
    }
   },
   "source": [
    "#### 4.3.4. Slot Filling Funktion"
   ]
  },
  {
   "cell_type": "code",
   "execution_count": 47,
   "id": "58329dfd",
   "metadata": {
    "ExecuteTime": {
     "end_time": "2022-03-04T17:34:41.299108Z",
     "start_time": "2022-03-04T17:34:41.252076Z"
    }
   },
   "outputs": [],
   "source": [
    "def slot_filling(inp, intent):\n",
    "    # liste with intents that need information\n",
    "    intent_prof_contact=[\"prof_telephone_query_name\", \"prof_email_query_name\", \"prof_office_query_name\", \"prof_research_area_query_name\", \"prof_study_query_name\"]\n",
    "    intent_generic_conversation=[\"greeting\",\"greeting_response\",\"courtesy_greeting\",\"courtesy_greeting_response\",\"real_name_query\", \"goodbye\",\"task_response\"]\n",
    "        \n",
    "    if intent == \"prof_name_query_telephone\":\n",
    "        re_number_1 = r\"\\D[\\d]{2}? [\\d]{4} [\\d]{3} [\\d]{4}\"\n",
    "        re_number_2 = r\"\\D[\\d]{2}? [\\d]{4} [\\d]{3} [\\d]{3}\"\n",
    "        re_number_3 = r\"\\D[\\d]{2} [\\(][\\d]{1}[\\)] [\\d]{4} [\\d]{3} [\\d]{4}\"\n",
    "        extracted_info = re.compile(\"(%s|%s|%s)\" % (re_number_1, re_number_2, re_number_3)).findall(inp) \n",
    "\n",
    "    elif intent == \"prof_name_query_email\":\n",
    "        extracted_info = re.findall('\\S+@\\S+', inp)\n",
    "\n",
    "    elif intent == \"prof_name_query_office\":\n",
    "        re_office_1 = r\"[A-Z, a-z].\\d{1}.\\d{2}\"\n",
    "        re_office_2 = r\"[A-Z, a-z].\\d{3}\"\n",
    "        extracted_info = re.compile(\"(%s|%s)\" % (re_office_1, re_office_2)).findall(inp)\n",
    "\n",
    "    elif intent == \"prof_name_query_research_area\":\n",
    "        doc = nlp_research_area(inp)\n",
    "        for ent in doc.ents:\n",
    "            if ent.label_ == \"RESEARCH_AREA\":\n",
    "                extracted_info = ent.text    \n",
    "\n",
    "    elif intent == \"prof_name_query_study\":\n",
    "        doc = nlp_study(inp)\n",
    "        for ent in doc.ents:\n",
    "            if ent.label_ == \"STUDY\":\n",
    "                extracted_info = ent.text  \n",
    "\n",
    "    elif intent == \"prof_name_query_lastname\":\n",
    "        for first_name in first_names_list:\n",
    "            for word in inp.split():\n",
    "                if SequenceMatcher(None, first_name, word).ratio() >= 0.7:\n",
    "                    extracted_info = first_name\n",
    "\n",
    "    elif intent == \"prof_name_query_firstname\":\n",
    "        for last_name in last_names_list:\n",
    "            for word in inp.split():\n",
    "                if SequenceMatcher(None, last_name, word).ratio() >= 0.7:\n",
    "                    extracted_info = last_name\n",
    "\n",
    "    elif intent in intent_prof_contact:\n",
    "        for last_name in last_names_list:\n",
    "            for word in inp.split():\n",
    "                if SequenceMatcher(None, last_name, word).ratio() >= 0.7:\n",
    "                    extracted_info = last_name\n",
    "\n",
    "    elif intent in intent_generic_conversation:\n",
    "        extracted_info = \"generic intent no need for info extraction\"\n",
    "\n",
    "    else:\n",
    "        extracted_info = \"nobody/ nothing\"\n",
    "    \n",
    "    return extracted_info"
   ]
  },
  {
   "cell_type": "code",
   "execution_count": null,
   "id": "19a06693",
   "metadata": {
    "ExecuteTime": {
     "end_time": "2022-03-04T17:34:59.564343Z",
     "start_time": "2022-03-04T17:34:59.550228Z"
    }
   },
   "outputs": [],
   "source": []
  },
  {
   "cell_type": "markdown",
   "id": "60938a66",
   "metadata": {
    "ExecuteTime": {
     "end_time": "2022-02-24T16:46:42.650308Z",
     "start_time": "2022-02-24T16:46:42.642329Z"
    }
   },
   "source": [
    "###  4.4. Action Execution "
   ]
  },
  {
   "cell_type": "markdown",
   "id": "024a79c5",
   "metadata": {},
   "source": [
    "Je nach intent wird ein vordefiniertes SQL-Query mit Platzhalter ausgeführt. Zuvor müssen die Platzhalter mit den extrahierten Informationen aus dem Slot Filling befüllt werden. Output ist die Information aus der Datenbank"
   ]
  },
  {
   "cell_type": "code",
   "execution_count": 51,
   "id": "c3217bda",
   "metadata": {
    "ExecuteTime": {
     "end_time": "2022-03-04T17:35:19.776121Z",
     "start_time": "2022-03-04T17:35:19.752135Z"
    }
   },
   "outputs": [],
   "source": [
    "def action_execution_retrieval(intent, condition = str):\n",
    "    # liste with intents that need information\n",
    "    intent_generic_conversation=[\"greeting\",\"greeting_response\",\"courtesy_greeting\",\"courtesy_greeting_response\",\"real_name_query\", \"goodbye\",\"task_response\"]\n",
    "\n",
    "    \n",
    "    #connect to database\n",
    "    conn = sqlite3.connect(\"../PROF_INFO_DB.db\")\n",
    "    cur = conn.cursor()\n",
    "    \n",
    "    #TELEPHONE\n",
    "    if intent == \"prof_name_query_telephone\":\n",
    "        cur.execute(\"select title, first_name, last_name FROM PROF_INFO_TABLE where telephone = ? COLLATE NOCASE\", (condition[0],))\n",
    "        conn.commit()\n",
    "        answer = cur.fetchall()\n",
    "\n",
    "    elif intent == \"prof_name_query_email\": \n",
    "        cur.execute(\"select title, first_name, last_name FROM PROF_INFO_TABLE where email = ? COLLATE NOCASE\", (condition[0],))\n",
    "        conn.commit()\n",
    "        answer = cur.fetchall()\n",
    "        \n",
    "    elif intent == \"prof_name_query_office\":\n",
    "        cur.execute(\"select title, first_name, last_name FROM PROF_INFO_TABLE where office = ? COLLATE NOCASE\", (condition[0],))\n",
    "        conn.commit()\n",
    "        answer = cur.fetchall()\n",
    "        \n",
    "    elif intent == \"prof_name_query_research_area\":\n",
    "        cur.execute(\"SELECT title, first_name, last_name FROM PROF_INFO_TABLE INNER JOIN PROF_RESEARCH_AREA_TABLE on PROF_RESEARCH_AREA_TABLE.prof_id = PROF_INFO_TABLE.prof_id WHERE research_area = ? COLLATE NOCASE\", (condition,))\n",
    "        conn.commit()\n",
    "        answer = cur.fetchone()\n",
    "    \n",
    "    elif intent == \"prof_name_query_study\":\n",
    "        cur.execute(\"SELECT title, first_name, last_name FROM PROF_INFO_TABLE INNER JOIN PROF_STUDY_TABLE on PROF_STUDY_TABLE.prof_id = PROF_INFO_TABLE.prof_id WHERE study = ? COLLATE NOCASE\", (condition,))\n",
    "        conn.commit()\n",
    "        answer = cur.fetchone()\n",
    "        \n",
    "    elif intent == \"prof_name_query_lastname\":\n",
    "        cur.execute(\"select last_name FROM PROF_INFO_TABLE where first_name = ? COLLATE NOCASE\", (condition,))\n",
    "        conn.commit()\n",
    "        answer = cur.fetchall()\n",
    "        \n",
    "    elif intent == \"prof_name_query_firstname\":\n",
    "        cur.execute(\"select first_name FROM PROF_INFO_TABLE where last_name = ? COLLATE NOCASE\", (condition,))\n",
    "        conn.commit()\n",
    "        answer = cur.fetchall()\n",
    "        \n",
    "    elif intent == \"prof_telephone_query_name\":\n",
    "        cur.execute(\"select telephone FROM PROF_INFO_TABLE where last_name =? COLLATE NOCASE\", (condition,))\n",
    "        conn.commit()\n",
    "        answer = cur.fetchall()\n",
    "    \n",
    "    elif intent == \"prof_email_query_name\":\n",
    "        cur.execute(\"select email FROM PROF_INFO_TABLE where last_name =? COLLATE NOCASE\", (condition,))\n",
    "        conn.commit()\n",
    "        answer = cur.fetchall()\n",
    "        \n",
    "    elif intent == \"prof_office_query_name\":\n",
    "        cur.execute(\"select office FROM PROF_INFO_TABLE where last_name =? COLLATE NOCASE\", (condition,))\n",
    "        conn.commit()\n",
    "        answer = cur.fetchall()\n",
    "        \n",
    "    elif intent == \"prof_research_area_query_name\":\n",
    "        cur.execute(\"SELECT research_area FROM PROF_RESEARCH_AREA_TABLE INNER JOIN PROF_INFO_TABLE on PROF_INFO_TABLE.prof_id = PROF_RESEARCH_AREA_TABLE.prof_id WHERE last_name = ? COLLATE NOCASE\", (condition,))\n",
    "        conn.commit()\n",
    "        answer = cur.fetchall()\n",
    "        \n",
    "    elif intent == \"prof_study_query_name\":\n",
    "        cur.execute(\"SELECT study FROM PROF_STUDY_TABLE INNER JOIN PROF_INFO_TABLE on PROF_INFO_TABLE.prof_id = PROF_STUDY_TABLE.prof_id WHERE last_name = ? COLLATE NOCASE\", (condition,))\n",
    "        conn.commit()\n",
    "        answer = cur.fetchall()\n",
    "        \n",
    "    \n",
    "    if intent in intent_generic_conversation:\n",
    "        answer = \"generic conversation no data retrieval necessary\"\n",
    "    \n",
    "    return answer"
   ]
  },
  {
   "cell_type": "markdown",
   "id": "3e07cb3f",
   "metadata": {
    "ExecuteTime": {
     "end_time": "2022-02-25T12:35:00.451260Z",
     "start_time": "2022-02-25T12:35:00.437022Z"
    }
   },
   "source": [
    "### 4.5. Response Generation"
   ]
  },
  {
   "cell_type": "markdown",
   "id": "b26ec1e5",
   "metadata": {},
   "source": [
    "Für die Generierung der Antworten des Chatbots werden vordefinierte Muster mit Platzhalter verwendet, die nur noch mit den extrahierten Informationen aus der Eingabe des Nutzers und aus der Datenbank befüllt werden. Hierfür wird zunächst eine json file eingelesen, die für jedes Intent verschiedene vordefinierte Antworten mit Platzhalter enthält. Bei der Ausgabe einer Antwort wird zufällig eine der Antworten gewählt, um zu verhindern, dass der Chatbot immer weider die gleiche Antwort liefert. So soll die Konversation natürlicher und menschlicher wirken. "
   ]
  },
  {
   "cell_type": "code",
   "execution_count": 93,
   "id": "3e412cc4",
   "metadata": {
    "ExecuteTime": {
     "end_time": "2022-03-04T17:56:19.707954Z",
     "start_time": "2022-03-04T17:56:19.700973Z"
    }
   },
   "outputs": [],
   "source": [
    "# open and load json file with responses and intents\n",
    "with open(\"responses.json\") as file:\n",
    "    data = json.load(file)"
   ]
  },
  {
   "cell_type": "code",
   "execution_count": 94,
   "id": "fe0d2835",
   "metadata": {
    "ExecuteTime": {
     "end_time": "2022-03-04T17:56:21.048138Z",
     "start_time": "2022-03-04T17:56:21.037160Z"
    }
   },
   "outputs": [],
   "source": [
    "# get the intent labels and the reponses from the file and save them in a dictionary\n",
    "tags = [] #all intents in the json file\n",
    "resp = []\n",
    "\n",
    "for response in data[\"responses\"]:\n",
    "\n",
    "    if response[\"tag\"] not in tags:\n",
    "        tags.append(response[\"tag\"])\n",
    "\n",
    "    if response[\"sentence\"] not in resp:\n",
    "        resp.append(response[\"sentence\"])\n",
    "        \n",
    "responses_dict = dict(zip(tags, resp))"
   ]
  },
  {
   "cell_type": "code",
   "execution_count": 117,
   "id": "b4a497d0",
   "metadata": {
    "ExecuteTime": {
     "end_time": "2022-03-04T18:07:24.922739Z",
     "start_time": "2022-03-04T18:07:24.881830Z"
    }
   },
   "outputs": [],
   "source": [
    "def reponse_generation(intent, answer, condition):\n",
    "    \n",
    "    if intent == \"greeting\":\n",
    "        responses = responses_dict[\"greeting\"]\n",
    "        final_response = random.choice(responses)\n",
    "    \n",
    "    elif intent == \"greeting_response\":\n",
    "        responses = responses_dict[\"greeting_response\"]\n",
    "        final_response = random.choice(responses)\n",
    "        \n",
    "    elif intent == \"courtesy_greeting\":\n",
    "        responses = responses_dict[\"courtesy_greeting\"]\n",
    "        final_response = random.choice(responses)\n",
    "        \n",
    "    elif intent == \"courtesy_greeting_response\":\n",
    "        responses = responses_dict[\"courtesy_greeting_response\"]\n",
    "        final_response = random.choice(responses)\n",
    "        \n",
    "    elif intent == \"real_name_query\":\n",
    "        responses = responses_dict[\"real_name_query\"]\n",
    "        final_response = random.choice(responses)\n",
    "        \n",
    "    elif intent == \"goodbye\":\n",
    "        responses = responses_dict[\"goodbye\"]\n",
    "        final_response = random.choice(responses)\n",
    "        \n",
    "    elif intent == \"task_response\":\n",
    "        responses = responses_dict[\"task_response\"]\n",
    "        final_response = random.choice(responses)     \n",
    "        \n",
    "    elif intent == \"prof_name_query_lastname\":\n",
    "        responses = responses_dict[\"prof_name_query_lastname\"]\n",
    "        response = random.choice(responses)\n",
    "        new_reponse = response.replace(\"_condition_\", condition) \n",
    "        final_response = new_reponse.replace(\"_answer_\", answer[0][0]) \n",
    "        \n",
    "        #response = \"The last name of \" + condition + \" is \" + answer[0][0]\n",
    "        \n",
    "    elif intent == \"prof_name_query_firstname\":\n",
    "        responses = responses_dict[\"prof_name_query_firstname\"]\n",
    "        response = random.choice(responses)\n",
    "        new_reponse = response.replace(\"_condition_\", condition) \n",
    "        final_response = new_reponse.replace(\"_answer_\", answer[0][0]) \n",
    "       \n",
    "        #final_response = \"The first name of \" + condition + \" is \" + answer[0][0]\n",
    "    \n",
    "    elif intent == \"prof_name_query_telephone\":\n",
    "        responses = responses_dict[\"prof_name_query_telephone\"]\n",
    "        response = random.choice(responses)\n",
    "        new_reponse = response.replace(\"_condition_\", condition[0]) \n",
    "        final_response = new_reponse.replace(\"_answer_\", answer[0][0] + \" \" + answer[0][1] + \" \" + answer[0][2]) \n",
    "        #\"The phone number \" + condition[0] + \" belongs to \" + answer[0][0] + \" \" + answer[0][1] + \" \" + answer[0]\n",
    "        \n",
    "    elif intent == \"prof_name_query_email\": \n",
    "        responses = responses_dict[\"prof_name_query_email\"]\n",
    "        response = random.choice(responses)\n",
    "        new_reponse = response.replace(\"_condition_\", condition[0]) \n",
    "        final_response = new_reponse.replace(\"_answer_\", answer[0][0] + \" \" + answer[0][1] + \" \" + answer[0][2])       \n",
    "        #final_response = \"The email \" + condition[0] + \" belongs to \" + answer[0][0] + \" \" + answer[0][1] + \" \" + answer[0][2]\n",
    "        \n",
    "    elif intent == \"prof_name_query_office\":\n",
    "        responses = responses_dict[\"prof_name_query_office\"]\n",
    "        response = random.choice(responses)\n",
    "        new_reponse = response.replace(\"_condition_\", condition[0]) \n",
    "        final_response = new_reponse.replace(\"_answer_\", answer[0][0] + \" \" + answer[0][1] + \" \" + answer[0][2])      \n",
    "        #final_response = \"The office \" + condition[0] + \" belongs to \" + answer[0][0] + \" \" + answer[0][1] + \" \" + answer[0][2]\n",
    "        \n",
    "    elif intent == \"prof_name_query_research_area\":\n",
    "        responses = responses_dict[\"prof_name_query_research_area\"]\n",
    "        response = random.choice(responses)\n",
    "        new_reponse = response.replace(\"_condition_\", condition) \n",
    "        final_response = new_reponse.replace(\"_answer_\", answer[0] + \" \" + answer[1] + \" \" + answer[2])  \n",
    "        #final_response = answer[0] + \" \" + answer[1] + \" \" + answer[2] +  \" is an expert in \"+ condition\n",
    "    \n",
    "    elif intent == \"prof_name_query_study\":\n",
    "        responses = responses_dict[\"prof_name_query_study\"]\n",
    "        response = random.choice(responses)\n",
    "        new_reponse = response.replace(\"_condition_\", condition) \n",
    "        final_response = new_reponse.replace(\"_answer_\", answer[0] + \" \" + answer[1] + \" \" + answer[2])  \n",
    "        #final_response = answer[0] + \" \" + answer[1] + \" \" + answer[2] + \" is a professor in \"+ condition\n",
    "        \n",
    "    elif intent == \"prof_telephone_query_name\":\n",
    "        responses = responses_dict[\"prof_telephone_query_name\"]\n",
    "        response = random.choice(responses)\n",
    "        new_reponse = response.replace(\"_condition_\", condition) \n",
    "        final_response = new_reponse.replace(\"_answer_\", answer[0][0])  \n",
    "        #final_response = \"The phone number of \" + condition + \" is \" + answer[0][0]\n",
    "    \n",
    "    elif intent == \"prof_email_query_name\":\n",
    "        responses = responses_dict[\"prof_email_query_name\"]\n",
    "        response = random.choice(responses)\n",
    "        new_reponse = response.replace(\"_condition_\", condition) \n",
    "        final_response = new_reponse.replace(\"_answer_\", answer[0][0])  \n",
    "        #final_response = \"The email of \" + condition + \" is \" + answer[0][0]\n",
    "        \n",
    "    elif intent == \"prof_office_query_name\":\n",
    "        responses = responses_dict[\"prof_office_query_name\"]\n",
    "        response = random.choice(responses)\n",
    "        new_reponse = response.replace(\"_condition_\", condition) \n",
    "        final_response = new_reponse.replace(\"_answer_\", answer[0][0])  \n",
    "        #final_response = \"The office of \" + condition + \" is \" + answer[0][0]\n",
    "        \n",
    "    elif intent == \"prof_research_area_query_name\":\n",
    "        new_answer = \"\"\n",
    "        for i in range(len(answer)):\n",
    "            new_answer += answer[i][0] + \", \"\n",
    "            \n",
    "        responses = responses_dict[\"prof_research_area_query_name\"]\n",
    "        response = random.choice(responses)\n",
    "        new_reponse = response.replace(\"_condition_\", condition) \n",
    "        final_response = new_reponse.replace(\"_answer_\", new_answer)  \n",
    "        #final_response = \"The research areas of \" + condition + \" are \" + new_answer\n",
    "        \n",
    "    elif intent == \"prof_study_query_name\":\n",
    "        new_answer = \"\"\n",
    "        for i in range(len(answer)):\n",
    "            new_answer += answer[i][0] + \", \"\n",
    "        \n",
    "        responses = responses_dict[\"prof_study_query_name\"]\n",
    "        response = random.choice(responses)\n",
    "        new_reponse = response.replace(\"_condition_\", condition) \n",
    "        final_response = new_reponse.replace(\"_answer_\", new_answer)  \n",
    "        \n",
    "        #final_response = \"The studies of \" + condition + \" are \" + new_answer\n",
    "        \n",
    "    return final_response"
   ]
  },
  {
   "cell_type": "code",
   "execution_count": 118,
   "id": "41ade47d",
   "metadata": {
    "ExecuteTime": {
     "end_time": "2022-03-04T18:07:25.907164Z",
     "start_time": "2022-03-04T18:07:25.888215Z"
    }
   },
   "outputs": [
    {
     "name": "stdout",
     "output_type": "stream",
     "text": [
      "greeting\n"
     ]
    }
   ],
   "source": [
    "results = model.predict([bag_of_words(\"hello\", words)])[0] #output is just a probability for each label\n",
    "results_index = numpy.argmax(results) #index of greatest value\n",
    "intent = labels[results_index] #output is the most probable label\n",
    "print(intent)"
   ]
  },
  {
   "cell_type": "markdown",
   "id": "92e6ec70",
   "metadata": {},
   "source": [
    "### 4.6. Testen der Action Execution Funktion"
   ]
  },
  {
   "cell_type": "code",
   "execution_count": 119,
   "id": "2d47ca86",
   "metadata": {
    "ExecuteTime": {
     "end_time": "2022-03-04T18:07:27.105104Z",
     "start_time": "2022-03-04T18:07:27.085160Z"
    }
   },
   "outputs": [],
   "source": [
    "def chat():\n",
    "    log = []\n",
    "    print(\"Start talking with me!(type quit to stop):\")\n",
    "    while True:\n",
    "        inp = input(\"You: \")\n",
    "        log.append(inp) #saves all input of user in list\n",
    "        if inp.lower() == \"quit\":\n",
    "            print(\"Goodbye :)\")\n",
    "            break\n",
    "        \n",
    "        # predict the intent\n",
    "        \n",
    "        try:\n",
    "            # predict the intent\n",
    "            results = model.predict([bag_of_words(inp, words)])[0] #output is just a probability for each label\n",
    "            results_index = numpy.argmax(results) #index of greatest value\n",
    "            intent = labels[results_index] #output is the most probable label\n",
    "            #print(intent)\n",
    "            \n",
    "            extracted_info = slot_filling(inp, intent)\n",
    "            #print(extracted_info)\n",
    "            \n",
    "            answer = action_execution_retrieval(intent, extracted_info)\n",
    "            \n",
    "            #print(answer)\n",
    "        \n",
    "            response = reponse_generation(intent, answer, extracted_info)\n",
    "            \n",
    "            \n",
    "            print(response)\n",
    "            \n",
    "        except:\n",
    "            print(\"intent not found\")\n",
    "        \n",
    "        \n",
    "                \n",
    "\n",
    "        \n",
    "       # print(\"condition-->\", extracted_info)\n",
    "        #print(\"answer from db-->\", answer)\n",
    "        \n",
    "\n",
    "\n",
    "    return log # returns list of the inputs"
   ]
  },
  {
   "cell_type": "code",
   "execution_count": 120,
   "id": "5e50fc9e",
   "metadata": {
    "ExecuteTime": {
     "end_time": "2022-03-04T18:16:46.457892Z",
     "start_time": "2022-03-04T18:07:27.856853Z"
    },
    "scrolled": false
   },
   "outputs": [
    {
     "name": "stdout",
     "output_type": "stream",
     "text": [
      "Start talking with me!(type quit to stop):\n",
      "You: hello\n",
      "Good Morning\n",
      "You: who is an expert in machine learning\n",
      "Prof. Dr.-Ing. Carsten Lanquillon should know a lot about machine learning\n",
      "You: who is an expert in datenökonomie\n",
      "intent not found\n",
      "You: who is an expert in machine learning\n",
      "machine learning is ome of the research areas of Prof. Dr.-Ing. Carsten Lanquillon\n",
      "You: who is an expert in machine learning\n",
      "machine learning is ome of the research areas of Prof. Dr.-Ing. Carsten Lanquillon\n",
      "You: who is an expert in machine learning\n",
      "machine learning is ome of the research areas of Prof. Dr.-Ing. Carsten Lanquillon\n",
      "You: who is an expert in machine learning\n",
      "machine learning is ome of the research areas of Prof. Dr.-Ing. Carsten Lanquillon\n",
      "You: who is an expert in machine learning\n",
      "machine learning is ome of the research areas of Prof. Dr.-Ing. Carsten Lanquillon\n",
      "You: who is an expert in machine learning\n",
      "Prof. Dr.-Ing. Carsten Lanquillon is doing research in machine learning\n",
      "You: who is an expert in data science\n",
      "Prof. Dr.-Ing. Carsten Lanquillon is doing research in data science\n",
      "You: who is an expert in softwarearchitekturen\n",
      "intent not found\n",
      "You: who is an expert in softwaretechnik\n",
      "softwaretechnik is ome of the research areas of Prof. Dr. Detlef Stern\n",
      "You: hello\n",
      "Whats up\n",
      "You: hello\n",
      "Good day\n",
      "You: im sebi\n",
      "Good day\n",
      "You: my name is sebi\n",
      "Cool. I am happy you are here\n",
      "You: my name is sebi\n",
      "Cool. I am happy you are here\n",
      "You: my name is sebi\n",
      "Nice to meet you\n",
      "You: my name is sebi\n",
      "Thats great. Nice to meet you\n",
      "You: my name is sebi\n",
      "Cool. I am happy you are here\n",
      "You: how are you\n",
      "I'm great. Thanks for asking. How are you?\n",
      "You: how are you\n",
      "I'm good. Thanks\n",
      "You: how are you\n",
      "I'm great. Thanks for asking. How are you?\n",
      "You: im good \n",
      "Hallo\n",
      "You: im good thank you\n",
      "Hi\n",
      "You: \n",
      "Hallo\n",
      "You: \n",
      "Hi\n",
      "You: what is your name\n",
      "I am KG-Bot\n",
      "You: \n",
      "Hi\n",
      "You: what is your name\n",
      "I am KG-Bot\n",
      "You: what is your name\n",
      "Thats a secret\n",
      "You: what is your name\n",
      "I am KG-Bot\n",
      "You: what is your name\n",
      "Thats a secret\n",
      "You: what is your name\n",
      "I am KG-Bot\n",
      "You: what is your name\n",
      "I am a chatbot. I don#t have a name\n",
      "You: goodbye\n",
      "cya\n",
      "You: goodbye\n",
      "Bye bye\n",
      "You: goodbye\n",
      "See you later\n",
      "You: what are you doing\n",
      "I can help you to find the right professor for you questions and problems\n",
      "You: what are you doing\n",
      "I can help you to find the right professor for you questions and problems\n",
      "You: what are you doing\n",
      "I know almost everything about the professors of HHN. Just ask me :)\n",
      "You: what are you doing\n",
      "I can help you to find the right professor for you questions and problems\n",
      "You: what is the last name of thomas\n",
      "The last name of Thomas is Schäffer\n",
      "You: what is the last name of thomas\n",
      "The last name is Schäffer\n",
      "You: what is the last name of thomas\n",
      "Schäffer is the last name of Thomas\n",
      "You: what is the first name of herr stern\n",
      "Detlef is the first name of Stern\n",
      "You: what is the first name of herr stern\n",
      "Detlef is the first name of Stern\n",
      "You: what is the first name of herr stern\n",
      "The full name is Stern Detlef\n",
      "You: who has this number +49 7131 504 477\n",
      "The phone number +49 7131 504 477 belongs to Prof. Dr. Sonja-Maria Salmen\n",
      "You: who has this number +49 7131 504 477\n",
      "The phone number +49 7131 504 477 belongs to Prof. Dr. Sonja-Maria Salmen\n",
      "You: who has this number +49 7131 504 477\n",
      "The phone number +49 7131 504 477 belongs to Prof. Dr. Sonja-Maria Salmen\n",
      "You: who has this number +49 7131 504 477\n",
      "+49 7131 504 477 is the number of Prof. Dr. Sonja-Maria Salmen\n",
      "You: who has this number +49 7131 504 477\n",
      "It is the number of Prof. Dr. Sonja-Maria Salmen\n",
      "You: who has this number +49 7131 504 477\n",
      "It is the number of Prof. Dr. Sonja-Maria Salmen\n",
      "You: who has this email detlef.stern@hs-heilbronn.de\n",
      "It is the email of Prof. Dr. Detlef Stern\n",
      "You: who has this email detlef.stern@hs-heilbronn.de\n",
      "detlef.stern@hs-heilbronn.de is the email of Prof. Dr. Detlef Stern\n",
      "You: who sits in S.3.46\n",
      "S.3.46 sits in Dipl.-Inf. Thomas Schäffer\n",
      "You: who sits in S.3.46\n",
      "S.3.46 is the office of Dipl.-Inf. Thomas Schäffer\n",
      "You: who sits in S.3.46\n",
      "It is the office of Dipl.-Inf. Thomas Schäffer\n",
      "You: who is an expert in machine learning\n",
      "Prof. Dr.-Ing. Carsten Lanquillon is an expert in machine learning\n",
      "You: who is an expert in machine learning\n",
      "Prof. Dr.-Ing. Carsten Lanquillon is doing research in machine learning\n",
      "You: who is an expert in machine learning\n",
      "Prof. Dr.-Ing. Carsten Lanquillon should know a lot about machine learning\n",
      "You: who is an expert in machine learning\n",
      "Prof. Dr.-Ing. Carsten Lanquillon is an expert in machine learning\n",
      "You: who is in wirtschaftinformatik\n",
      "intent not found\n",
      "You: who is an professor in wirtschaftsinformatik\n",
      "One of the professors in wirtschaftsinformatik is Prof. Dr.-Ing. Carsten Lanquillon\n",
      "You: who is an professor in wirtschaftsinformatik\n",
      "One of the professors in wirtschaftsinformatik is Prof. Dr.-Ing. Carsten Lanquillon\n",
      "You: who is an professor in wirtschaftsinformatik\n",
      "Prof. Dr.-Ing. Carsten Lanquillon is a professor in wirtschaftsinformatik\n",
      "You: who is an professor in wirtschaftsinformatik\n",
      "Prof. Dr.-Ing. Carsten Lanquillon is teaching some courses in wirtschaftsinformatik\n",
      "You: what is the phone number of herr beckmann\n",
      "Here is the phone number of Beckmann : +49 7131 504 514\n",
      "You: what is the phone number of herr beckmann\n",
      "Here is the phone number of Beckmann : +49 7131 504 514\n",
      "You: what is the phone number of herr beckmann\n",
      "The number of Beckmann is +49 7131 504 514\n",
      "You: what is the phone number of herr beckmann\n",
      "+49 7131 504 514 is the number of Beckmann\n",
      "You: what is the email of herr beckmann\n",
      "helmut.beckmann@hs-heilbronn.de is the email of Beckmann\n",
      "You: what is the email of herr beckmann\n",
      "helmut.beckmann@hs-heilbronn.de is the email of Beckmann\n",
      "You: what is the email of herr beckmann\n",
      "helmut.beckmann@hs-heilbronn.de is the email of Beckmann\n",
      "You: what is the email of herr beckmann\n",
      "helmut.beckmann@hs-heilbronn.de is the email of Beckmann\n",
      "You: what is the email of herr beckmann\n",
      "helmut.beckmann@hs-heilbronn.de is the email of Beckmann\n",
      "You: what is the email of herr beckmann\n",
      "Here is the email address of Beckmann : helmut.beckmann@hs-heilbronn.de\n",
      "You: what is the office number of herr beckmann\n",
      "Beckmann is doing research in \n",
      "You: what is the office number of herr beckmann\n",
      "Here are the reaerch areas of Beckmann : \n",
      "You: what is the office number of herr beckmann\n",
      "The research areas of Beckmann are \n",
      "You: what is the office of herr beckmann\n",
      "Beckmann is doing research in \n",
      "You: what is the office of herr beckmann\n",
      "The research areas of Beckmann are \n",
      "You: what is the office of herr beckmann\n",
      " are the reseach areas of Beckmann\n",
      "You: what is the office of herr beckmann\n",
      "Here are the reaerch areas of Beckmann : \n",
      "You: where is the office of herr backmann\n",
      "Here are the reaerch areas of Beckmann : \n",
      "You: where is the office of herr backmann\n",
      "Beckmann is doing research in \n",
      "You: where is the office of herr backmann\n",
      " are the reseach areas of Beckmann\n",
      "You: where is the office of herr backmann\n",
      "Here are the reaerch areas of Beckmann : \n",
      "You: office of herr stern\n",
      "intent not found\n",
      "You: office of herr stern\n",
      "intent not found\n",
      "You: office of herr stern\n",
      "intent not found\n",
      "You: where is the office of herr stern\n",
      "Agile Methoden, Computer Supported Cooperative Work, Projektmanagement, Softwarearchitektur, Softwaretechnik, Verteilte / dezentrale Kollaboration, Wirtschaftsinformatik ,  are the reseach areas of Stern\n",
      "You: where is the office of herr stern\n",
      "Here are the reaerch areas of Stern : Agile Methoden, Computer Supported Cooperative Work, Projektmanagement, Softwarearchitektur, Softwaretechnik, Verteilte / dezentrale Kollaboration, Wirtschaftsinformatik , \n",
      "You: where is the office of herr stern\n",
      "The research areas of Stern are Agile Methoden, Computer Supported Cooperative Work, Projektmanagement, Softwarearchitektur, Softwaretechnik, Verteilte / dezentrale Kollaboration, Wirtschaftsinformatik , \n",
      "You: what is the office number of herr beckamnn\n",
      " are the reseach areas of Beckmann\n",
      "You: where is the office of herr stern\n",
      "The research areas of Stern are Agile Methoden, Computer Supported Cooperative Work, Projektmanagement, Softwarearchitektur, Softwaretechnik, Verteilte / dezentrale Kollaboration, Wirtschaftsinformatik , \n",
      "You: where is the office of herr stern\n",
      "Here are the reaerch areas of Stern : Agile Methoden, Computer Supported Cooperative Work, Projektmanagement, Softwarearchitektur, Softwaretechnik, Verteilte / dezentrale Kollaboration, Wirtschaftsinformatik , \n"
     ]
    },
    {
     "name": "stdout",
     "output_type": "stream",
     "text": [
      "You: where is the office of herr stern\n",
      "The research areas of Stern are Agile Methoden, Computer Supported Cooperative Work, Projektmanagement, Softwarearchitektur, Softwaretechnik, Verteilte / dezentrale Kollaboration, Wirtschaftsinformatik , \n",
      "You: what is the office numbr of herr stern \n",
      "Agile Methoden, Computer Supported Cooperative Work, Projektmanagement, Softwarearchitektur, Softwaretechnik, Verteilte / dezentrale Kollaboration, Wirtschaftsinformatik ,  are the reseach areas of Stern\n",
      "You: what is the office numbr of herr stern \n",
      "Here are the reaerch areas of Stern : Agile Methoden, Computer Supported Cooperative Work, Projektmanagement, Softwarearchitektur, Softwaretechnik, Verteilte / dezentrale Kollaboration, Wirtschaftsinformatik , \n",
      "You: what is the office numbr of herr stern \n",
      "The research areas of Stern are Agile Methoden, Computer Supported Cooperative Work, Projektmanagement, Softwarearchitektur, Softwaretechnik, Verteilte / dezentrale Kollaboration, Wirtschaftsinformatik , \n",
      "You: what is the office numbr of herr stern \n",
      "Stern is doing research in Agile Methoden, Computer Supported Cooperative Work, Projektmanagement, Softwarearchitektur, Softwaretechnik, Verteilte / dezentrale Kollaboration, Wirtschaftsinformatik , \n",
      "You: what are the research areas of herr lanquillon\n",
      "Here are the reaerch areas of Lanquillon : Big Data, Big Data Analytics, Business Intelligence, Business Intelligence, Data Mining, Data Science, Data Science, Knowledge Graphs, Künstliche Intelligenz, Machine Learning, Machine Learning, Natural Language Processing, Text Mining, \n",
      "You: what are the research areas of herr lanquillon\n",
      "Lanquillon is doing research in Big Data, Big Data Analytics, Business Intelligence, Business Intelligence, Data Mining, Data Science, Data Science, Knowledge Graphs, Künstliche Intelligenz, Machine Learning, Machine Learning, Natural Language Processing, Text Mining, \n",
      "You: what are the research areas of herr lanquillon\n",
      "Here are the reaerch areas of Lanquillon : Big Data, Big Data Analytics, Business Intelligence, Business Intelligence, Data Mining, Data Science, Data Science, Knowledge Graphs, Künstliche Intelligenz, Machine Learning, Machine Learning, Natural Language Processing, Text Mining, \n",
      "You: what are the studies of herr lanquillon\n",
      "The studies of Lanquillon are Wirtschaftsinformatik, \n",
      "You: what are the studies of herr lanquillon\n",
      "The studies of Lanquillon are Wirtschaftsinformatik, \n",
      "You: what are the studies of herr stern\n",
      "The studies of Stern are Wirtschaft und Verkehr, Wirtschaftsinformatik, Wirtschaftsinformatik - Digitale Transformation, berufsbegleitend, Wirtschaftsinformatik - Informationsmanagement und Data Science, \n",
      "You: what are the studies of herr stern\n",
      "Here are the studies of Stern : Wirtschaft und Verkehr, Wirtschaftsinformatik, Wirtschaftsinformatik - Digitale Transformation, berufsbegleitend, Wirtschaftsinformatik - Informationsmanagement und Data Science, \n",
      "You: quit\n",
      "Goodbye :)\n"
     ]
    },
    {
     "data": {
      "text/plain": [
       "['hello',\n",
       " 'who is an expert in machine learning',\n",
       " 'who is an expert in datenökonomie',\n",
       " 'who is an expert in machine learning',\n",
       " 'who is an expert in machine learning',\n",
       " 'who is an expert in machine learning',\n",
       " 'who is an expert in machine learning',\n",
       " 'who is an expert in machine learning',\n",
       " 'who is an expert in machine learning',\n",
       " 'who is an expert in data science',\n",
       " 'who is an expert in softwarearchitekturen',\n",
       " 'who is an expert in softwaretechnik',\n",
       " 'hello',\n",
       " 'hello',\n",
       " 'im sebi',\n",
       " 'my name is sebi',\n",
       " 'my name is sebi',\n",
       " 'my name is sebi',\n",
       " 'my name is sebi',\n",
       " 'my name is sebi',\n",
       " 'how are you',\n",
       " 'how are you',\n",
       " 'how are you',\n",
       " 'im good ',\n",
       " 'im good thank you',\n",
       " '',\n",
       " '',\n",
       " 'what is your name',\n",
       " '',\n",
       " 'what is your name',\n",
       " 'what is your name',\n",
       " 'what is your name',\n",
       " 'what is your name',\n",
       " 'what is your name',\n",
       " 'what is your name',\n",
       " 'goodbye',\n",
       " 'goodbye',\n",
       " 'goodbye',\n",
       " 'what are you doing',\n",
       " 'what are you doing',\n",
       " 'what are you doing',\n",
       " 'what are you doing',\n",
       " 'what is the last name of thomas',\n",
       " 'what is the last name of thomas',\n",
       " 'what is the last name of thomas',\n",
       " 'what is the first name of herr stern',\n",
       " 'what is the first name of herr stern',\n",
       " 'what is the first name of herr stern',\n",
       " 'who has this number +49 7131 504 477',\n",
       " 'who has this number +49 7131 504 477',\n",
       " 'who has this number +49 7131 504 477',\n",
       " 'who has this number +49 7131 504 477',\n",
       " 'who has this number +49 7131 504 477',\n",
       " 'who has this number +49 7131 504 477',\n",
       " 'who has this email detlef.stern@hs-heilbronn.de',\n",
       " 'who has this email detlef.stern@hs-heilbronn.de',\n",
       " 'who sits in S.3.46',\n",
       " 'who sits in S.3.46',\n",
       " 'who sits in S.3.46',\n",
       " 'who is an expert in machine learning',\n",
       " 'who is an expert in machine learning',\n",
       " 'who is an expert in machine learning',\n",
       " 'who is an expert in machine learning',\n",
       " 'who is in wirtschaftinformatik',\n",
       " 'who is an professor in wirtschaftsinformatik',\n",
       " 'who is an professor in wirtschaftsinformatik',\n",
       " 'who is an professor in wirtschaftsinformatik',\n",
       " 'who is an professor in wirtschaftsinformatik',\n",
       " 'what is the phone number of herr beckmann',\n",
       " 'what is the phone number of herr beckmann',\n",
       " 'what is the phone number of herr beckmann',\n",
       " 'what is the phone number of herr beckmann',\n",
       " 'what is the email of herr beckmann',\n",
       " 'what is the email of herr beckmann',\n",
       " 'what is the email of herr beckmann',\n",
       " 'what is the email of herr beckmann',\n",
       " 'what is the email of herr beckmann',\n",
       " 'what is the email of herr beckmann',\n",
       " 'what is the office number of herr beckmann',\n",
       " 'what is the office number of herr beckmann',\n",
       " 'what is the office number of herr beckmann',\n",
       " 'what is the office of herr beckmann',\n",
       " 'what is the office of herr beckmann',\n",
       " 'what is the office of herr beckmann',\n",
       " 'what is the office of herr beckmann',\n",
       " 'where is the office of herr backmann',\n",
       " 'where is the office of herr backmann',\n",
       " 'where is the office of herr backmann',\n",
       " 'where is the office of herr backmann',\n",
       " 'office of herr stern',\n",
       " 'office of herr stern',\n",
       " 'office of herr stern',\n",
       " 'where is the office of herr stern',\n",
       " 'where is the office of herr stern',\n",
       " 'where is the office of herr stern',\n",
       " 'what is the office number of herr beckamnn',\n",
       " 'where is the office of herr stern',\n",
       " 'where is the office of herr stern',\n",
       " 'where is the office of herr stern',\n",
       " 'what is the office numbr of herr stern ',\n",
       " 'what is the office numbr of herr stern ',\n",
       " 'what is the office numbr of herr stern ',\n",
       " 'what is the office numbr of herr stern ',\n",
       " 'what are the research areas of herr lanquillon',\n",
       " 'what are the research areas of herr lanquillon',\n",
       " 'what are the research areas of herr lanquillon',\n",
       " 'what are the studies of herr lanquillon',\n",
       " 'what are the studies of herr lanquillon',\n",
       " 'what are the studies of herr stern',\n",
       " 'what are the studies of herr stern',\n",
       " 'quit']"
      ]
     },
     "execution_count": 120,
     "metadata": {},
     "output_type": "execute_result"
    }
   ],
   "source": [
    "chat()"
   ]
  },
  {
   "cell_type": "code",
   "execution_count": null,
   "id": "4436f385",
   "metadata": {},
   "outputs": [],
   "source": []
  }
 ],
 "metadata": {
  "kernelspec": {
   "display_name": "prototype",
   "language": "python",
   "name": "prototype"
  },
  "language_info": {
   "codemirror_mode": {
    "name": "ipython",
    "version": 3
   },
   "file_extension": ".py",
   "mimetype": "text/x-python",
   "name": "python",
   "nbconvert_exporter": "python",
   "pygments_lexer": "ipython3",
   "version": "3.6.13"
  },
  "toc": {
   "base_numbering": 1,
   "nav_menu": {},
   "number_sections": true,
   "sideBar": true,
   "skip_h1_title": false,
   "title_cell": "Table of Contents",
   "title_sidebar": "Contents",
   "toc_cell": false,
   "toc_position": {},
   "toc_section_display": true,
   "toc_window_display": false
  }
 },
 "nbformat": 4,
 "nbformat_minor": 5
}
