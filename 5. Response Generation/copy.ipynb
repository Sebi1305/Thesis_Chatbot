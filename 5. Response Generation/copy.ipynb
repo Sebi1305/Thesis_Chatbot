{
 "cells": [
  {
   "cell_type": "markdown",
   "id": "813167cd",
   "metadata": {
    "ExecuteTime": {
     "end_time": "2022-02-27T15:50:22.400703Z",
     "start_time": "2022-02-27T15:50:22.385742Z"
    }
   },
   "source": [
    "<img src='../images/bildungscampus_logo.png' width=\"40%\" align=\"left\" />\n",
    "<img src='../images/hhn.png' width=\"25%\" align=\"right\" />"
   ]
  },
  {
   "cell_type": "markdown",
   "id": "16151811",
   "metadata": {},
   "source": [
    "# Schritt 5: Response Generation\n",
    "Masterarbeit - Sebastian Kahlert | Fakultät Wirtschaft und Verkehr | Wirtschaftsinformatik - Informationsmanagement und Data Science | WS 2021/22\n",
    "\n",
    "<img src='../images/bar.png'/>\n",
    "\n",
    "## Generierung der Antworten für den Benutzer"
   ]
  },
  {
   "cell_type": "markdown",
   "id": "bc3be9fe",
   "metadata": {},
   "source": [
    "Hier wird eine neue Funktion implementiert, die den Output aus der Action Execution nimmt und daraus eine Antwort für den Nutzer generiert. Die Antworten sind vordefinierte Muster mit Platzhalter die befüllt werden müssen."
   ]
  },
  {
   "cell_type": "markdown",
   "id": "e26fd30c",
   "metadata": {},
   "source": [
    "### 5.1. Import benötigter Bibliotheken"
   ]
  },
  {
   "cell_type": "code",
   "execution_count": 1,
   "id": "a41749ce",
   "metadata": {
    "ExecuteTime": {
     "end_time": "2022-03-06T14:48:09.432671Z",
     "start_time": "2022-03-06T14:48:05.539453Z"
    }
   },
   "outputs": [
    {
     "name": "stdout",
     "output_type": "stream",
     "text": [
      "WARNING:tensorflow:From C:\\Users\\Sebi\\anaconda3\\envs\\prototype\\lib\\site-packages\\tensorflow\\python\\compat\\v2_compat.py:101: disable_resource_variables (from tensorflow.python.ops.variable_scope) is deprecated and will be removed in a future version.\n",
      "Instructions for updating:\n",
      "non-resource variables are not supported in the long term\n",
      "curses is not supported on this machine (please install/reinstall curses for an optimal experience)\n",
      "Scipy not supported!\n"
     ]
    }
   ],
   "source": [
    "# import of necessary libraries\n",
    "import nltk \n",
    "from nltk.stem.lancaster import LancasterStemmer\n",
    "stemmer = LancasterStemmer()\n",
    "\n",
    "import datefinder\n",
    "import numpy\n",
    "import tflearn \n",
    "import tensorflow\n",
    "import random \n",
    "import json\n",
    "import pickle\n",
    "import spacy\n",
    "import sqlite3\n",
    "import re\n",
    "import os\n",
    "import sqlite3\n",
    "from difflib import SequenceMatcher\n",
    "import random"
   ]
  },
  {
   "cell_type": "markdown",
   "id": "8ef8a684",
   "metadata": {},
   "source": [
    "### 4.2. Intent Classification"
   ]
  },
  {
   "cell_type": "markdown",
   "id": "18556fd2",
   "metadata": {},
   "source": [
    "Das Neuronale Netzwerk wurde zuvor in einem separaten Notebook erstellt, trainert und gespeichert. Der folgende Code versucht das gespeciherte Neuronale Netzwerk zu laden. Falls dies nicht möglich sein sollte wird ein neues Neuronales Netzwerk erstellt und trainiert. Hierzu werden die Trainingsdaten \"data.pickle\" geladen und die Layer des Netztes definiert."
   ]
  },
  {
   "cell_type": "code",
   "execution_count": 2,
   "id": "cba1d458",
   "metadata": {
    "ExecuteTime": {
     "end_time": "2022-03-06T14:48:09.448270Z",
     "start_time": "2022-03-06T14:48:09.432671Z"
    }
   },
   "outputs": [],
   "source": [
    "# open training data for neural net\n",
    "with open(\"../2. Intent Classififcation/data.pickle\", \"rb\") as f:\n",
    "    words, labels, training, output = pickle.load(f)"
   ]
  },
  {
   "cell_type": "code",
   "execution_count": 3,
   "id": "bcf2b8bb",
   "metadata": {
    "ExecuteTime": {
     "end_time": "2022-03-06T14:48:09.942453Z",
     "start_time": "2022-03-06T14:48:09.452256Z"
    }
   },
   "outputs": [
    {
     "name": "stdout",
     "output_type": "stream",
     "text": [
      "WARNING:tensorflow:From C:\\Users\\Sebi\\anaconda3\\envs\\prototype\\lib\\site-packages\\tflearn\\initializations.py:165: calling TruncatedNormal.__init__ (from tensorflow.python.ops.init_ops) with dtype is deprecated and will be removed in a future version.\n",
      "Instructions for updating:\n",
      "Call initializer instance with the dtype argument instead of passing it to the constructor\n",
      "INFO:tensorflow:Restoring parameters from C:\\Users\\Sebi\\OneDrive\\Studium\\Thesis_Chatbot\\2. Intent Classififcation\\model.tflearn\n"
     ]
    }
   ],
   "source": [
    "# open saved model or implement new one if model does not exist yet\n",
    "tensorflow.compat.v1.reset_default_graph()\n",
    "    \n",
    "# Creating the Neural Network\n",
    "net = tflearn.input_data(shape= [None, len(training[0])]) #input layer Neurons = numer of words in training\n",
    "net = tflearn.fully_connected(net, 8) #hidden layer fully connected with 8 neuron\n",
    "net = tflearn.fully_connected(net, len(output[0]), activation=\"softmax\" ) #output layer 6 Neurons = labels\n",
    "net = tflearn.regression(net)\n",
    "\n",
    "model = tflearn.DNN(net)\n",
    "\n",
    "try:\n",
    "    model.load(r\"..\\2. Intent Classififcation\\model.tflearn\")\n",
    "except:\n",
    "    model.fit(training, output, n_epoch=1000, batch_size=8, show_metric=True)\n",
    "    model.save(r\"..\\2. Intent Classififcation\\model.tflearn\")"
   ]
  },
  {
   "cell_type": "code",
   "execution_count": 4,
   "id": "611c102e",
   "metadata": {
    "ExecuteTime": {
     "end_time": "2022-03-06T14:48:09.957373Z",
     "start_time": "2022-03-06T14:48:09.944449Z"
    }
   },
   "outputs": [
    {
     "data": {
      "text/plain": [
       "<tflearn.models.dnn.DNN at 0x1e19108c5c0>"
      ]
     },
     "execution_count": 4,
     "metadata": {},
     "output_type": "execute_result"
    }
   ],
   "source": [
    "model"
   ]
  },
  {
   "cell_type": "code",
   "execution_count": 5,
   "id": "2ec67aa3",
   "metadata": {
    "ExecuteTime": {
     "end_time": "2022-03-06T14:48:09.988290Z",
     "start_time": "2022-03-06T14:48:09.960366Z"
    }
   },
   "outputs": [],
   "source": [
    "# transform input in numbers to make it readable for neural net\n",
    "def bag_of_words(s, words):\n",
    "    bag = [0 for _ in range(len(words))]\n",
    "    \n",
    "    s_words = nltk.word_tokenize(s)\n",
    "    s_words = [stemmer.stem(word.lower()) for word in s_words]\n",
    "    \n",
    "    for se in s_words:\n",
    "        for i, w in enumerate(words):\n",
    "            if w == se:\n",
    "                bag[i] = 1\n",
    "    \n",
    "    return numpy.array(bag)"
   ]
  },
  {
   "cell_type": "markdown",
   "id": "438f3588",
   "metadata": {},
   "source": [
    "### 4.3. Slot Filling"
   ]
  },
  {
   "cell_type": "markdown",
   "id": "8bd5cb81",
   "metadata": {
    "ExecuteTime": {
     "end_time": "2022-02-20T14:48:04.044028Z",
     "start_time": "2022-02-20T14:48:04.027074Z"
    }
   },
   "source": [
    "Für die Extraktion der verschiedenen Zusatzinformationen müssen unteranderem bereits bekannte Namen aus der Datenbank extrahiert werden und in Listen gespeichert werden. Eine Funktion gleicht den Input des Benutzers mit den Namen ab, um zu prüfen ob der vom Benutzer genannte Professor bekannt ist oder nicht. Zusätzlich werden zuvor trainerte Custom NER Modelle geladen und die Slot Filling definiert."
   ]
  },
  {
   "cell_type": "markdown",
   "id": "336c4d6c",
   "metadata": {
    "ExecuteTime": {
     "end_time": "2022-02-27T15:53:07.050380Z",
     "start_time": "2022-02-27T15:53:07.032390Z"
    }
   },
   "source": [
    "#### 4.3.1. Vornamen"
   ]
  },
  {
   "cell_type": "code",
   "execution_count": 6,
   "id": "099c0392",
   "metadata": {
    "ExecuteTime": {
     "end_time": "2022-03-06T14:48:10.003730Z",
     "start_time": "2022-03-06T14:48:09.994169Z"
    }
   },
   "outputs": [],
   "source": [
    "# get first names from database\n",
    "conn = sqlite3.connect(\"../PROF_INFO_DB.db\")\n",
    "cur = conn.cursor()\n",
    "cur.execute(\"select first_name FROM PROF_INFO_TABLE\")\n",
    "conn.commit()\n",
    "first_names = cur.fetchall()\n",
    "conn.close()\n",
    "\n",
    "#first_names"
   ]
  },
  {
   "cell_type": "code",
   "execution_count": 7,
   "id": "3d774eb1",
   "metadata": {
    "ExecuteTime": {
     "end_time": "2022-03-06T14:48:10.019200Z",
     "start_time": "2022-03-06T14:48:10.006235Z"
    }
   },
   "outputs": [],
   "source": [
    "# store first names in list\n",
    "first_names_list = []\n",
    "for i in range(len(first_names)):\n",
    "    answer = \" \".join(first_names[i])\n",
    "    answer.strip()\n",
    "    first_names_list.append(answer)\n",
    "\n",
    "#first_names_list"
   ]
  },
  {
   "cell_type": "markdown",
   "id": "ec3d1e62",
   "metadata": {},
   "source": [
    "#### 4.3.2. Nachnamen"
   ]
  },
  {
   "cell_type": "code",
   "execution_count": 8,
   "id": "d50161ce",
   "metadata": {
    "ExecuteTime": {
     "end_time": "2022-03-06T14:48:10.035162Z",
     "start_time": "2022-03-06T14:48:10.024187Z"
    }
   },
   "outputs": [],
   "source": [
    "# get last names from database\n",
    "conn = sqlite3.connect(\"../PROF_INFO_DB.db\")\n",
    "cur = conn.cursor()\n",
    "cur.execute(\"select last_name FROM PROF_INFO_TABLE\")\n",
    "conn.commit()\n",
    "last_names = cur.fetchall()\n",
    "conn.close()\n",
    "\n",
    "#last_names"
   ]
  },
  {
   "cell_type": "code",
   "execution_count": 9,
   "id": "20b5ec84",
   "metadata": {
    "ExecuteTime": {
     "end_time": "2022-03-06T14:48:10.051113Z",
     "start_time": "2022-03-06T14:48:10.038149Z"
    }
   },
   "outputs": [],
   "source": [
    "# store last names in list\n",
    "last_names_list = []\n",
    "for i in range(len(last_names)):\n",
    "    answer = \" \".join(last_names[i])\n",
    "    answer.strip()\n",
    "    last_names_list.append(answer)\n",
    "\n",
    "#last_names_list"
   ]
  },
  {
   "cell_type": "markdown",
   "id": "e8fdfd88",
   "metadata": {},
   "source": [
    "#### 4.3.3. Forschungsschwerpunkte und Studiengänge"
   ]
  },
  {
   "cell_type": "code",
   "execution_count": 10,
   "id": "6f548b49",
   "metadata": {
    "ExecuteTime": {
     "end_time": "2022-03-06T14:48:34.591802Z",
     "start_time": "2022-03-06T14:48:10.053110Z"
    }
   },
   "outputs": [],
   "source": [
    "#load the custom NER models\n",
    "nlp_research_area = spacy.load(r\"../3. Slot Filling/custom_ner_model_research_area\")\n",
    "nlp_study = spacy.load(r\"../3. Slot Filling/custom_ner_model_study\")"
   ]
  },
  {
   "cell_type": "markdown",
   "id": "f39dd50d",
   "metadata": {
    "ExecuteTime": {
     "end_time": "2022-02-27T15:53:37.782213Z",
     "start_time": "2022-02-27T15:53:37.777226Z"
    }
   },
   "source": [
    "#### 4.3.4. Slot Filling Funktion"
   ]
  },
  {
   "cell_type": "code",
   "execution_count": 11,
   "id": "58329dfd",
   "metadata": {
    "ExecuteTime": {
     "end_time": "2022-03-06T14:48:34.622580Z",
     "start_time": "2022-03-06T14:48:34.594204Z"
    }
   },
   "outputs": [],
   "source": [
    "def slot_filling(inp, intent):\n",
    "    # liste with intents that need information\n",
    "    intent_prof_contact=[\"prof_telephone_query_name\", \"prof_email_query_name\", \"prof_office_query_name\", \"prof_research_area_query_name\", \"prof_study_query_name\"]\n",
    "    intent_generic_conversation=[\"greeting\",\"greeting_response\",\"courtesy_greeting\",\"courtesy_greeting_response\",\"real_name_query\", \"goodbye\",\"task_response\"]\n",
    "        \n",
    "    if intent == \"prof_name_query_telephone\":\n",
    "        re_number_1 = r\"\\D[\\d]{2}? [\\d]{4} [\\d]{3} [\\d]{4}\"\n",
    "        re_number_2 = r\"\\D[\\d]{2}? [\\d]{4} [\\d]{3} [\\d]{3}\"\n",
    "        re_number_3 = r\"\\D[\\d]{2} [\\(][\\d]{1}[\\)] [\\d]{4} [\\d]{3} [\\d]{4}\"\n",
    "        extracted_info = re.compile(\"(%s|%s|%s)\" % (re_number_1, re_number_2, re_number_3)).findall(inp) \n",
    "\n",
    "    elif intent == \"prof_name_query_email\":\n",
    "        extracted_info = re.findall('\\S+@\\S+', inp)\n",
    "\n",
    "    elif intent == \"prof_name_query_office\":\n",
    "        re_office_1 = r\"[A-Z, a-z].\\d{1}.\\d{2}\"\n",
    "        re_office_2 = r\"[A-Z, a-z].\\d{3}\"\n",
    "        extracted_info = re.compile(\"(%s|%s)\" % (re_office_1, re_office_2)).findall(inp)\n",
    "\n",
    "    elif intent == \"prof_name_query_research_area\":\n",
    "        doc = nlp_research_area(inp)\n",
    "        for ent in doc.ents:\n",
    "            if ent.label_ == \"RESEARCH_AREA\":\n",
    "                extracted_info = ent.text    \n",
    "\n",
    "    elif intent == \"prof_name_query_study\":\n",
    "        doc = nlp_study(inp)\n",
    "        for ent in doc.ents:\n",
    "            if ent.label_ == \"STUDY\":\n",
    "                extracted_info = ent.text  \n",
    "\n",
    "    elif intent == \"prof_name_query_lastname\":\n",
    "        for first_name in first_names_list:\n",
    "            for word in inp.split():\n",
    "                if SequenceMatcher(None, first_name, word).ratio() >= 0.7:\n",
    "                    extracted_info = first_name\n",
    "\n",
    "    elif intent == \"prof_name_query_firstname\":\n",
    "        for last_name in last_names_list:\n",
    "            for word in inp.split():\n",
    "                if SequenceMatcher(None, last_name, word).ratio() >= 0.7:\n",
    "                    extracted_info = last_name\n",
    "\n",
    "    elif intent in intent_prof_contact:\n",
    "        for last_name in last_names_list:\n",
    "            for word in inp.split():\n",
    "                if SequenceMatcher(None, last_name, word).ratio() >= 0.7:\n",
    "                    extracted_info = last_name\n",
    "\n",
    "    elif intent in intent_generic_conversation:\n",
    "        extracted_info = \"generic intent no need for info extraction\"\n",
    "\n",
    "    else:\n",
    "        extracted_info = \"nobody/ nothing\"\n",
    "    \n",
    "    return extracted_info"
   ]
  },
  {
   "cell_type": "code",
   "execution_count": null,
   "id": "19a06693",
   "metadata": {
    "ExecuteTime": {
     "end_time": "2022-03-04T17:34:59.564343Z",
     "start_time": "2022-03-04T17:34:59.550228Z"
    }
   },
   "outputs": [],
   "source": []
  },
  {
   "cell_type": "markdown",
   "id": "60938a66",
   "metadata": {
    "ExecuteTime": {
     "end_time": "2022-02-24T16:46:42.650308Z",
     "start_time": "2022-02-24T16:46:42.642329Z"
    }
   },
   "source": [
    "###  4.4. Action Execution "
   ]
  },
  {
   "cell_type": "markdown",
   "id": "024a79c5",
   "metadata": {},
   "source": [
    "Je nach intent wird ein vordefiniertes SQL-Query mit Platzhalter ausgeführt. Zuvor müssen die Platzhalter mit den extrahierten Informationen aus dem Slot Filling befüllt werden. Output ist die Information aus der Datenbank"
   ]
  },
  {
   "cell_type": "code",
   "execution_count": 12,
   "id": "c3217bda",
   "metadata": {
    "ExecuteTime": {
     "end_time": "2022-03-06T14:48:34.653848Z",
     "start_time": "2022-03-06T14:48:34.625040Z"
    }
   },
   "outputs": [],
   "source": [
    "def action_execution_retrieval(intent, condition = str):\n",
    "    # liste with intents that need information\n",
    "    intent_generic_conversation=[\"greeting\",\"greeting_response\",\"courtesy_greeting\",\"courtesy_greeting_response\",\"real_name_query\", \"goodbye\",\"task_response\"]\n",
    "\n",
    "    \n",
    "    #connect to database\n",
    "    conn = sqlite3.connect(\"../PROF_INFO_DB.db\")\n",
    "    cur = conn.cursor()\n",
    "    \n",
    "    #TELEPHONE\n",
    "    if intent == \"prof_name_query_telephone\":\n",
    "        cur.execute(\"select title, first_name, last_name FROM PROF_INFO_TABLE where telephone = ? COLLATE NOCASE\", (condition[0],))\n",
    "        conn.commit()\n",
    "        answer = cur.fetchall()\n",
    "\n",
    "    elif intent == \"prof_name_query_email\": \n",
    "        cur.execute(\"select title, first_name, last_name FROM PROF_INFO_TABLE where email = ? COLLATE NOCASE\", (condition[0],))\n",
    "        conn.commit()\n",
    "        answer = cur.fetchall()\n",
    "        \n",
    "    elif intent == \"prof_name_query_office\":\n",
    "        cur.execute(\"select title, first_name, last_name FROM PROF_INFO_TABLE where office = ? COLLATE NOCASE\", (condition[0],))\n",
    "        conn.commit()\n",
    "        answer = cur.fetchall()\n",
    "        \n",
    "    elif intent == \"prof_name_query_research_area\":\n",
    "        cur.execute(\"SELECT title, first_name, last_name FROM PROF_INFO_TABLE INNER JOIN PROF_RESEARCH_AREA_TABLE on PROF_RESEARCH_AREA_TABLE.prof_id = PROF_INFO_TABLE.prof_id WHERE research_area = ? COLLATE NOCASE\", (condition,))\n",
    "        conn.commit()\n",
    "        answer = cur.fetchone()\n",
    "    \n",
    "    elif intent == \"prof_name_query_study\":\n",
    "        cur.execute(\"SELECT title, first_name, last_name FROM PROF_INFO_TABLE INNER JOIN PROF_STUDY_TABLE on PROF_STUDY_TABLE.prof_id = PROF_INFO_TABLE.prof_id WHERE study = ? COLLATE NOCASE\", (condition,))\n",
    "        conn.commit()\n",
    "        answer = cur.fetchone()\n",
    "        \n",
    "    elif intent == \"prof_name_query_lastname\":\n",
    "        cur.execute(\"select last_name FROM PROF_INFO_TABLE where first_name = ? COLLATE NOCASE\", (condition,))\n",
    "        conn.commit()\n",
    "        answer = cur.fetchall()\n",
    "        \n",
    "    elif intent == \"prof_name_query_firstname\":\n",
    "        cur.execute(\"select first_name FROM PROF_INFO_TABLE where last_name = ? COLLATE NOCASE\", (condition,))\n",
    "        conn.commit()\n",
    "        answer = cur.fetchall()\n",
    "        \n",
    "    elif intent == \"prof_telephone_query_name\":\n",
    "        cur.execute(\"select telephone FROM PROF_INFO_TABLE where last_name =? COLLATE NOCASE\", (condition,))\n",
    "        conn.commit()\n",
    "        answer = cur.fetchall()\n",
    "    \n",
    "    elif intent == \"prof_email_query_name\":\n",
    "        cur.execute(\"select email FROM PROF_INFO_TABLE where last_name =? COLLATE NOCASE\", (condition,))\n",
    "        conn.commit()\n",
    "        answer = cur.fetchall()\n",
    "        \n",
    "    elif intent == \"prof_office_query_name\":\n",
    "        cur.execute(\"select office FROM PROF_INFO_TABLE where last_name =? COLLATE NOCASE\", (condition,))\n",
    "        conn.commit()\n",
    "        answer = cur.fetchall()\n",
    "        \n",
    "    elif intent == \"prof_research_area_query_name\":\n",
    "        cur.execute(\"SELECT research_area FROM PROF_RESEARCH_AREA_TABLE INNER JOIN PROF_INFO_TABLE on PROF_INFO_TABLE.prof_id = PROF_RESEARCH_AREA_TABLE.prof_id WHERE last_name = ? COLLATE NOCASE\", (condition,))\n",
    "        conn.commit()\n",
    "        answer = cur.fetchall()\n",
    "        \n",
    "    elif intent == \"prof_study_query_name\":\n",
    "        cur.execute(\"SELECT study FROM PROF_STUDY_TABLE INNER JOIN PROF_INFO_TABLE on PROF_INFO_TABLE.prof_id = PROF_STUDY_TABLE.prof_id WHERE last_name = ? COLLATE NOCASE\", (condition,))\n",
    "        conn.commit()\n",
    "        answer = cur.fetchall()\n",
    "        \n",
    "    \n",
    "    if intent in intent_generic_conversation:\n",
    "        answer = \"generic conversation no data retrieval necessary\"\n",
    "    \n",
    "    return answer"
   ]
  },
  {
   "cell_type": "markdown",
   "id": "3e07cb3f",
   "metadata": {
    "ExecuteTime": {
     "end_time": "2022-02-25T12:35:00.451260Z",
     "start_time": "2022-02-25T12:35:00.437022Z"
    }
   },
   "source": [
    "### 4.5. Response Generation"
   ]
  },
  {
   "cell_type": "markdown",
   "id": "b26ec1e5",
   "metadata": {},
   "source": [
    "Für die Generierung der Antworten des Chatbots werden vordefinierte Muster mit Platzhalter verwendet, die nur noch mit den extrahierten Informationen aus der Eingabe des Nutzers und aus der Datenbank befüllt werden. Hierfür wird zunächst eine json file eingelesen, die für jedes Intent verschiedene vordefinierte Antworten mit Platzhalter enthält. Bei der Ausgabe einer Antwort wird zufällig eine der Antworten gewählt, um zu verhindern, dass der Chatbot immer weider die gleiche Antwort liefert. So soll die Konversation natürlicher und menschlicher wirken. "
   ]
  },
  {
   "cell_type": "code",
   "execution_count": 13,
   "id": "3e412cc4",
   "metadata": {
    "ExecuteTime": {
     "end_time": "2022-03-06T14:48:34.669035Z",
     "start_time": "2022-03-06T14:48:34.655908Z"
    }
   },
   "outputs": [],
   "source": [
    "# open and load json file with responses and intents\n",
    "with open(\"responses.json\") as file:\n",
    "    data = json.load(file)"
   ]
  },
  {
   "cell_type": "code",
   "execution_count": 14,
   "id": "fe0d2835",
   "metadata": {
    "ExecuteTime": {
     "end_time": "2022-03-06T14:48:34.684258Z",
     "start_time": "2022-03-06T14:48:34.671030Z"
    }
   },
   "outputs": [],
   "source": [
    "# get the intent labels and the reponses from the file and save them in a dictionary\n",
    "tags = [] #all intents in the json file\n",
    "resp = []\n",
    "\n",
    "for response in data[\"responses\"]:\n",
    "\n",
    "    if response[\"tag\"] not in tags:\n",
    "        tags.append(response[\"tag\"])\n",
    "\n",
    "    if response[\"sentence\"] not in resp:\n",
    "        resp.append(response[\"sentence\"])\n",
    "        \n",
    "responses_dict = dict(zip(tags, resp))"
   ]
  },
  {
   "cell_type": "code",
   "execution_count": 15,
   "id": "b4a497d0",
   "metadata": {
    "ExecuteTime": {
     "end_time": "2022-03-06T14:48:34.715134Z",
     "start_time": "2022-03-06T14:48:34.687209Z"
    }
   },
   "outputs": [],
   "source": [
    "def reponse_generation(intent, answer, condition):\n",
    "    \n",
    "    if intent == \"greeting\":\n",
    "        responses = responses_dict[\"greeting\"]\n",
    "        final_response = random.choice(responses)\n",
    "    \n",
    "    elif intent == \"greeting_response\":\n",
    "        responses = responses_dict[\"greeting_response\"]\n",
    "        final_response = random.choice(responses)\n",
    "        \n",
    "    elif intent == \"courtesy_greeting\":\n",
    "        responses = responses_dict[\"courtesy_greeting\"]\n",
    "        final_response = random.choice(responses)\n",
    "        \n",
    "    elif intent == \"courtesy_greeting_response\":\n",
    "        responses = responses_dict[\"courtesy_greeting_response\"]\n",
    "        final_response = random.choice(responses)\n",
    "        \n",
    "    elif intent == \"real_name_query\":\n",
    "        responses = responses_dict[\"real_name_query\"]\n",
    "        final_response = random.choice(responses)\n",
    "        \n",
    "    elif intent == \"goodbye\":\n",
    "        responses = responses_dict[\"goodbye\"]\n",
    "        final_response = random.choice(responses)\n",
    "        \n",
    "    elif intent == \"task_response\":\n",
    "        responses = responses_dict[\"task_response\"]\n",
    "        final_response = random.choice(responses)     \n",
    "        \n",
    "    elif intent == \"prof_name_query_lastname\":\n",
    "        responses = responses_dict[\"prof_name_query_lastname\"]\n",
    "        response = random.choice(responses)\n",
    "        new_reponse = response.replace(\"_condition_\", condition) \n",
    "        final_response = new_reponse.replace(\"_answer_\", answer[0][0]) \n",
    "        \n",
    "        #response = \"The last name of \" + condition + \" is \" + answer[0][0]\n",
    "        \n",
    "    elif intent == \"prof_name_query_firstname\":\n",
    "        responses = responses_dict[\"prof_name_query_firstname\"]\n",
    "        response = random.choice(responses)\n",
    "        new_reponse = response.replace(\"_condition_\", condition) \n",
    "        final_response = new_reponse.replace(\"_answer_\", answer[0][0]) \n",
    "       \n",
    "        #final_response = \"The first name of \" + condition + \" is \" + answer[0][0]\n",
    "    \n",
    "    elif intent == \"prof_name_query_telephone\":\n",
    "        responses = responses_dict[\"prof_name_query_telephone\"]\n",
    "        response = random.choice(responses)\n",
    "        new_reponse = response.replace(\"_condition_\", condition[0]) \n",
    "        final_response = new_reponse.replace(\"_answer_\", answer[0][0] + \" \" + answer[0][1] + \" \" + answer[0][2]) \n",
    "        #\"The phone number \" + condition[0] + \" belongs to \" + answer[0][0] + \" \" + answer[0][1] + \" \" + answer[0]\n",
    "        \n",
    "    elif intent == \"prof_name_query_email\": \n",
    "        responses = responses_dict[\"prof_name_query_email\"]\n",
    "        response = random.choice(responses)\n",
    "        new_reponse = response.replace(\"_condition_\", condition[0]) \n",
    "        final_response = new_reponse.replace(\"_answer_\", answer[0][0] + \" \" + answer[0][1] + \" \" + answer[0][2])       \n",
    "        #final_response = \"The email \" + condition[0] + \" belongs to \" + answer[0][0] + \" \" + answer[0][1] + \" \" + answer[0][2]\n",
    "        \n",
    "    elif intent == \"prof_name_query_office\":\n",
    "        responses = responses_dict[\"prof_name_query_office\"]\n",
    "        response = random.choice(responses)\n",
    "        new_reponse = response.replace(\"_condition_\", condition[0]) \n",
    "        final_response = new_reponse.replace(\"_answer_\", answer[0][0] + \" \" + answer[0][1] + \" \" + answer[0][2])      \n",
    "        #final_response = \"The office \" + condition[0] + \" belongs to \" + answer[0][0] + \" \" + answer[0][1] + \" \" + answer[0][2]\n",
    "        \n",
    "    elif intent == \"prof_name_query_research_area\":\n",
    "        responses = responses_dict[\"prof_name_query_research_area\"]\n",
    "        response = random.choice(responses)\n",
    "        new_reponse = response.replace(\"_condition_\", condition) \n",
    "        final_response = new_reponse.replace(\"_answer_\", answer[0] + \" \" + answer[1] + \" \" + answer[2])  \n",
    "        #final_response = answer[0] + \" \" + answer[1] + \" \" + answer[2] +  \" is an expert in \"+ condition\n",
    "    \n",
    "    elif intent == \"prof_name_query_study\":\n",
    "        responses = responses_dict[\"prof_name_query_study\"]\n",
    "        response = random.choice(responses)\n",
    "        new_reponse = response.replace(\"_condition_\", condition) \n",
    "        final_response = new_reponse.replace(\"_answer_\", answer[0] + \" \" + answer[1] + \" \" + answer[2])  \n",
    "        #final_response = answer[0] + \" \" + answer[1] + \" \" + answer[2] + \" is a professor in \"+ condition\n",
    "        \n",
    "    elif intent == \"prof_telephone_query_name\":\n",
    "        responses = responses_dict[\"prof_telephone_query_name\"]\n",
    "        response = random.choice(responses)\n",
    "        new_reponse = response.replace(\"_condition_\", condition) \n",
    "        final_response = new_reponse.replace(\"_answer_\", answer[0][0])  \n",
    "        #final_response = \"The phone number of \" + condition + \" is \" + answer[0][0]\n",
    "    \n",
    "    elif intent == \"prof_email_query_name\":\n",
    "        responses = responses_dict[\"prof_email_query_name\"]\n",
    "        response = random.choice(responses)\n",
    "        new_reponse = response.replace(\"_condition_\", condition) \n",
    "        final_response = new_reponse.replace(\"_answer_\", answer[0][0])  \n",
    "        #final_response = \"The email of \" + condition + \" is \" + answer[0][0]\n",
    "        \n",
    "    elif intent == \"prof_office_query_name\":\n",
    "        responses = responses_dict[\"prof_office_query_name\"]\n",
    "        response = random.choice(responses)\n",
    "        new_reponse = response.replace(\"_condition_\", condition) \n",
    "        final_response = new_reponse.replace(\"_answer_\", answer[0][0])  \n",
    "        #final_response = \"The office of \" + condition + \" is \" + answer[0][0]\n",
    "        \n",
    "    elif intent == \"prof_research_area_query_name\":\n",
    "        new_answer = \"\"\n",
    "        for i in range(len(answer)):\n",
    "            new_answer += answer[i][0] + \", \"\n",
    "            \n",
    "        responses = responses_dict[\"prof_research_area_query_name\"]\n",
    "        response = random.choice(responses)\n",
    "        new_reponse = response.replace(\"_condition_\", condition) \n",
    "        final_response = new_reponse.replace(\"_answer_\", new_answer)  \n",
    "        #final_response = \"The research areas of \" + condition + \" are \" + new_answer\n",
    "        \n",
    "    elif intent == \"prof_study_query_name\":\n",
    "        new_answer = \"\"\n",
    "        for i in range(len(answer)):\n",
    "            new_answer += answer[i][0] + \", \"\n",
    "        \n",
    "        responses = responses_dict[\"prof_study_query_name\"]\n",
    "        response = random.choice(responses)\n",
    "        new_reponse = response.replace(\"_condition_\", condition) \n",
    "        final_response = new_reponse.replace(\"_answer_\", new_answer)  \n",
    "        \n",
    "        #final_response = \"The studies of \" + condition + \" are \" + new_answer\n",
    "        \n",
    "    return final_response"
   ]
  },
  {
   "cell_type": "code",
   "execution_count": 16,
   "id": "41ade47d",
   "metadata": {
    "ExecuteTime": {
     "end_time": "2022-03-06T14:48:34.761434Z",
     "start_time": "2022-03-06T14:48:34.718126Z"
    }
   },
   "outputs": [
    {
     "name": "stdout",
     "output_type": "stream",
     "text": [
      "greeting\n"
     ]
    }
   ],
   "source": [
    "results = model.predict([bag_of_words(\"hello\", words)])[0] #output is just a probability for each label\n",
    "results_index = numpy.argmax(results) #index of greatest value\n",
    "intent = labels[results_index] #output is the most probable label\n",
    "print(intent)"
   ]
  },
  {
   "cell_type": "markdown",
   "id": "92e6ec70",
   "metadata": {},
   "source": [
    "### 4.6. Testen der Action Execution Funktion"
   ]
  },
  {
   "cell_type": "code",
   "execution_count": 17,
   "id": "2d47ca86",
   "metadata": {
    "ExecuteTime": {
     "end_time": "2022-03-06T14:48:34.777402Z",
     "start_time": "2022-03-06T14:48:34.763438Z"
    }
   },
   "outputs": [],
   "source": [
    "def chat():\n",
    "    log = []\n",
    "    print(\"Start talking with me!(type quit to stop):\")\n",
    "    while True:\n",
    "        inp = input(\"You: \")\n",
    "        log.append(inp) #saves all input of user in list\n",
    "        if inp.lower() == \"quit\":\n",
    "            print(\"Goodbye :)\")\n",
    "            break\n",
    "        \n",
    "        # predict the intent\n",
    "        \n",
    "        try:\n",
    "            # predict the intent\n",
    "            results = model.predict([bag_of_words(inp, words)])[0] #output is just a probability for each label\n",
    "            results_index = numpy.argmax(results) #index of greatest value\n",
    "            intent = labels[results_index] #output is the most probable label\n",
    "            #print(intent)\n",
    "            \n",
    "            extracted_info = slot_filling(inp, intent)\n",
    "            #print(extracted_info)\n",
    "            \n",
    "            answer = action_execution_retrieval(intent, extracted_info)\n",
    "            \n",
    "            #print(answer)\n",
    "        \n",
    "            response = reponse_generation(intent, answer, extracted_info)\n",
    "            \n",
    "            \n",
    "            print(response)\n",
    "            \n",
    "        except:\n",
    "            print(\"intent not found\")\n",
    "        \n",
    "        \n",
    "                \n",
    "\n",
    "        \n",
    "       # print(\"condition-->\", extracted_info)\n",
    "        #print(\"answer from db-->\", answer)\n",
    "        \n",
    "\n",
    "\n",
    "    return log # returns list of the inputs"
   ]
  },
  {
   "cell_type": "code",
   "execution_count": 18,
   "id": "5e50fc9e",
   "metadata": {
    "ExecuteTime": {
     "end_time": "2022-03-06T14:49:05.841513Z",
     "start_time": "2022-03-06T14:48:34.780392Z"
    },
    "scrolled": false
   },
   "outputs": [
    {
     "name": "stdout",
     "output_type": "stream",
     "text": [
      "Start talking with me!(type quit to stop):\n",
      "You: which professor is an expert in machine learning\n",
      "Prof. Dr.-Ing. Carsten Lanquillon is an expert in machine learning\n",
      "You: which professor is an expert in machine learning\n",
      "machine learning is one of the research areas of Prof. Dr.-Ing. Carsten Lanquillon\n",
      "You: which professor is an expert in machine learning\n",
      "Prof. Dr.-Ing. Carsten Lanquillon should know a lot about machine learning\n",
      "You: which professor is an expert in machine learning\n",
      "Prof. Dr.-Ing. Carsten Lanquillon should know a lot about machine learning\n",
      "You: quit\n",
      "Goodbye :)\n"
     ]
    },
    {
     "data": {
      "text/plain": [
       "['which professor is an expert in machine learning',\n",
       " 'which professor is an expert in machine learning',\n",
       " 'which professor is an expert in machine learning',\n",
       " 'which professor is an expert in machine learning',\n",
       " 'quit']"
      ]
     },
     "execution_count": 18,
     "metadata": {},
     "output_type": "execute_result"
    }
   ],
   "source": [
    "chat()"
   ]
  },
  {
   "cell_type": "code",
   "execution_count": null,
   "id": "4436f385",
   "metadata": {},
   "outputs": [],
   "source": []
  }
 ],
 "metadata": {
  "kernelspec": {
   "display_name": "prototype",
   "language": "python",
   "name": "prototype"
  },
  "language_info": {
   "codemirror_mode": {
    "name": "ipython",
    "version": 3
   },
   "file_extension": ".py",
   "mimetype": "text/x-python",
   "name": "python",
   "nbconvert_exporter": "python",
   "pygments_lexer": "ipython3",
   "version": "3.6.13"
  },
  "toc": {
   "base_numbering": 1,
   "nav_menu": {},
   "number_sections": true,
   "sideBar": true,
   "skip_h1_title": false,
   "title_cell": "Table of Contents",
   "title_sidebar": "Contents",
   "toc_cell": false,
   "toc_position": {},
   "toc_section_display": true,
   "toc_window_display": false
  }
 },
 "nbformat": 4,
 "nbformat_minor": 5
}
